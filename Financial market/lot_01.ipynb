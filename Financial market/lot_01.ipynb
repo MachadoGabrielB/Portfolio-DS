{
 "cells": [
  {
   "cell_type": "markdown",
   "metadata": {},
   "source": [
    "# CONFERENCIA DA LOTFÁCIL"
   ]
  },
  {
   "cell_type": "markdown",
   "metadata": {},
   "source": [
    "1.0 - Números sorteados e prêmio pago"
   ]
  },
  {
   "cell_type": "code",
   "execution_count": 1,
   "metadata": {},
   "outputs": [],
   "source": [
    "nsort = [10,3,11,18,5,14,19,4,25,7,20,1,23,6,24]"
   ]
  },
  {
   "cell_type": "code",
   "execution_count": 2,
   "metadata": {},
   "outputs": [
    {
     "data": {
      "text/plain": [
       "15"
      ]
     },
     "execution_count": 2,
     "metadata": {},
     "output_type": "execute_result"
    }
   ],
   "source": [
    "len(nsort)"
   ]
  },
  {
   "cell_type": "code",
   "execution_count": 3,
   "metadata": {},
   "outputs": [],
   "source": [
    "premio_pago = {\n",
    "    '11': 6,\n",
    "    '12': 12,\n",
    "    '13': 30,\n",
    "    '14': 1755.69,\n",
    "    '15': 2955552.77\n",
    "    }"
   ]
  },
  {
   "cell_type": "markdown",
   "metadata": {},
   "source": [
    "2.0 Jogos"
   ]
  },
  {
   "cell_type": "code",
   "execution_count": 4,
   "metadata": {},
   "outputs": [],
   "source": [
    "\n",
    "bill_1 = {'1':[1,3,5,6,7,8,15,16,17,18,19,20,21,22,23,24],\n",
    "          '2':[1,2,5,8,9,10,13,14,15,16,18,20,21,22,23,24],\n",
    "          '3':[1,2,3,5,6,7,9,12,13,14,16,17,20,22,23,25],\n",
    "          '4':[1,3,4,5,6,8,10,11,12,15,17,19,22,23,24,25],\n",
    "          '5':[3,6,8,9,10,12,13,14,15,16,18,19,20,21,23,24],\n",
    "          '6':[2,3,4,7,8,9,12,13,16,18,19,20,21,22,24,25],\n",
    "          '7':[1,2,3,4,5,7,10,12,16,17,18,19,20,21,23,25],\n",
    "          '8':[1,2,3,4,5,7,8,12,16,17,18,20,21,23,24,25],\n",
    "          '9':[1,2,4,5,6,7,8,9,10,11,12,14,15,16,18,22],\n",
    "          '10':[1,2,4,5,7,8,10,11,12,13,14,16,17,20,22,25]\n",
    "          }"
   ]
  },
  {
   "cell_type": "code",
   "execution_count": 5,
   "metadata": {},
   "outputs": [
    {
     "name": "stdout",
     "output_type": "stream",
     "text": [
      "16\n",
      "16\n",
      "16\n",
      "16\n",
      "16\n",
      "16\n",
      "16\n",
      "16\n",
      "16\n",
      "16\n"
     ]
    }
   ],
   "source": [
    "for a in bill_1:\n",
    "    print(len(bill_1[a]))"
   ]
  },
  {
   "cell_type": "code",
   "execution_count": 6,
   "metadata": {},
   "outputs": [],
   "source": [
    "bill_2 = {'1':[3,4,5,6,10,12,13,14,16,17,18,20,21,22,24,25],\n",
    "          '2':[3,6,7,8,9,10,11,13,14,17,18,20,21,22,23,24],\n",
    "          '3':[1,2,3,4,7,8,9,10,15,18,20,21,22,23,24,25],\n",
    "          '4':[1,4,6,7,8,9,10,11,12,13,16,17,19,21,23,25],\n",
    "          '5':[1,3,4,5,7,8,11,12,13,14,16,17,18,19,20,25],\n",
    "          '6':[1,2,4,6,7,9,10,11,12,13,15,16,19,21,24,25],\n",
    "          '7':[1,5,7,8,9,12,14,16,17,19,20,21,22,23,24,25],\n",
    "          '8':[1,2,4,6,10,11,12,13,15,16,18,19,20,21,24,25],\n",
    "          '9':[1,4,6,9,10,11,13,14,15,16,18,19,20,23,24,25],\n",
    "          '10':[1,2,3,7,8,9,10,11,12,13,14,16,17,20,22,24]\n",
    "          }"
   ]
  },
  {
   "cell_type": "code",
   "execution_count": 7,
   "metadata": {},
   "outputs": [
    {
     "name": "stdout",
     "output_type": "stream",
     "text": [
      "16\n",
      "16\n",
      "16\n",
      "16\n",
      "16\n",
      "16\n",
      "16\n",
      "16\n",
      "16\n",
      "16\n"
     ]
    }
   ],
   "source": [
    "for a in bill_2:\n",
    "    print(len(bill_1[a]))"
   ]
  },
  {
   "cell_type": "code",
   "execution_count": 8,
   "metadata": {},
   "outputs": [],
   "source": [
    "bill_3 = {'1':[3,5,7,10,11,12,13,14,15,16,18,19,20,22,23,24],\n",
    "          '2':[1,2,3,4,5,6,9,10,11,14,16,19,21,23,24,25],\n",
    "          '3':[2,3,4,5,6,8,12,15,16,17,18,19,20,22,23,24],\n",
    "          '4':[1,3,4,6,9,10,11,13,14,15,16,17,18,21,23,24]\n",
    "          }"
   ]
  },
  {
   "cell_type": "code",
   "execution_count": 9,
   "metadata": {},
   "outputs": [
    {
     "name": "stdout",
     "output_type": "stream",
     "text": [
      "16\n",
      "16\n",
      "16\n",
      "16\n"
     ]
    }
   ],
   "source": [
    "for a in bill_3:\n",
    "    print(len(bill_1[a]))"
   ]
  },
  {
   "cell_type": "code",
   "execution_count": 10,
   "metadata": {},
   "outputs": [],
   "source": [
    "bill_4 = {'1':[1,2,3,4,5,6,7,8,9,10,11,12,13,14,15]\n",
    "          }"
   ]
  },
  {
   "cell_type": "code",
   "execution_count": 11,
   "metadata": {},
   "outputs": [],
   "source": [
    "nsortt = [1,2,3,4,5,6,7,8,9,10,11,12,13,14,15]"
   ]
  },
  {
   "cell_type": "markdown",
   "metadata": {},
   "source": [
    "3.0 Função de conferência"
   ]
  },
  {
   "cell_type": "code",
   "execution_count": 10,
   "metadata": {},
   "outputs": [],
   "source": [
    "def conferencia(sorteio,aposta):\n",
    "    conf = {}\n",
    "    for x in aposta:\n",
    "        counter = 0\n",
    "        for y in aposta[x]:\n",
    "            for z in sorteio:\n",
    "                if z == y:\n",
    "                    counter += 1\n",
    "        conf[x] = counter \n",
    "    print(conf)"
   ]
  },
  {
   "cell_type": "markdown",
   "metadata": {},
   "source": [
    "3.1 Conferência jogos"
   ]
  },
  {
   "cell_type": "code",
   "execution_count": 11,
   "metadata": {},
   "outputs": [
    {
     "name": "stdout",
     "output_type": "stream",
     "text": [
      "{'1': 10, '2': 8, '3': 9, '4': 11, '5': 9, '6': 8, '7': 11, '8': 10, '9': 9, '10': 9}\n"
     ]
    }
   ],
   "source": [
    "conf_bill_1 = conferencia(nsort,bill_1)\n"
   ]
  },
  {
   "cell_type": "code",
   "execution_count": 12,
   "metadata": {},
   "outputs": [
    {
     "name": "stdout",
     "output_type": "stream",
     "text": [
      "{'1': 10, '2': 10, '3': 10, '4': 9, '5': 11, '6': 9, '7': 9, '8': 10, '9': 12, '10': 8}\n"
     ]
    }
   ],
   "source": [
    "conf_bill_2 = conferencia(nsort,bill_2)"
   ]
  },
  {
   "cell_type": "code",
   "execution_count": 13,
   "metadata": {},
   "outputs": [
    {
     "name": "stdout",
     "output_type": "stream",
     "text": [
      "{'1': 11, '2': 12, '3': 9, '4': 10}\n"
     ]
    }
   ],
   "source": [
    "conf_bill_3 = conferencia(nsort,bill_3)"
   ]
  },
  {
   "cell_type": "markdown",
   "metadata": {},
   "source": [
    "4.0 Função de cálculo de prêmio"
   ]
  },
  {
   "cell_type": "code",
   "execution_count": 14,
   "metadata": {},
   "outputs": [],
   "source": [
    "# Calculando prêmio pra 16 números\n",
    "\n",
    "def resultado_16 (resultado):\n",
    "\n",
    "    if resultado == 11:\n",
    "        premio_real = 5 * premio_pago['11']\n",
    "    elif resultado == 12:\n",
    "        premio_real = (4 * premio_pago['12']) + (12 * premio_pago['11'])\n",
    "    elif resultado == 13:\n",
    "        premio_real = (3 * premio_pago['13']) + (13 * premio_pago['12'])\n",
    "    elif resultado == 14:\n",
    "        premio_real = (2 * premio_pago['14']) + (14 * premio_pago['13'])\n",
    "    elif resultado == 15:\n",
    "        premio_real = (1 * premio_pago['15']) + (15 * premio_pago['14'])\n",
    "\n",
    "    print(premio_real)\n",
    "\n"
   ]
  },
  {
   "cell_type": "code",
   "execution_count": 16,
   "metadata": {},
   "outputs": [],
   "source": [
    "def conferencia(sorteio,aposta):\n",
    "    conf = {}\n",
    "    premio_total_aposta = 0\n",
    "    for x in aposta:\n",
    "        counter = 0\n",
    "        for y in aposta[x]:\n",
    "            for z in sorteio:\n",
    "                if z == y:\n",
    "                    counter += 1\n",
    "        conf[x] = counter \n",
    "    print(conf)\n",
    "    \n",
    "    for j in conf:\n",
    "        # print(j)\n",
    "        # print(conf[j])\n",
    "        premio_real = 0\n",
    "        if conf[j] == 11:\n",
    "            premio_real = 5 * premio_pago['11']\n",
    "        elif conf[j] == 12:\n",
    "            premio_real = (4 * premio_pago['12']) + (12 * premio_pago['11'])\n",
    "        elif conf[j] == 13:\n",
    "            premio_real = (3 * premio_pago['13']) + (13 * premio_pago['12'])\n",
    "        elif conf[j] == 14:\n",
    "            premio_real = (2 * premio_pago['14']) + (14 * premio_pago['13'])\n",
    "        elif conf[j] == 15:\n",
    "            premio_real = (1 * premio_pago['15']) + (15 * premio_pago['14'])\n",
    "        premio_total_aposta += premio_real\n",
    "        # print(premio_real)\n",
    "        # print(premio_total_aposta)\n",
    "    print(premio_total_aposta)"
   ]
  },
  {
   "cell_type": "code",
   "execution_count": 17,
   "metadata": {},
   "outputs": [
    {
     "name": "stdout",
     "output_type": "stream",
     "text": [
      "{'1': 10, '2': 8, '3': 9, '4': 11, '5': 9, '6': 8, '7': 11, '8': 10, '9': 9, '10': 9}\n",
      "60\n"
     ]
    }
   ],
   "source": [
    "conf_bill_1 = conferencia(nsort,bill_1)"
   ]
  },
  {
   "cell_type": "code",
   "execution_count": 18,
   "metadata": {},
   "outputs": [
    {
     "name": "stdout",
     "output_type": "stream",
     "text": [
      "{'1': 10, '2': 10, '3': 10, '4': 9, '5': 11, '6': 9, '7': 9, '8': 10, '9': 12, '10': 8}\n",
      "150\n"
     ]
    }
   ],
   "source": [
    "conf_bill_2 = conferencia(nsort,bill_2)"
   ]
  },
  {
   "cell_type": "code",
   "execution_count": 19,
   "metadata": {},
   "outputs": [
    {
     "name": "stdout",
     "output_type": "stream",
     "text": [
      "{'1': 11, '2': 12, '3': 9, '4': 10}\n",
      "150\n"
     ]
    }
   ],
   "source": [
    "conf_bill_3 = conferencia(nsort,bill_3)"
   ]
  }
 ],
 "metadata": {
  "kernelspec": {
   "display_name": "Python 3",
   "language": "python",
   "name": "python3"
  },
  "language_info": {
   "codemirror_mode": {
    "name": "ipython",
    "version": 3
   },
   "file_extension": ".py",
   "mimetype": "text/x-python",
   "name": "python",
   "nbconvert_exporter": "python",
   "pygments_lexer": "ipython3",
   "version": "3.10.0"
  },
  "orig_nbformat": 4
 },
 "nbformat": 4,
 "nbformat_minor": 2
}
