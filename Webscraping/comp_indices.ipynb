{
 "cells": [
  {
   "cell_type": "markdown",
   "metadata": {},
   "source": [
    "### Importando bibliotecas"
   ]
  },
  {
   "cell_type": "code",
   "execution_count": 1,
   "metadata": {},
   "outputs": [],
   "source": [
    "from selenium import webdriver\n",
    "from selenium.webdriver.common.by import By\n",
    "from selenium.webdriver.common.action_chains import ActionChains\n",
    "\n",
    "import pandas as pd\n",
    "from io import StringIO"
   ]
  },
  {
   "cell_type": "markdown",
   "metadata": {},
   "source": [
    "### URL de alguns indices da B3"
   ]
  },
  {
   "cell_type": "code",
   "execution_count": 2,
   "metadata": {},
   "outputs": [],
   "source": [
    "# Ibovespa\n",
    "url_ibov = 'https://sistemaswebb3-listados.b3.com.br/indexPage/day/IBOV?language=pt-br'\n",
    "# Ibovespa + BDR\n",
    "url_ibovplus = 'https://sistemaswebb3-listados.b3.com.br/indexPage/day/IBBR?language=pt-br'\n",
    "# Ibovespa Amplo\n",
    "url_ibramplo = 'https://sistemaswebb3-listados.b3.com.br/indexPage/day/IBRA?language=pt-br'\n",
    "# IBRX 100\n",
    "url_ibrx100 = 'https://sistemaswebb3-listados.b3.com.br/indexPage/day/IBXX?language=pt-br'\n",
    "# IBRX 50\n",
    "url_ibrx50 = 'https://sistemaswebb3-listados.b3.com.br/indexPage/day/IBXL?language=pt-br'\n",
    "# fundos imobiliários\n",
    "url_ifix = 'https://sistemaswebb3-listados.b3.com.br/indexPage/day/IFIX?language=pt-br'"
   ]
  },
  {
   "cell_type": "markdown",
   "metadata": {},
   "source": [
    "### Captura de dados e tratamento do DataFrame"
   ]
  },
  {
   "cell_type": "code",
   "execution_count": 7,
   "metadata": {},
   "outputs": [],
   "source": [
    "driver = webdriver.Chrome()\n",
    "\n",
    "# acessando url\n",
    "driver.get(url_ibov)\n",
    "\n",
    "# determinando implicitly wait de 10 segundos\n",
    "driver.implicitly_wait(time_to_wait= 10)\n",
    "\n",
    "# mudando página de 20 para 120 \n",
    "select_page = driver.find_element(By.ID, 'selectPage')\n",
    "option_120 = driver.find_element(By.XPATH, '//*[@id=\"selectPage\"]/option[contains(text(), \"120\")]')\n",
    "ActionChains(driver).move_to_element(select_page).pause(1).click(select_page).pause(1).perform()\n",
    "option_120.click()\n",
    "ActionChains(driver).pause(2).perform()\n",
    "\n",
    "dados_coletados = []\n",
    "\n",
    "while True:\n",
    "    try:\n",
    "\n",
    "        # capturando dados da tabela e transformando em DataFrame\n",
    "        df = pd.read_html(io= StringIO(driver.page_source))\n",
    "        df = df[0]\n",
    "\n",
    "        # tratando dados do DataFrame\n",
    "        # Retira as últimas duas linhas\n",
    "        df = df[:-2]\n",
    "        # Transformando os valores percentuais\n",
    "        df['Part. (%)'] = df['Part. (%)'].apply(lambda x: float(str(x).replace(',', '.'))) / 100000\n",
    "\n",
    "        # adicionando DataFrame a lista vazia\n",
    "        dados_coletados.append(df)\n",
    "\n",
    "        # próxima página\n",
    "        proxima_pagina = driver.find_element(By.CSS_SELECTOR, 'li > a[aria-label=\" page\"]')\n",
    "        proxima_pagina.click()\n",
    "\n",
    "    except:\n",
    "        break\n",
    "\n",
    "# Concatenando DataFrames\n",
    "df_final = pd.concat(dados_coletados)\n",
    "\n",
    "# fechando o driver\n",
    "driver.close()"
   ]
  },
  {
   "cell_type": "code",
   "execution_count": 10,
   "metadata": {},
   "outputs": [
    {
     "data": {
      "text/html": [
       "<div>\n",
       "<style scoped>\n",
       "    .dataframe tbody tr th:only-of-type {\n",
       "        vertical-align: middle;\n",
       "    }\n",
       "\n",
       "    .dataframe tbody tr th {\n",
       "        vertical-align: top;\n",
       "    }\n",
       "\n",
       "    .dataframe thead th {\n",
       "        text-align: right;\n",
       "    }\n",
       "</style>\n",
       "<table border=\"1\" class=\"dataframe\">\n",
       "  <thead>\n",
       "    <tr style=\"text-align: right;\">\n",
       "      <th></th>\n",
       "      <th>Código</th>\n",
       "      <th>Ação</th>\n",
       "      <th>Tipo</th>\n",
       "      <th>Qtde. Teórica</th>\n",
       "      <th>Part. (%)</th>\n",
       "    </tr>\n",
       "  </thead>\n",
       "  <tbody>\n",
       "    <tr>\n",
       "      <th>0</th>\n",
       "      <td>ALOS3</td>\n",
       "      <td>ALLOS</td>\n",
       "      <td>ON NM</td>\n",
       "      <td>502.481.592</td>\n",
       "      <td>0.00520</td>\n",
       "    </tr>\n",
       "    <tr>\n",
       "      <th>1</th>\n",
       "      <td>ALPA4</td>\n",
       "      <td>ALPARGATAS</td>\n",
       "      <td>PN N1</td>\n",
       "      <td>166.460.180</td>\n",
       "      <td>0.00054</td>\n",
       "    </tr>\n",
       "    <tr>\n",
       "      <th>2</th>\n",
       "      <td>ABEV3</td>\n",
       "      <td>AMBEV S/A</td>\n",
       "      <td>ON</td>\n",
       "      <td>4.394.835.131</td>\n",
       "      <td>0.02624</td>\n",
       "    </tr>\n",
       "    <tr>\n",
       "      <th>3</th>\n",
       "      <td>ASAI3</td>\n",
       "      <td>ASSAI</td>\n",
       "      <td>ON NM</td>\n",
       "      <td>1.349.687.675</td>\n",
       "      <td>0.00542</td>\n",
       "    </tr>\n",
       "    <tr>\n",
       "      <th>4</th>\n",
       "      <td>AURE3</td>\n",
       "      <td>AUREN</td>\n",
       "      <td>ON NM</td>\n",
       "      <td>291.727.616</td>\n",
       "      <td>0.00147</td>\n",
       "    </tr>\n",
       "  </tbody>\n",
       "</table>\n",
       "</div>"
      ],
      "text/plain": [
       "  Código        Ação   Tipo  Qtde. Teórica  Part. (%)\n",
       "0  ALOS3       ALLOS  ON NM    502.481.592    0.00520\n",
       "1  ALPA4  ALPARGATAS  PN N1    166.460.180    0.00054\n",
       "2  ABEV3   AMBEV S/A     ON  4.394.835.131    0.02624\n",
       "3  ASAI3       ASSAI  ON NM  1.349.687.675    0.00542\n",
       "4  AURE3       AUREN  ON NM    291.727.616    0.00147"
      ]
     },
     "execution_count": 10,
     "metadata": {},
     "output_type": "execute_result"
    }
   ],
   "source": [
    "df.head()"
   ]
  },
  {
   "cell_type": "code",
   "execution_count": 8,
   "metadata": {},
   "outputs": [
    {
     "name": "stdout",
     "output_type": "stream",
     "text": [
      "<class 'pandas.core.frame.DataFrame'>\n",
      "RangeIndex: 86 entries, 0 to 85\n",
      "Data columns (total 5 columns):\n",
      " #   Column         Non-Null Count  Dtype  \n",
      "---  ------         --------------  -----  \n",
      " 0   Código         86 non-null     object \n",
      " 1   Ação           86 non-null     object \n",
      " 2   Tipo           86 non-null     object \n",
      " 3   Qtde. Teórica  86 non-null     object \n",
      " 4   Part. (%)      86 non-null     float64\n",
      "dtypes: float64(1), object(4)\n",
      "memory usage: 3.5+ KB\n"
     ]
    }
   ],
   "source": [
    "df_final.info()"
   ]
  },
  {
   "cell_type": "code",
   "execution_count": 9,
   "metadata": {},
   "outputs": [
    {
     "data": {
      "text/plain": [
       "0.9999999999999999"
      ]
     },
     "execution_count": 9,
     "metadata": {},
     "output_type": "execute_result"
    }
   ],
   "source": [
    "df_final['Part. (%)'].sum()"
   ]
  },
  {
   "cell_type": "markdown",
   "metadata": {},
   "source": [
    "### Salvando DataFrame"
   ]
  },
  {
   "cell_type": "code",
   "execution_count": null,
   "metadata": {},
   "outputs": [],
   "source": [
    "# # salvando em csv\n",
    "# df.to_csv('df.csv', index= False)"
   ]
  }
 ],
 "metadata": {
  "kernelspec": {
   "display_name": "Python 3",
   "language": "python",
   "name": "python3"
  },
  "language_info": {
   "codemirror_mode": {
    "name": "ipython",
    "version": 3
   },
   "file_extension": ".py",
   "mimetype": "text/x-python",
   "name": "python",
   "nbconvert_exporter": "python",
   "pygments_lexer": "ipython3",
   "version": "3.10.0"
  }
 },
 "nbformat": 4,
 "nbformat_minor": 2
}
