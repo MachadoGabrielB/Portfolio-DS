{
 "cells": [
  {
   "attachments": {},
   "cell_type": "markdown",
   "metadata": {},
   "source": [
    "1. Liste todas as cidades e os países aos quais pertencem.\n",
    "2. Liste todas as cidades que são capitais.\n",
    "3. Liste todos os atributos dos países onde a expectativa de vida é menor que 70 anos.\n",
    "4. Liste todas as capitais e as populações dos países cujos PIB é maior que 1 trilhão de dólares.\n",
    "5. Quais é o nome e a população da capital do país onde o rio St. Lawrence tem sua nascente.\n",
    "6. Qual é a média da população das cidades que não são capitais.\n",
    "7. Para cada continente retorne o PIB médio de seus países.\n",
    "8. Para cada país onde pelo menos 2 rios tem nascente, encontre o comprimento do menor rio.\n",
    "9. Liste os países cujo PIB é maior que o PIB do Canada."
   ]
  },
  {
   "cell_type": "code",
   "execution_count": 1,
   "metadata": {},
   "outputs": [],
   "source": [
    "import sqlite3"
   ]
  },
  {
   "cell_type": "code",
   "execution_count": 2,
   "metadata": {},
   "outputs": [],
   "source": [
    "pais_table =    '''CREATE TABLE IF NOT EXISTS Pais(\n",
    "                Nome varchar(35) PRIMARY KEY,\n",
    "                Continente varchar(35), \n",
    "                Pop real, \n",
    "                PIB real, \n",
    "                Expec_vida real\n",
    "                )\n",
    "                '''\n",
    "cidade_table =  '''CREATE TABLE IF NOT EXISTS Cidade(\n",
    "                Nome varchar(35) PRIMARY KEY,\n",
    "                Pais varchar(35) REFERENCES Pais (Nome),\n",
    "                Pop real, \n",
    "                Capital varchar(1))\n",
    "                '''\n",
    "rio_table =     '''CREATE TABLE IF NOT EXISTS Rio(\n",
    "                Nome varchar(35),\n",
    "                Nascente TEXT,\n",
    "                Pais TEXT, \n",
    "                Comprimento REAL\n",
    "                )'''\n"
   ]
  },
  {
   "cell_type": "code",
   "execution_count": 3,
   "metadata": {},
   "outputs": [],
   "source": [
    "engine = sqlite3.connect('sql.db')"
   ]
  },
  {
   "cell_type": "code",
   "execution_count": 4,
   "metadata": {},
   "outputs": [
    {
     "data": {
      "text/plain": [
       "[]"
      ]
     },
     "execution_count": 4,
     "metadata": {},
     "output_type": "execute_result"
    }
   ],
   "source": [
    "cursor = engine.cursor()\n",
    "\n",
    "cursor.execute(\"PRAGMA foreign_keys = ON\").fetchall()"
   ]
  },
  {
   "cell_type": "code",
   "execution_count": 5,
   "metadata": {},
   "outputs": [
    {
     "data": {
      "text/plain": [
       "<sqlite3.Cursor at 0x1ec008d60a0>"
      ]
     },
     "execution_count": 5,
     "metadata": {},
     "output_type": "execute_result"
    }
   ],
   "source": [
    "cursor.execute(pais_table)"
   ]
  },
  {
   "cell_type": "code",
   "execution_count": 6,
   "metadata": {},
   "outputs": [
    {
     "data": {
      "text/plain": [
       "<sqlite3.Cursor at 0x1ec008d60a0>"
      ]
     },
     "execution_count": 6,
     "metadata": {},
     "output_type": "execute_result"
    }
   ],
   "source": [
    "cursor.execute(cidade_table)"
   ]
  },
  {
   "cell_type": "code",
   "execution_count": 7,
   "metadata": {},
   "outputs": [
    {
     "data": {
      "text/plain": [
       "<sqlite3.Cursor at 0x1ec008d60a0>"
      ]
     },
     "execution_count": 7,
     "metadata": {},
     "output_type": "execute_result"
    }
   ],
   "source": [
    "cursor.execute(rio_table)"
   ]
  },
  {
   "cell_type": "code",
   "execution_count": 8,
   "metadata": {},
   "outputs": [],
   "source": [
    "values_pais = [('Canada', 'Am. Norte', 30.1, 658, 77.08),('Mexico', 'Am. Norte', 107.5,694, 69.1),('Brasil', 'Am. Sul', 183.3, 10004, 65.2),('USA', 'Am. Norte', 270.0, 8003, 75.5)]"
   ]
  },
  {
   "cell_type": "code",
   "execution_count": 9,
   "metadata": {},
   "outputs": [],
   "source": [
    "values_cidades = [('Washington', 'USA', 3.3, 'S'), ('Monterrey','Mexico',2.0, 'N'), ('Brasilia', 'Brasil', 1.5, 'S'), ('São Paulo', 'Brasil', 15.0, 'N'), ('Ottawa', 'Canada', 0.8, 'S'), ('Cid. Mexico', 'Mexico', 14.1, 'S')]"
   ]
  },
  {
   "cell_type": "code",
   "execution_count": 10,
   "metadata": {},
   "outputs": [],
   "source": [
    "rio_values = [('St.Lawrence', 'USA', 'USA', 3.3), ('Grande', 'USA', 'Mexico', 2.0), ('Parana', 'Brasil', 'Brasil', 1.5), ('Mississipi', 'USA', 'USA', 15.0)]"
   ]
  },
  {
   "cell_type": "code",
   "execution_count": 11,
   "metadata": {},
   "outputs": [
    {
     "data": {
      "text/plain": [
       "<sqlite3.Cursor at 0x1ec008d60a0>"
      ]
     },
     "execution_count": 11,
     "metadata": {},
     "output_type": "execute_result"
    }
   ],
   "source": [
    "cursor.executemany('INSERT INTO Pais VALUES(?,?,?,?,?)', values_pais)"
   ]
  },
  {
   "cell_type": "code",
   "execution_count": 12,
   "metadata": {},
   "outputs": [
    {
     "data": {
      "text/plain": [
       "[('Canada', 'Am. Norte', 30.1, 658.0, 77.08),\n",
       " ('Mexico', 'Am. Norte', 107.5, 694.0, 69.1),\n",
       " ('Brasil', 'Am. Sul', 183.3, 10004.0, 65.2),\n",
       " ('USA', 'Am. Norte', 270.0, 8003.0, 75.5)]"
      ]
     },
     "execution_count": 12,
     "metadata": {},
     "output_type": "execute_result"
    }
   ],
   "source": [
    "cursor.execute('SELECT * FROM Pais').fetchall()"
   ]
  },
  {
   "cell_type": "code",
   "execution_count": 13,
   "metadata": {},
   "outputs": [
    {
     "data": {
      "text/plain": [
       "<sqlite3.Cursor at 0x1ec008d60a0>"
      ]
     },
     "execution_count": 13,
     "metadata": {},
     "output_type": "execute_result"
    }
   ],
   "source": [
    "cursor.executemany('INSERT INTO Cidade VALUES(?,?,?,?)', values_cidades)"
   ]
  },
  {
   "cell_type": "code",
   "execution_count": 14,
   "metadata": {},
   "outputs": [
    {
     "data": {
      "text/plain": [
       "[('Washington', 'USA', 3.3, 'S'),\n",
       " ('Monterrey', 'Mexico', 2.0, 'N'),\n",
       " ('Brasilia', 'Brasil', 1.5, 'S'),\n",
       " ('São Paulo', 'Brasil', 15.0, 'N'),\n",
       " ('Ottawa', 'Canada', 0.8, 'S'),\n",
       " ('Cid. Mexico', 'Mexico', 14.1, 'S')]"
      ]
     },
     "execution_count": 14,
     "metadata": {},
     "output_type": "execute_result"
    }
   ],
   "source": [
    "cursor.execute('SELECT * FROM Cidade').fetchall()"
   ]
  },
  {
   "cell_type": "code",
   "execution_count": 15,
   "metadata": {},
   "outputs": [
    {
     "data": {
      "text/plain": [
       "<sqlite3.Cursor at 0x1ec008d60a0>"
      ]
     },
     "execution_count": 15,
     "metadata": {},
     "output_type": "execute_result"
    }
   ],
   "source": [
    "cursor.executemany('INSERT INTO Rio VALUES(?,?,?,?)', rio_values)"
   ]
  },
  {
   "cell_type": "code",
   "execution_count": 16,
   "metadata": {},
   "outputs": [
    {
     "data": {
      "text/plain": [
       "[('St.Lawrence', 'USA', 'USA', 3.3),\n",
       " ('Grande', 'USA', 'Mexico', 2.0),\n",
       " ('Parana', 'Brasil', 'Brasil', 1.5),\n",
       " ('Mississipi', 'USA', 'USA', 15.0)]"
      ]
     },
     "execution_count": 16,
     "metadata": {},
     "output_type": "execute_result"
    }
   ],
   "source": [
    "cursor.execute('SELECT * FROM Rio').fetchall()"
   ]
  },
  {
   "attachments": {},
   "cell_type": "markdown",
   "metadata": {},
   "source": [
    "## 1. Liste todas as cidades e os países aos quais pertencem."
   ]
  },
  {
   "cell_type": "code",
   "execution_count": 18,
   "metadata": {},
   "outputs": [
    {
     "data": {
      "text/plain": [
       "[('Washington', 'USA'),\n",
       " ('Monterrey', 'Mexico'),\n",
       " ('Brasilia', 'Brasil'),\n",
       " ('São Paulo', 'Brasil'),\n",
       " ('Ottawa', 'Canada'),\n",
       " ('Cid. Mexico', 'Mexico')]"
      ]
     },
     "execution_count": 18,
     "metadata": {},
     "output_type": "execute_result"
    }
   ],
   "source": [
    "sql_str1 = '''SELECT Nome, Pais\n",
    "FROM Cidade'''\n",
    "cursor.execute(sql_str1).fetchall()"
   ]
  },
  {
   "attachments": {},
   "cell_type": "markdown",
   "metadata": {},
   "source": [
    "## 2. Liste todas as cidades que são capitais."
   ]
  },
  {
   "cell_type": "code",
   "execution_count": 19,
   "metadata": {},
   "outputs": [
    {
     "data": {
      "text/plain": [
       "[('Washington',), ('Brasilia',), ('Ottawa',), ('Cid. Mexico',)]"
      ]
     },
     "execution_count": 19,
     "metadata": {},
     "output_type": "execute_result"
    }
   ],
   "source": [
    "sql_str2 = '''SELECT Nome\n",
    "FROM Cidade\n",
    "WHERE Capital = \"S\"\n",
    "'''\n",
    "cursor.execute(sql_str2).fetchall()"
   ]
  },
  {
   "attachments": {},
   "cell_type": "markdown",
   "metadata": {},
   "source": [
    "## 3. Liste todos os atributos dos países onde a expectativa de vida é menor que 70 anos."
   ]
  },
  {
   "cell_type": "code",
   "execution_count": 20,
   "metadata": {},
   "outputs": [
    {
     "data": {
      "text/plain": [
       "[('Mexico', 'Am. Norte', 107.5, 694.0, 69.1),\n",
       " ('Brasil', 'Am. Sul', 183.3, 10004.0, 65.2)]"
      ]
     },
     "execution_count": 20,
     "metadata": {},
     "output_type": "execute_result"
    }
   ],
   "source": [
    "sql_str3 = '''SELECT *\n",
    "FROM Pais\n",
    "WHERE Expec_vida < 70\n",
    "'''\n",
    "cursor.execute(sql_str3).fetchall()"
   ]
  },
  {
   "attachments": {},
   "cell_type": "markdown",
   "metadata": {},
   "source": [
    "## 4. Liste todas as capitais e as populações dos países cujos PIB é maior que 1 trilhão de dólares."
   ]
  },
  {
   "cell_type": "code",
   "execution_count": 22,
   "metadata": {},
   "outputs": [
    {
     "data": {
      "text/plain": [
       "[('Washington', 270.0), ('Brasilia', 183.3)]"
      ]
     },
     "execution_count": 22,
     "metadata": {},
     "output_type": "execute_result"
    }
   ],
   "source": [
    "sql_str4 = '''SELECT Cidade.Nome, Pais.Pop\n",
    "FROM Pais\n",
    "LEFT JOIN Cidade\n",
    "ON Pais.Nome = Cidade.Pais\n",
    "WHERE Pais.Pib > 1000\n",
    "AND Cidade.Capital = 'S'\n",
    "'''\n",
    "cursor.execute(sql_str4).fetchall()"
   ]
  },
  {
   "attachments": {},
   "cell_type": "markdown",
   "metadata": {},
   "source": [
    "## 5. Qual é o nome e a população da capital do país onde o rio St. Lawrence tem sua nascente."
   ]
  },
  {
   "cell_type": "code",
   "execution_count": 24,
   "metadata": {},
   "outputs": [
    {
     "data": {
      "text/plain": [
       "[('Washington', 3.3)]"
      ]
     },
     "execution_count": 24,
     "metadata": {},
     "output_type": "execute_result"
    }
   ],
   "source": [
    "sql_str5 =  '''SELECT Cidade.Nome, Cidade.Pop\n",
    "            FROM Cidade\n",
    "            LEFT JOIN Rio\n",
    "            ON Cidade.Pais = Rio.Nascente\n",
    "            WHERE Rio.Nome = 'St.Lawrence'\n",
    "            '''\n",
    "cursor.execute(sql_str5).fetchall()"
   ]
  },
  {
   "attachments": {},
   "cell_type": "markdown",
   "metadata": {},
   "source": [
    "## 6. Qual é a média da população das cidades que não são capitais."
   ]
  },
  {
   "cell_type": "code",
   "execution_count": 26,
   "metadata": {},
   "outputs": [
    {
     "data": {
      "text/plain": [
       "[(8.5,)]"
      ]
     },
     "execution_count": 26,
     "metadata": {},
     "output_type": "execute_result"
    }
   ],
   "source": [
    "sql_str6 =  '''SELECT avg(Cidade.Pop)\n",
    "            FROM Cidade\n",
    "            WHERE Cidade.Capital = \"N\"\n",
    "            '''\n",
    "cursor.execute(sql_str6).fetchall()"
   ]
  },
  {
   "attachments": {},
   "cell_type": "markdown",
   "metadata": {},
   "source": [
    "## 7. Para cada continente retorne o PIB médio de seus países."
   ]
  },
  {
   "cell_type": "code",
   "execution_count": 27,
   "metadata": {},
   "outputs": [
    {
     "data": {
      "text/plain": [
       "[(3118.3333333333335,), (10004.0,)]"
      ]
     },
     "execution_count": 27,
     "metadata": {},
     "output_type": "execute_result"
    }
   ],
   "source": [
    "sql_str7 =  '''SELECT avg(Pais.Pib)\n",
    "            FROM Pais\n",
    "            GROUP BY Continente\n",
    "            '''\n",
    "cursor.execute(sql_str7).fetchall()"
   ]
  },
  {
   "attachments": {},
   "cell_type": "markdown",
   "metadata": {},
   "source": [
    "## 8. Para cada país onde pelo menos 2 rios tem nascente, encontre o comprimento do menor rio."
   ]
  },
  {
   "cell_type": "code",
   "execution_count": 73,
   "metadata": {},
   "outputs": [
    {
     "data": {
      "text/plain": [
       "[('Grande', 2.0)]"
      ]
     },
     "execution_count": 73,
     "metadata": {},
     "output_type": "execute_result"
    }
   ],
   "source": [
    "sql_str8 =  '''WITH nascente_rio AS (SELECT Nascente as Nascente, count(*) as Contagem\n",
    "            FROM Rio\n",
    "            GROUP BY Nascente\n",
    "            HAVING count(*) > 1\n",
    "            )\n",
    "\n",
    "            SELECT Rio.Nome, min(Rio.Comprimento)\n",
    "            FROM Rio, nascente_rio\n",
    "            WHERE nascente_rio.Nascente = Rio.Nascente\n",
    "            '''\n",
    "cursor.execute(sql_str8).fetchall()"
   ]
  },
  {
   "attachments": {},
   "cell_type": "markdown",
   "metadata": {},
   "source": [
    "## 9. Liste os países cujo PIB é maior que o PIB do Canada."
   ]
  },
  {
   "cell_type": "code",
   "execution_count": 49,
   "metadata": {},
   "outputs": [
    {
     "data": {
      "text/plain": [
       "[('Mexico', 694.0), ('Brasil', 10004.0), ('USA', 8003.0)]"
      ]
     },
     "execution_count": 49,
     "metadata": {},
     "output_type": "execute_result"
    }
   ],
   "source": [
    "sql_str9 =  '''WITH busca_pib AS (SELECT Pais.Nome as nome, Pais.PIB as canada_pib\n",
    "            FROM Pais\n",
    "            WHERE Pais.Nome like \"Canada\")\n",
    "            \n",
    "            SELECT Pais.Nome, Pais.PIB\n",
    "            FROM Pais, busca_pib\n",
    "            WHERE Pais.PIB > busca_pib.canada_pib\n",
    "            '''\n",
    "cursor.execute(sql_str9).fetchall()"
   ]
  },
  {
   "cell_type": "code",
   "execution_count": null,
   "metadata": {},
   "outputs": [],
   "source": []
  }
 ],
 "metadata": {
  "kernelspec": {
   "display_name": "base",
   "language": "python",
   "name": "python3"
  },
  "language_info": {
   "codemirror_mode": {
    "name": "ipython",
    "version": 3
   },
   "file_extension": ".py",
   "mimetype": "text/x-python",
   "name": "python",
   "nbconvert_exporter": "python",
   "pygments_lexer": "ipython3",
   "version": "3.9.13"
  },
  "orig_nbformat": 4
 },
 "nbformat": 4,
 "nbformat_minor": 2
}
