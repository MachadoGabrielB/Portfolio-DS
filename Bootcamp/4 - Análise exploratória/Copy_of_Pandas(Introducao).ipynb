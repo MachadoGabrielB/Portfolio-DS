{
  "cells": [
    {
      "cell_type": "markdown",
      "metadata": {
        "id": "cA_lzdImRlSR"
      },
      "source": [
        "# Importing Pandas"
      ]
    },
    {
      "cell_type": "code",
      "execution_count": 1,
      "metadata": {
        "id": "kUurbxGrRlSU"
      },
      "outputs": [],
      "source": [
        "import pandas as pd\n",
        "import numpy as np"
      ]
    },
    {
      "cell_type": "markdown",
      "metadata": {
        "id": "br_lcQ1wRlSV"
      },
      "source": [
        "# Creating new DataFrames - Dictionary"
      ]
    },
    {
      "cell_type": "code",
      "execution_count": 2,
      "metadata": {
        "colab": {
          "base_uri": "https://localhost:8080/",
          "height": 175
        },
        "id": "3xxI-JG5RlSV",
        "outputId": "de4c1b3c-89c0-44b8-e4ed-53a1921295c2"
      },
      "outputs": [
        {
          "data": {
            "text/html": [
              "<div>\n",
              "<style scoped>\n",
              "    .dataframe tbody tr th:only-of-type {\n",
              "        vertical-align: middle;\n",
              "    }\n",
              "\n",
              "    .dataframe tbody tr th {\n",
              "        vertical-align: top;\n",
              "    }\n",
              "\n",
              "    .dataframe thead th {\n",
              "        text-align: right;\n",
              "    }\n",
              "</style>\n",
              "<table border=\"1\" class=\"dataframe\">\n",
              "  <thead>\n",
              "    <tr style=\"text-align: right;\">\n",
              "      <th></th>\n",
              "      <th>A</th>\n",
              "      <th>B</th>\n",
              "      <th>C</th>\n",
              "    </tr>\n",
              "  </thead>\n",
              "  <tbody>\n",
              "    <tr>\n",
              "      <th>0</th>\n",
              "      <td>João</td>\n",
              "      <td>1</td>\n",
              "      <td>9.8</td>\n",
              "    </tr>\n",
              "    <tr>\n",
              "      <th>1</th>\n",
              "      <td>José</td>\n",
              "      <td>2</td>\n",
              "      <td>6.7</td>\n",
              "    </tr>\n",
              "    <tr>\n",
              "      <th>2</th>\n",
              "      <td>Maria</td>\n",
              "      <td>3</td>\n",
              "      <td>8.0</td>\n",
              "    </tr>\n",
              "    <tr>\n",
              "      <th>3</th>\n",
              "      <td>Ana</td>\n",
              "      <td>1</td>\n",
              "      <td>9.9</td>\n",
              "    </tr>\n",
              "  </tbody>\n",
              "</table>\n",
              "</div>"
            ],
            "text/plain": [
              "       A  B    C\n",
              "0   João  1  9.8\n",
              "1   José  2  6.7\n",
              "2  Maria  3  8.0\n",
              "3    Ana  1  9.9"
            ]
          },
          "execution_count": 2,
          "metadata": {},
          "output_type": "execute_result"
        }
      ],
      "source": [
        "data={'A': ['João','José','Maria','Ana'], 'B':[1,2,3,1], 'C':[9.8,6.7,8,9.9]}\n",
        "dataflair_df=pd.DataFrame(data)\n",
        "dataflair_df\n"
      ]
    },
    {
      "cell_type": "code",
      "execution_count": 3,
      "metadata": {
        "colab": {
          "base_uri": "https://localhost:8080/"
        },
        "id": "f3O0Hxngpsva",
        "outputId": "a565c385-c6f8-46ec-e6b4-ffa8907c24bf"
      },
      "outputs": [
        {
          "data": {
            "text/plain": [
              "array([9.8, 6.7, 8. , 9.9])"
            ]
          },
          "execution_count": 3,
          "metadata": {},
          "output_type": "execute_result"
        }
      ],
      "source": [
        "notas = np.array(dataflair_df['C'])\n",
        "notas"
      ]
    },
    {
      "cell_type": "code",
      "execution_count": 4,
      "metadata": {
        "colab": {
          "base_uri": "https://localhost:8080/"
        },
        "id": "fmh8C0Itp4m8",
        "outputId": "dd0dceb7-c609-4077-c229-7b8d461b8ac5"
      },
      "outputs": [
        {
          "data": {
            "text/plain": [
              "8.6"
            ]
          },
          "execution_count": 4,
          "metadata": {},
          "output_type": "execute_result"
        }
      ],
      "source": [
        "np.mean(notas)"
      ]
    },
    {
      "cell_type": "code",
      "execution_count": 5,
      "metadata": {
        "colab": {
          "base_uri": "https://localhost:8080/"
        },
        "id": "0FoLBIW7qLW8",
        "outputId": "6ea52b51-f4a0-417f-8d3d-d6151141b9f4"
      },
      "outputs": [
        {
          "data": {
            "text/plain": [
              "8.6"
            ]
          },
          "execution_count": 5,
          "metadata": {},
          "output_type": "execute_result"
        }
      ],
      "source": [
        "notas = dataflair_df['C'].mean()\n",
        "notas"
      ]
    },
    {
      "cell_type": "code",
      "execution_count": 6,
      "metadata": {
        "colab": {
          "base_uri": "https://localhost:8080/"
        },
        "id": "zAh8OyRdqreh",
        "outputId": "19775fe5-ab60-4732-9ceb-757a5bbb1e00"
      },
      "outputs": [
        {
          "data": {
            "text/plain": [
              "1.5383974345619105"
            ]
          },
          "execution_count": 6,
          "metadata": {},
          "output_type": "execute_result"
        }
      ],
      "source": [
        "dataflair_df['C'].std()"
      ]
    },
    {
      "cell_type": "code",
      "execution_count": 7,
      "metadata": {
        "colab": {
          "base_uri": "https://localhost:8080/"
        },
        "id": "asKI8YO_RlSd",
        "outputId": "69fb0e2a-c06d-4376-a495-6ec29b69f73e"
      },
      "outputs": [
        {
          "name": "stdout",
          "output_type": "stream",
          "text": [
            "8.6\n"
          ]
        }
      ],
      "source": [
        "mean = dataflair_df['C'].mean()\n",
        "notas = np.array(dataflair_df['C'])\n",
        "media_notas = np.mean(notas)\n",
        "print(media_notas)"
      ]
    },
    {
      "cell_type": "code",
      "execution_count": 8,
      "metadata": {
        "colab": {
          "base_uri": "https://localhost:8080/"
        },
        "id": "lvrOzMVg6asU",
        "outputId": "c2ce0e72-e580-4c1f-e174-d73b645be6ee"
      },
      "outputs": [
        {
          "data": {
            "text/plain": [
              "8.6"
            ]
          },
          "execution_count": 8,
          "metadata": {},
          "output_type": "execute_result"
        }
      ],
      "source": [
        "mean"
      ]
    },
    {
      "cell_type": "markdown",
      "metadata": {
        "id": "A85C-57LRlSe"
      },
      "source": [
        "# Reading csv from URL"
      ]
    },
    {
      "cell_type": "code",
      "execution_count": 9,
      "metadata": {
        "id": "wxaOTJm3RlSf"
      },
      "outputs": [],
      "source": [
        "url = ('https://raw.github.com/pandas-dev'\n",
        "...: '/pandas/master/pandas/tests/io/data/csv/tips.csv')\n",
        "\n"
      ]
    },
    {
      "cell_type": "code",
      "execution_count": 10,
      "metadata": {
        "id": "2qpFUYpzpR4k"
      },
      "outputs": [],
      "source": [
        "url_1 = 'https://media.githubusercontent.com/media/datablist/sample-csv-files/main/files/customers/customers-100000.csv'"
      ]
    },
    {
      "cell_type": "code",
      "execution_count": 11,
      "metadata": {
        "id": "1s7rdljCueyh"
      },
      "outputs": [],
      "source": [
        "df_customers = pd.read_csv(url)"
      ]
    },
    {
      "cell_type": "code",
      "execution_count": 12,
      "metadata": {
        "colab": {
          "base_uri": "https://localhost:8080/",
          "height": 206
        },
        "id": "4SJw_Pkeukj_",
        "outputId": "d9b1add1-6a1b-4450-83c4-ee141d340743"
      },
      "outputs": [
        {
          "data": {
            "text/html": [
              "<div>\n",
              "<style scoped>\n",
              "    .dataframe tbody tr th:only-of-type {\n",
              "        vertical-align: middle;\n",
              "    }\n",
              "\n",
              "    .dataframe tbody tr th {\n",
              "        vertical-align: top;\n",
              "    }\n",
              "\n",
              "    .dataframe thead th {\n",
              "        text-align: right;\n",
              "    }\n",
              "</style>\n",
              "<table border=\"1\" class=\"dataframe\">\n",
              "  <thead>\n",
              "    <tr style=\"text-align: right;\">\n",
              "      <th></th>\n",
              "      <th>total_bill</th>\n",
              "      <th>tip</th>\n",
              "      <th>sex</th>\n",
              "      <th>smoker</th>\n",
              "      <th>day</th>\n",
              "      <th>time</th>\n",
              "      <th>size</th>\n",
              "    </tr>\n",
              "  </thead>\n",
              "  <tbody>\n",
              "    <tr>\n",
              "      <th>0</th>\n",
              "      <td>16.99</td>\n",
              "      <td>1.01</td>\n",
              "      <td>Female</td>\n",
              "      <td>No</td>\n",
              "      <td>Sun</td>\n",
              "      <td>Dinner</td>\n",
              "      <td>2</td>\n",
              "    </tr>\n",
              "    <tr>\n",
              "      <th>1</th>\n",
              "      <td>10.34</td>\n",
              "      <td>1.66</td>\n",
              "      <td>Male</td>\n",
              "      <td>No</td>\n",
              "      <td>Sun</td>\n",
              "      <td>Dinner</td>\n",
              "      <td>3</td>\n",
              "    </tr>\n",
              "    <tr>\n",
              "      <th>2</th>\n",
              "      <td>21.01</td>\n",
              "      <td>3.50</td>\n",
              "      <td>Male</td>\n",
              "      <td>No</td>\n",
              "      <td>Sun</td>\n",
              "      <td>Dinner</td>\n",
              "      <td>3</td>\n",
              "    </tr>\n",
              "    <tr>\n",
              "      <th>3</th>\n",
              "      <td>23.68</td>\n",
              "      <td>3.31</td>\n",
              "      <td>Male</td>\n",
              "      <td>No</td>\n",
              "      <td>Sun</td>\n",
              "      <td>Dinner</td>\n",
              "      <td>2</td>\n",
              "    </tr>\n",
              "    <tr>\n",
              "      <th>4</th>\n",
              "      <td>24.59</td>\n",
              "      <td>3.61</td>\n",
              "      <td>Female</td>\n",
              "      <td>No</td>\n",
              "      <td>Sun</td>\n",
              "      <td>Dinner</td>\n",
              "      <td>4</td>\n",
              "    </tr>\n",
              "  </tbody>\n",
              "</table>\n",
              "</div>"
            ],
            "text/plain": [
              "   total_bill   tip     sex smoker  day    time  size\n",
              "0       16.99  1.01  Female     No  Sun  Dinner     2\n",
              "1       10.34  1.66    Male     No  Sun  Dinner     3\n",
              "2       21.01  3.50    Male     No  Sun  Dinner     3\n",
              "3       23.68  3.31    Male     No  Sun  Dinner     2\n",
              "4       24.59  3.61  Female     No  Sun  Dinner     4"
            ]
          },
          "execution_count": 12,
          "metadata": {},
          "output_type": "execute_result"
        }
      ],
      "source": [
        "df_customers.head()"
      ]
    },
    {
      "cell_type": "code",
      "execution_count": 13,
      "metadata": {
        "colab": {
          "base_uri": "https://localhost:8080/"
        },
        "id": "0k6mroo-Q852",
        "outputId": "c563f7d1-1d44-4553-9f14-deb9b989efb2"
      },
      "outputs": [
        {
          "data": {
            "text/plain": [
              "(244, 7)"
            ]
          },
          "execution_count": 13,
          "metadata": {},
          "output_type": "execute_result"
        }
      ],
      "source": [
        "df_customers.shape"
      ]
    },
    {
      "cell_type": "code",
      "execution_count": 14,
      "metadata": {
        "colab": {
          "base_uri": "https://localhost:8080/"
        },
        "id": "CE1V9bPlRE89",
        "outputId": "5184bf85-ad63-4c42-f87e-45479d25a242"
      },
      "outputs": [
        {
          "data": {
            "text/plain": [
              "Index(['total_bill', 'tip', 'sex', 'smoker', 'day', 'time', 'size'], dtype='object')"
            ]
          },
          "execution_count": 14,
          "metadata": {},
          "output_type": "execute_result"
        }
      ],
      "source": [
        "df_customers.columns"
      ]
    },
    {
      "cell_type": "code",
      "execution_count": 15,
      "metadata": {
        "colab": {
          "base_uri": "https://localhost:8080/"
        },
        "id": "SOCUi1WNRNET",
        "outputId": "44e1a1fc-3372-4e2a-c882-3b67d900cf92"
      },
      "outputs": [
        {
          "data": {
            "text/plain": [
              "total_bill    float64\n",
              "tip           float64\n",
              "sex            object\n",
              "smoker         object\n",
              "day            object\n",
              "time           object\n",
              "size            int64\n",
              "dtype: object"
            ]
          },
          "execution_count": 15,
          "metadata": {},
          "output_type": "execute_result"
        }
      ],
      "source": [
        "df_customers.dtypes"
      ]
    },
    {
      "cell_type": "code",
      "execution_count": 16,
      "metadata": {
        "id": "VcA_Q08UN83-"
      },
      "outputs": [],
      "source": [
        "#df_customers['Website'].str.split('/')"
      ]
    },
    {
      "cell_type": "code",
      "execution_count": 17,
      "metadata": {
        "id": "VJuLg3lTQFek"
      },
      "outputs": [],
      "source": [
        "#df_customers['Website'].str.capitalize()"
      ]
    },
    {
      "cell_type": "code",
      "execution_count": 18,
      "metadata": {
        "id": "DYwIdf0lQY6H"
      },
      "outputs": [],
      "source": [
        "#df_customers['Website'].str.upper()"
      ]
    },
    {
      "cell_type": "code",
      "execution_count": null,
      "metadata": {
        "id": "LfgHqC4GQeIy"
      },
      "outputs": [],
      "source": []
    },
    {
      "cell_type": "code",
      "execution_count": 19,
      "metadata": {
        "id": "H4TRSu-Ju98K"
      },
      "outputs": [],
      "source": [
        "#df_customers[['First Name','Company']]"
      ]
    },
    {
      "cell_type": "code",
      "execution_count": 20,
      "metadata": {
        "colab": {
          "base_uri": "https://localhost:8080/",
          "height": 300
        },
        "id": "00-a31uDvbAj",
        "outputId": "884e7e84-409f-485c-8f06-300496e1e310"
      },
      "outputs": [
        {
          "data": {
            "text/html": [
              "<div>\n",
              "<style scoped>\n",
              "    .dataframe tbody tr th:only-of-type {\n",
              "        vertical-align: middle;\n",
              "    }\n",
              "\n",
              "    .dataframe tbody tr th {\n",
              "        vertical-align: top;\n",
              "    }\n",
              "\n",
              "    .dataframe thead th {\n",
              "        text-align: right;\n",
              "    }\n",
              "</style>\n",
              "<table border=\"1\" class=\"dataframe\">\n",
              "  <thead>\n",
              "    <tr style=\"text-align: right;\">\n",
              "      <th></th>\n",
              "      <th>total_bill</th>\n",
              "      <th>tip</th>\n",
              "      <th>size</th>\n",
              "    </tr>\n",
              "  </thead>\n",
              "  <tbody>\n",
              "    <tr>\n",
              "      <th>count</th>\n",
              "      <td>244.000000</td>\n",
              "      <td>244.000000</td>\n",
              "      <td>244.000000</td>\n",
              "    </tr>\n",
              "    <tr>\n",
              "      <th>mean</th>\n",
              "      <td>19.785943</td>\n",
              "      <td>2.998279</td>\n",
              "      <td>2.569672</td>\n",
              "    </tr>\n",
              "    <tr>\n",
              "      <th>std</th>\n",
              "      <td>8.902412</td>\n",
              "      <td>1.383638</td>\n",
              "      <td>0.951100</td>\n",
              "    </tr>\n",
              "    <tr>\n",
              "      <th>min</th>\n",
              "      <td>3.070000</td>\n",
              "      <td>1.000000</td>\n",
              "      <td>1.000000</td>\n",
              "    </tr>\n",
              "    <tr>\n",
              "      <th>25%</th>\n",
              "      <td>13.347500</td>\n",
              "      <td>2.000000</td>\n",
              "      <td>2.000000</td>\n",
              "    </tr>\n",
              "    <tr>\n",
              "      <th>50%</th>\n",
              "      <td>17.795000</td>\n",
              "      <td>2.900000</td>\n",
              "      <td>2.000000</td>\n",
              "    </tr>\n",
              "    <tr>\n",
              "      <th>75%</th>\n",
              "      <td>24.127500</td>\n",
              "      <td>3.562500</td>\n",
              "      <td>3.000000</td>\n",
              "    </tr>\n",
              "    <tr>\n",
              "      <th>max</th>\n",
              "      <td>50.810000</td>\n",
              "      <td>10.000000</td>\n",
              "      <td>6.000000</td>\n",
              "    </tr>\n",
              "  </tbody>\n",
              "</table>\n",
              "</div>"
            ],
            "text/plain": [
              "       total_bill         tip        size\n",
              "count  244.000000  244.000000  244.000000\n",
              "mean    19.785943    2.998279    2.569672\n",
              "std      8.902412    1.383638    0.951100\n",
              "min      3.070000    1.000000    1.000000\n",
              "25%     13.347500    2.000000    2.000000\n",
              "50%     17.795000    2.900000    2.000000\n",
              "75%     24.127500    3.562500    3.000000\n",
              "max     50.810000   10.000000    6.000000"
            ]
          },
          "execution_count": 20,
          "metadata": {},
          "output_type": "execute_result"
        }
      ],
      "source": [
        "df_customers.describe()"
      ]
    },
    {
      "cell_type": "code",
      "execution_count": 21,
      "metadata": {
        "colab": {
          "base_uri": "https://localhost:8080/"
        },
        "id": "-VC_d5h-vhp6",
        "outputId": "a3016dd4-6892-4822-9530-2a1b2bcc6daa"
      },
      "outputs": [
        {
          "name": "stdout",
          "output_type": "stream",
          "text": [
            "<class 'pandas.core.frame.DataFrame'>\n",
            "RangeIndex: 244 entries, 0 to 243\n",
            "Data columns (total 7 columns):\n",
            " #   Column      Non-Null Count  Dtype  \n",
            "---  ------      --------------  -----  \n",
            " 0   total_bill  244 non-null    float64\n",
            " 1   tip         244 non-null    float64\n",
            " 2   sex         244 non-null    object \n",
            " 3   smoker      244 non-null    object \n",
            " 4   day         244 non-null    object \n",
            " 5   time        244 non-null    object \n",
            " 6   size        244 non-null    int64  \n",
            "dtypes: float64(2), int64(1), object(4)\n",
            "memory usage: 13.5+ KB\n"
          ]
        }
      ],
      "source": [
        "df_customers.info()"
      ]
    },
    {
      "cell_type": "code",
      "execution_count": 22,
      "metadata": {
        "id": "f5whTJR5RlSf"
      },
      "outputs": [],
      "source": [
        "tips = pd.read_csv(url)"
      ]
    },
    {
      "cell_type": "code",
      "execution_count": 23,
      "metadata": {
        "colab": {
          "base_uri": "https://localhost:8080/",
          "height": 424
        },
        "id": "tA5AZHrxRlSg",
        "outputId": "9ccdb9f5-0f32-4e81-8e21-557f2f7e8780",
        "scrolled": true
      },
      "outputs": [
        {
          "data": {
            "text/html": [
              "<div>\n",
              "<style scoped>\n",
              "    .dataframe tbody tr th:only-of-type {\n",
              "        vertical-align: middle;\n",
              "    }\n",
              "\n",
              "    .dataframe tbody tr th {\n",
              "        vertical-align: top;\n",
              "    }\n",
              "\n",
              "    .dataframe thead th {\n",
              "        text-align: right;\n",
              "    }\n",
              "</style>\n",
              "<table border=\"1\" class=\"dataframe\">\n",
              "  <thead>\n",
              "    <tr style=\"text-align: right;\">\n",
              "      <th></th>\n",
              "      <th>total_bill</th>\n",
              "      <th>tip</th>\n",
              "      <th>sex</th>\n",
              "      <th>smoker</th>\n",
              "      <th>day</th>\n",
              "      <th>time</th>\n",
              "      <th>size</th>\n",
              "    </tr>\n",
              "  </thead>\n",
              "  <tbody>\n",
              "    <tr>\n",
              "      <th>0</th>\n",
              "      <td>16.99</td>\n",
              "      <td>1.01</td>\n",
              "      <td>Female</td>\n",
              "      <td>No</td>\n",
              "      <td>Sun</td>\n",
              "      <td>Dinner</td>\n",
              "      <td>2</td>\n",
              "    </tr>\n",
              "    <tr>\n",
              "      <th>1</th>\n",
              "      <td>10.34</td>\n",
              "      <td>1.66</td>\n",
              "      <td>Male</td>\n",
              "      <td>No</td>\n",
              "      <td>Sun</td>\n",
              "      <td>Dinner</td>\n",
              "      <td>3</td>\n",
              "    </tr>\n",
              "    <tr>\n",
              "      <th>2</th>\n",
              "      <td>21.01</td>\n",
              "      <td>3.50</td>\n",
              "      <td>Male</td>\n",
              "      <td>No</td>\n",
              "      <td>Sun</td>\n",
              "      <td>Dinner</td>\n",
              "      <td>3</td>\n",
              "    </tr>\n",
              "    <tr>\n",
              "      <th>3</th>\n",
              "      <td>23.68</td>\n",
              "      <td>3.31</td>\n",
              "      <td>Male</td>\n",
              "      <td>No</td>\n",
              "      <td>Sun</td>\n",
              "      <td>Dinner</td>\n",
              "      <td>2</td>\n",
              "    </tr>\n",
              "    <tr>\n",
              "      <th>4</th>\n",
              "      <td>24.59</td>\n",
              "      <td>3.61</td>\n",
              "      <td>Female</td>\n",
              "      <td>No</td>\n",
              "      <td>Sun</td>\n",
              "      <td>Dinner</td>\n",
              "      <td>4</td>\n",
              "    </tr>\n",
              "    <tr>\n",
              "      <th>...</th>\n",
              "      <td>...</td>\n",
              "      <td>...</td>\n",
              "      <td>...</td>\n",
              "      <td>...</td>\n",
              "      <td>...</td>\n",
              "      <td>...</td>\n",
              "      <td>...</td>\n",
              "    </tr>\n",
              "    <tr>\n",
              "      <th>239</th>\n",
              "      <td>29.03</td>\n",
              "      <td>5.92</td>\n",
              "      <td>Male</td>\n",
              "      <td>No</td>\n",
              "      <td>Sat</td>\n",
              "      <td>Dinner</td>\n",
              "      <td>3</td>\n",
              "    </tr>\n",
              "    <tr>\n",
              "      <th>240</th>\n",
              "      <td>27.18</td>\n",
              "      <td>2.00</td>\n",
              "      <td>Female</td>\n",
              "      <td>Yes</td>\n",
              "      <td>Sat</td>\n",
              "      <td>Dinner</td>\n",
              "      <td>2</td>\n",
              "    </tr>\n",
              "    <tr>\n",
              "      <th>241</th>\n",
              "      <td>22.67</td>\n",
              "      <td>2.00</td>\n",
              "      <td>Male</td>\n",
              "      <td>Yes</td>\n",
              "      <td>Sat</td>\n",
              "      <td>Dinner</td>\n",
              "      <td>2</td>\n",
              "    </tr>\n",
              "    <tr>\n",
              "      <th>242</th>\n",
              "      <td>17.82</td>\n",
              "      <td>1.75</td>\n",
              "      <td>Male</td>\n",
              "      <td>No</td>\n",
              "      <td>Sat</td>\n",
              "      <td>Dinner</td>\n",
              "      <td>2</td>\n",
              "    </tr>\n",
              "    <tr>\n",
              "      <th>243</th>\n",
              "      <td>18.78</td>\n",
              "      <td>3.00</td>\n",
              "      <td>Female</td>\n",
              "      <td>No</td>\n",
              "      <td>Thur</td>\n",
              "      <td>Dinner</td>\n",
              "      <td>2</td>\n",
              "    </tr>\n",
              "  </tbody>\n",
              "</table>\n",
              "<p>244 rows × 7 columns</p>\n",
              "</div>"
            ],
            "text/plain": [
              "     total_bill   tip     sex smoker   day    time  size\n",
              "0         16.99  1.01  Female     No   Sun  Dinner     2\n",
              "1         10.34  1.66    Male     No   Sun  Dinner     3\n",
              "2         21.01  3.50    Male     No   Sun  Dinner     3\n",
              "3         23.68  3.31    Male     No   Sun  Dinner     2\n",
              "4         24.59  3.61  Female     No   Sun  Dinner     4\n",
              "..          ...   ...     ...    ...   ...     ...   ...\n",
              "239       29.03  5.92    Male     No   Sat  Dinner     3\n",
              "240       27.18  2.00  Female    Yes   Sat  Dinner     2\n",
              "241       22.67  2.00    Male    Yes   Sat  Dinner     2\n",
              "242       17.82  1.75    Male     No   Sat  Dinner     2\n",
              "243       18.78  3.00  Female     No  Thur  Dinner     2\n",
              "\n",
              "[244 rows x 7 columns]"
            ]
          },
          "execution_count": 23,
          "metadata": {},
          "output_type": "execute_result"
        }
      ],
      "source": [
        "tips"
      ]
    },
    {
      "cell_type": "code",
      "execution_count": 24,
      "metadata": {
        "colab": {
          "base_uri": "https://localhost:8080/"
        },
        "id": "JO3P1-75wMVq",
        "outputId": "d8b05c69-f207-41d2-9731-f86d7a0a5246"
      },
      "outputs": [
        {
          "name": "stdout",
          "output_type": "stream",
          "text": [
            "<class 'pandas.core.frame.DataFrame'>\n",
            "RangeIndex: 244 entries, 0 to 243\n",
            "Data columns (total 7 columns):\n",
            " #   Column      Non-Null Count  Dtype  \n",
            "---  ------      --------------  -----  \n",
            " 0   total_bill  244 non-null    float64\n",
            " 1   tip         244 non-null    float64\n",
            " 2   sex         244 non-null    object \n",
            " 3   smoker      244 non-null    object \n",
            " 4   day         244 non-null    object \n",
            " 5   time        244 non-null    object \n",
            " 6   size        244 non-null    int64  \n",
            "dtypes: float64(2), int64(1), object(4)\n",
            "memory usage: 13.5+ KB\n"
          ]
        }
      ],
      "source": [
        "tips.info()"
      ]
    },
    {
      "cell_type": "code",
      "execution_count": 25,
      "metadata": {
        "colab": {
          "base_uri": "https://localhost:8080/"
        },
        "id": "LmMyNIRLhYcX",
        "outputId": "b1fd4c15-316c-4c59-8696-31174ed87359"
      },
      "outputs": [
        {
          "data": {
            "text/plain": [
              "1.0"
            ]
          },
          "execution_count": 25,
          "metadata": {},
          "output_type": "execute_result"
        }
      ],
      "source": [
        "tips['tip'][tips['tip'].argmin()]"
      ]
    },
    {
      "cell_type": "code",
      "execution_count": 26,
      "metadata": {
        "colab": {
          "base_uri": "https://localhost:8080/"
        },
        "id": "bVnAIWUfccXP",
        "outputId": "2c5811f6-be06-4445-b825-ab5b86c26354"
      },
      "outputs": [
        {
          "data": {
            "text/plain": [
              "0    Sun\n",
              "1    Sun\n",
              "2    Sun\n",
              "3    Sun\n",
              "4    Sun\n",
              "5    Sun\n",
              "6    Sun\n",
              "7    Sun\n",
              "8    Sun\n",
              "9    Sun\n",
              "Name: day, dtype: object"
            ]
          },
          "execution_count": 26,
          "metadata": {},
          "output_type": "execute_result"
        }
      ],
      "source": [
        "tips['day'][0:10]"
      ]
    },
    {
      "cell_type": "code",
      "execution_count": 27,
      "metadata": {
        "colab": {
          "base_uri": "https://localhost:8080/"
        },
        "id": "FEQlZqgao6Ag",
        "outputId": "1433e098-ce20-4638-c7c3-c32bb1a51729"
      },
      "outputs": [
        {
          "data": {
            "text/plain": [
              "array(['Female', 'Male', 'Male', 'Male', 'Female', 'Male', 'Male', 'Male',\n",
              "       'Male', 'Male'], dtype=object)"
            ]
          },
          "execution_count": 27,
          "metadata": {},
          "output_type": "execute_result"
        }
      ],
      "source": [
        "tips['sex'].values[0:10]"
      ]
    },
    {
      "cell_type": "code",
      "execution_count": 28,
      "metadata": {
        "colab": {
          "base_uri": "https://localhost:8080/",
          "height": 206
        },
        "id": "tlaHhhtYRlSh",
        "outputId": "417e65af-3dae-4e35-8b7a-67b4845a689b"
      },
      "outputs": [
        {
          "data": {
            "text/html": [
              "<div>\n",
              "<style scoped>\n",
              "    .dataframe tbody tr th:only-of-type {\n",
              "        vertical-align: middle;\n",
              "    }\n",
              "\n",
              "    .dataframe tbody tr th {\n",
              "        vertical-align: top;\n",
              "    }\n",
              "\n",
              "    .dataframe thead th {\n",
              "        text-align: right;\n",
              "    }\n",
              "</style>\n",
              "<table border=\"1\" class=\"dataframe\">\n",
              "  <thead>\n",
              "    <tr style=\"text-align: right;\">\n",
              "      <th></th>\n",
              "      <th>total_bill</th>\n",
              "      <th>tip</th>\n",
              "      <th>sex</th>\n",
              "      <th>smoker</th>\n",
              "      <th>day</th>\n",
              "      <th>time</th>\n",
              "      <th>size</th>\n",
              "    </tr>\n",
              "  </thead>\n",
              "  <tbody>\n",
              "    <tr>\n",
              "      <th>0</th>\n",
              "      <td>16.99</td>\n",
              "      <td>1.01</td>\n",
              "      <td>Female</td>\n",
              "      <td>No</td>\n",
              "      <td>Sun</td>\n",
              "      <td>Dinner</td>\n",
              "      <td>2</td>\n",
              "    </tr>\n",
              "    <tr>\n",
              "      <th>1</th>\n",
              "      <td>10.34</td>\n",
              "      <td>1.66</td>\n",
              "      <td>Male</td>\n",
              "      <td>No</td>\n",
              "      <td>Sun</td>\n",
              "      <td>Dinner</td>\n",
              "      <td>3</td>\n",
              "    </tr>\n",
              "    <tr>\n",
              "      <th>2</th>\n",
              "      <td>21.01</td>\n",
              "      <td>3.50</td>\n",
              "      <td>Male</td>\n",
              "      <td>No</td>\n",
              "      <td>Sun</td>\n",
              "      <td>Dinner</td>\n",
              "      <td>3</td>\n",
              "    </tr>\n",
              "    <tr>\n",
              "      <th>3</th>\n",
              "      <td>23.68</td>\n",
              "      <td>3.31</td>\n",
              "      <td>Male</td>\n",
              "      <td>No</td>\n",
              "      <td>Sun</td>\n",
              "      <td>Dinner</td>\n",
              "      <td>2</td>\n",
              "    </tr>\n",
              "    <tr>\n",
              "      <th>4</th>\n",
              "      <td>24.59</td>\n",
              "      <td>3.61</td>\n",
              "      <td>Female</td>\n",
              "      <td>No</td>\n",
              "      <td>Sun</td>\n",
              "      <td>Dinner</td>\n",
              "      <td>4</td>\n",
              "    </tr>\n",
              "  </tbody>\n",
              "</table>\n",
              "</div>"
            ],
            "text/plain": [
              "   total_bill   tip     sex smoker  day    time  size\n",
              "0       16.99  1.01  Female     No  Sun  Dinner     2\n",
              "1       10.34  1.66    Male     No  Sun  Dinner     3\n",
              "2       21.01  3.50    Male     No  Sun  Dinner     3\n",
              "3       23.68  3.31    Male     No  Sun  Dinner     2\n",
              "4       24.59  3.61  Female     No  Sun  Dinner     4"
            ]
          },
          "execution_count": 28,
          "metadata": {},
          "output_type": "execute_result"
        }
      ],
      "source": [
        "### head() - Visualizar conteúdo ###\n",
        "tips.head()"
      ]
    },
    {
      "cell_type": "code",
      "execution_count": 29,
      "metadata": {
        "colab": {
          "base_uri": "https://localhost:8080/",
          "height": 206
        },
        "id": "nwz-YXLwRlSi",
        "outputId": "301b6875-f65e-4b91-de8c-2a450ade97bf",
        "scrolled": true
      },
      "outputs": [
        {
          "data": {
            "text/html": [
              "<div>\n",
              "<style scoped>\n",
              "    .dataframe tbody tr th:only-of-type {\n",
              "        vertical-align: middle;\n",
              "    }\n",
              "\n",
              "    .dataframe tbody tr th {\n",
              "        vertical-align: top;\n",
              "    }\n",
              "\n",
              "    .dataframe thead th {\n",
              "        text-align: right;\n",
              "    }\n",
              "</style>\n",
              "<table border=\"1\" class=\"dataframe\">\n",
              "  <thead>\n",
              "    <tr style=\"text-align: right;\">\n",
              "      <th></th>\n",
              "      <th>total_bill</th>\n",
              "      <th>tip</th>\n",
              "      <th>sex</th>\n",
              "      <th>smoker</th>\n",
              "      <th>day</th>\n",
              "      <th>time</th>\n",
              "      <th>size</th>\n",
              "    </tr>\n",
              "  </thead>\n",
              "  <tbody>\n",
              "    <tr>\n",
              "      <th>239</th>\n",
              "      <td>29.03</td>\n",
              "      <td>5.92</td>\n",
              "      <td>Male</td>\n",
              "      <td>No</td>\n",
              "      <td>Sat</td>\n",
              "      <td>Dinner</td>\n",
              "      <td>3</td>\n",
              "    </tr>\n",
              "    <tr>\n",
              "      <th>240</th>\n",
              "      <td>27.18</td>\n",
              "      <td>2.00</td>\n",
              "      <td>Female</td>\n",
              "      <td>Yes</td>\n",
              "      <td>Sat</td>\n",
              "      <td>Dinner</td>\n",
              "      <td>2</td>\n",
              "    </tr>\n",
              "    <tr>\n",
              "      <th>241</th>\n",
              "      <td>22.67</td>\n",
              "      <td>2.00</td>\n",
              "      <td>Male</td>\n",
              "      <td>Yes</td>\n",
              "      <td>Sat</td>\n",
              "      <td>Dinner</td>\n",
              "      <td>2</td>\n",
              "    </tr>\n",
              "    <tr>\n",
              "      <th>242</th>\n",
              "      <td>17.82</td>\n",
              "      <td>1.75</td>\n",
              "      <td>Male</td>\n",
              "      <td>No</td>\n",
              "      <td>Sat</td>\n",
              "      <td>Dinner</td>\n",
              "      <td>2</td>\n",
              "    </tr>\n",
              "    <tr>\n",
              "      <th>243</th>\n",
              "      <td>18.78</td>\n",
              "      <td>3.00</td>\n",
              "      <td>Female</td>\n",
              "      <td>No</td>\n",
              "      <td>Thur</td>\n",
              "      <td>Dinner</td>\n",
              "      <td>2</td>\n",
              "    </tr>\n",
              "  </tbody>\n",
              "</table>\n",
              "</div>"
            ],
            "text/plain": [
              "     total_bill   tip     sex smoker   day    time  size\n",
              "239       29.03  5.92    Male     No   Sat  Dinner     3\n",
              "240       27.18  2.00  Female    Yes   Sat  Dinner     2\n",
              "241       22.67  2.00    Male    Yes   Sat  Dinner     2\n",
              "242       17.82  1.75    Male     No   Sat  Dinner     2\n",
              "243       18.78  3.00  Female     No  Thur  Dinner     2"
            ]
          },
          "execution_count": 29,
          "metadata": {},
          "output_type": "execute_result"
        }
      ],
      "source": [
        "### tail() - visualizar conteúdo ###\n",
        "tips.tail()"
      ]
    },
    {
      "cell_type": "code",
      "execution_count": 30,
      "metadata": {
        "colab": {
          "base_uri": "https://localhost:8080/",
          "height": 300
        },
        "id": "DQQJ1dCgRlSj",
        "outputId": "eaa3d7d7-7616-4f04-b042-ea7696288c22"
      },
      "outputs": [
        {
          "data": {
            "text/html": [
              "<div>\n",
              "<style scoped>\n",
              "    .dataframe tbody tr th:only-of-type {\n",
              "        vertical-align: middle;\n",
              "    }\n",
              "\n",
              "    .dataframe tbody tr th {\n",
              "        vertical-align: top;\n",
              "    }\n",
              "\n",
              "    .dataframe thead th {\n",
              "        text-align: right;\n",
              "    }\n",
              "</style>\n",
              "<table border=\"1\" class=\"dataframe\">\n",
              "  <thead>\n",
              "    <tr style=\"text-align: right;\">\n",
              "      <th></th>\n",
              "      <th>total_bill</th>\n",
              "      <th>tip</th>\n",
              "      <th>size</th>\n",
              "    </tr>\n",
              "  </thead>\n",
              "  <tbody>\n",
              "    <tr>\n",
              "      <th>count</th>\n",
              "      <td>244.000000</td>\n",
              "      <td>244.000000</td>\n",
              "      <td>244.000000</td>\n",
              "    </tr>\n",
              "    <tr>\n",
              "      <th>mean</th>\n",
              "      <td>19.785943</td>\n",
              "      <td>2.998279</td>\n",
              "      <td>2.569672</td>\n",
              "    </tr>\n",
              "    <tr>\n",
              "      <th>std</th>\n",
              "      <td>8.902412</td>\n",
              "      <td>1.383638</td>\n",
              "      <td>0.951100</td>\n",
              "    </tr>\n",
              "    <tr>\n",
              "      <th>min</th>\n",
              "      <td>3.070000</td>\n",
              "      <td>1.000000</td>\n",
              "      <td>1.000000</td>\n",
              "    </tr>\n",
              "    <tr>\n",
              "      <th>25%</th>\n",
              "      <td>13.347500</td>\n",
              "      <td>2.000000</td>\n",
              "      <td>2.000000</td>\n",
              "    </tr>\n",
              "    <tr>\n",
              "      <th>50%</th>\n",
              "      <td>17.795000</td>\n",
              "      <td>2.900000</td>\n",
              "      <td>2.000000</td>\n",
              "    </tr>\n",
              "    <tr>\n",
              "      <th>75%</th>\n",
              "      <td>24.127500</td>\n",
              "      <td>3.562500</td>\n",
              "      <td>3.000000</td>\n",
              "    </tr>\n",
              "    <tr>\n",
              "      <th>max</th>\n",
              "      <td>50.810000</td>\n",
              "      <td>10.000000</td>\n",
              "      <td>6.000000</td>\n",
              "    </tr>\n",
              "  </tbody>\n",
              "</table>\n",
              "</div>"
            ],
            "text/plain": [
              "       total_bill         tip        size\n",
              "count  244.000000  244.000000  244.000000\n",
              "mean    19.785943    2.998279    2.569672\n",
              "std      8.902412    1.383638    0.951100\n",
              "min      3.070000    1.000000    1.000000\n",
              "25%     13.347500    2.000000    2.000000\n",
              "50%     17.795000    2.900000    2.000000\n",
              "75%     24.127500    3.562500    3.000000\n",
              "max     50.810000   10.000000    6.000000"
            ]
          },
          "execution_count": 30,
          "metadata": {},
          "output_type": "execute_result"
        }
      ],
      "source": [
        "tips.describe()"
      ]
    },
    {
      "cell_type": "markdown",
      "metadata": {
        "id": "u9507gaqRlSl"
      },
      "source": [
        "# Type - DataFrame / Series"
      ]
    },
    {
      "cell_type": "code",
      "execution_count": 31,
      "metadata": {
        "colab": {
          "base_uri": "https://localhost:8080/"
        },
        "id": "6LDRGvP8RlSm",
        "outputId": "710e4e7d-5a21-4511-d536-af43a244939b"
      },
      "outputs": [
        {
          "data": {
            "text/plain": [
              "pandas.core.frame.DataFrame"
            ]
          },
          "execution_count": 31,
          "metadata": {},
          "output_type": "execute_result"
        }
      ],
      "source": [
        "type(tips)"
      ]
    },
    {
      "cell_type": "code",
      "execution_count": 32,
      "metadata": {
        "colab": {
          "base_uri": "https://localhost:8080/"
        },
        "id": "_GHNpgpeuGXb",
        "outputId": "57147708-58dd-480d-dca6-585b19bfb807"
      },
      "outputs": [
        {
          "data": {
            "text/plain": [
              "0       No\n",
              "1       No\n",
              "2       No\n",
              "3       No\n",
              "4       No\n",
              "      ... \n",
              "239     No\n",
              "240    Yes\n",
              "241    Yes\n",
              "242     No\n",
              "243     No\n",
              "Name: smoker, Length: 244, dtype: object"
            ]
          },
          "execution_count": 32,
          "metadata": {},
          "output_type": "execute_result"
        }
      ],
      "source": [
        "tips.smoker"
      ]
    },
    {
      "cell_type": "code",
      "execution_count": 33,
      "metadata": {
        "colab": {
          "base_uri": "https://localhost:8080/"
        },
        "id": "FxMQYcd9u4UU",
        "outputId": "1e762665-6c80-414b-c72c-7acee4c26368"
      },
      "outputs": [
        {
          "data": {
            "text/plain": [
              "0       No\n",
              "1       No\n",
              "2       No\n",
              "3       No\n",
              "4       No\n",
              "      ... \n",
              "239     No\n",
              "240    Yes\n",
              "241    Yes\n",
              "242     No\n",
              "243     No\n",
              "Name: smoker, Length: 244, dtype: object"
            ]
          },
          "execution_count": 33,
          "metadata": {},
          "output_type": "execute_result"
        }
      ],
      "source": [
        "tips['smoker']"
      ]
    },
    {
      "cell_type": "code",
      "execution_count": 34,
      "metadata": {
        "colab": {
          "base_uri": "https://localhost:8080/"
        },
        "id": "hnjX9_8ruVkr",
        "outputId": "edef6ee6-5fe6-4970-f345-78ca2aa9f19c"
      },
      "outputs": [
        {
          "data": {
            "text/plain": [
              "pandas.core.frame.DataFrame"
            ]
          },
          "execution_count": 34,
          "metadata": {},
          "output_type": "execute_result"
        }
      ],
      "source": [
        "type(tips[['smoker','total_bill']])"
      ]
    },
    {
      "cell_type": "code",
      "execution_count": 35,
      "metadata": {
        "colab": {
          "base_uri": "https://localhost:8080/"
        },
        "id": "Zz0dqbrcRlSn",
        "outputId": "5a53c681-b222-41b3-a5df-552a4dfa91ba"
      },
      "outputs": [
        {
          "data": {
            "text/plain": [
              "pandas.core.series.Series"
            ]
          },
          "execution_count": 35,
          "metadata": {},
          "output_type": "execute_result"
        }
      ],
      "source": [
        "type(tips[\"smoker\"])"
      ]
    },
    {
      "cell_type": "code",
      "execution_count": 36,
      "metadata": {
        "colab": {
          "base_uri": "https://localhost:8080/",
          "height": 424
        },
        "id": "sBUQgBFXou6z",
        "outputId": "d9bca0bb-d1dc-4720-e10d-32ccc0ccacf2"
      },
      "outputs": [
        {
          "data": {
            "text/html": [
              "<div>\n",
              "<style scoped>\n",
              "    .dataframe tbody tr th:only-of-type {\n",
              "        vertical-align: middle;\n",
              "    }\n",
              "\n",
              "    .dataframe tbody tr th {\n",
              "        vertical-align: top;\n",
              "    }\n",
              "\n",
              "    .dataframe thead th {\n",
              "        text-align: right;\n",
              "    }\n",
              "</style>\n",
              "<table border=\"1\" class=\"dataframe\">\n",
              "  <thead>\n",
              "    <tr style=\"text-align: right;\">\n",
              "      <th></th>\n",
              "      <th>total_bill</th>\n",
              "      <th>tip</th>\n",
              "      <th>sex</th>\n",
              "      <th>smoker</th>\n",
              "      <th>day</th>\n",
              "      <th>time</th>\n",
              "      <th>size</th>\n",
              "      <th>tips_percent</th>\n",
              "    </tr>\n",
              "  </thead>\n",
              "  <tbody>\n",
              "    <tr>\n",
              "      <th>0</th>\n",
              "      <td>16.99</td>\n",
              "      <td>1.01</td>\n",
              "      <td>Female</td>\n",
              "      <td>No</td>\n",
              "      <td>Sun</td>\n",
              "      <td>Dinner</td>\n",
              "      <td>2</td>\n",
              "      <td>5.944673</td>\n",
              "    </tr>\n",
              "    <tr>\n",
              "      <th>1</th>\n",
              "      <td>10.34</td>\n",
              "      <td>1.66</td>\n",
              "      <td>Male</td>\n",
              "      <td>No</td>\n",
              "      <td>Sun</td>\n",
              "      <td>Dinner</td>\n",
              "      <td>3</td>\n",
              "      <td>16.054159</td>\n",
              "    </tr>\n",
              "    <tr>\n",
              "      <th>2</th>\n",
              "      <td>21.01</td>\n",
              "      <td>3.50</td>\n",
              "      <td>Male</td>\n",
              "      <td>No</td>\n",
              "      <td>Sun</td>\n",
              "      <td>Dinner</td>\n",
              "      <td>3</td>\n",
              "      <td>16.658734</td>\n",
              "    </tr>\n",
              "    <tr>\n",
              "      <th>3</th>\n",
              "      <td>23.68</td>\n",
              "      <td>3.31</td>\n",
              "      <td>Male</td>\n",
              "      <td>No</td>\n",
              "      <td>Sun</td>\n",
              "      <td>Dinner</td>\n",
              "      <td>2</td>\n",
              "      <td>13.978041</td>\n",
              "    </tr>\n",
              "    <tr>\n",
              "      <th>4</th>\n",
              "      <td>24.59</td>\n",
              "      <td>3.61</td>\n",
              "      <td>Female</td>\n",
              "      <td>No</td>\n",
              "      <td>Sun</td>\n",
              "      <td>Dinner</td>\n",
              "      <td>4</td>\n",
              "      <td>14.680765</td>\n",
              "    </tr>\n",
              "    <tr>\n",
              "      <th>...</th>\n",
              "      <td>...</td>\n",
              "      <td>...</td>\n",
              "      <td>...</td>\n",
              "      <td>...</td>\n",
              "      <td>...</td>\n",
              "      <td>...</td>\n",
              "      <td>...</td>\n",
              "      <td>...</td>\n",
              "    </tr>\n",
              "    <tr>\n",
              "      <th>239</th>\n",
              "      <td>29.03</td>\n",
              "      <td>5.92</td>\n",
              "      <td>Male</td>\n",
              "      <td>No</td>\n",
              "      <td>Sat</td>\n",
              "      <td>Dinner</td>\n",
              "      <td>3</td>\n",
              "      <td>20.392697</td>\n",
              "    </tr>\n",
              "    <tr>\n",
              "      <th>240</th>\n",
              "      <td>27.18</td>\n",
              "      <td>2.00</td>\n",
              "      <td>Female</td>\n",
              "      <td>Yes</td>\n",
              "      <td>Sat</td>\n",
              "      <td>Dinner</td>\n",
              "      <td>2</td>\n",
              "      <td>7.358352</td>\n",
              "    </tr>\n",
              "    <tr>\n",
              "      <th>241</th>\n",
              "      <td>22.67</td>\n",
              "      <td>2.00</td>\n",
              "      <td>Male</td>\n",
              "      <td>Yes</td>\n",
              "      <td>Sat</td>\n",
              "      <td>Dinner</td>\n",
              "      <td>2</td>\n",
              "      <td>8.822232</td>\n",
              "    </tr>\n",
              "    <tr>\n",
              "      <th>242</th>\n",
              "      <td>17.82</td>\n",
              "      <td>1.75</td>\n",
              "      <td>Male</td>\n",
              "      <td>No</td>\n",
              "      <td>Sat</td>\n",
              "      <td>Dinner</td>\n",
              "      <td>2</td>\n",
              "      <td>9.820426</td>\n",
              "    </tr>\n",
              "    <tr>\n",
              "      <th>243</th>\n",
              "      <td>18.78</td>\n",
              "      <td>3.00</td>\n",
              "      <td>Female</td>\n",
              "      <td>No</td>\n",
              "      <td>Thur</td>\n",
              "      <td>Dinner</td>\n",
              "      <td>2</td>\n",
              "      <td>15.974441</td>\n",
              "    </tr>\n",
              "  </tbody>\n",
              "</table>\n",
              "<p>244 rows × 8 columns</p>\n",
              "</div>"
            ],
            "text/plain": [
              "     total_bill   tip     sex smoker   day    time  size  tips_percent\n",
              "0         16.99  1.01  Female     No   Sun  Dinner     2      5.944673\n",
              "1         10.34  1.66    Male     No   Sun  Dinner     3     16.054159\n",
              "2         21.01  3.50    Male     No   Sun  Dinner     3     16.658734\n",
              "3         23.68  3.31    Male     No   Sun  Dinner     2     13.978041\n",
              "4         24.59  3.61  Female     No   Sun  Dinner     4     14.680765\n",
              "..          ...   ...     ...    ...   ...     ...   ...           ...\n",
              "239       29.03  5.92    Male     No   Sat  Dinner     3     20.392697\n",
              "240       27.18  2.00  Female    Yes   Sat  Dinner     2      7.358352\n",
              "241       22.67  2.00    Male    Yes   Sat  Dinner     2      8.822232\n",
              "242       17.82  1.75    Male     No   Sat  Dinner     2      9.820426\n",
              "243       18.78  3.00  Female     No  Thur  Dinner     2     15.974441\n",
              "\n",
              "[244 rows x 8 columns]"
            ]
          },
          "execution_count": 36,
          "metadata": {},
          "output_type": "execute_result"
        }
      ],
      "source": [
        "### assign ###\n",
        "tips.assign(tips_percent=lambda x: (x.tip/x.total_bill)*100.0)"
      ]
    },
    {
      "cell_type": "markdown",
      "metadata": {
        "id": "-LOSBfyURlSn"
      },
      "source": [
        "   # Creating New DataFrames\n",
        "       # Two examples"
      ]
    },
    {
      "cell_type": "code",
      "execution_count": 37,
      "metadata": {
        "colab": {
          "base_uri": "https://localhost:8080/",
          "height": 424
        },
        "id": "30QAZeEnvWr9",
        "outputId": "576d2145-2fd6-4e63-cd84-80a5820f169b"
      },
      "outputs": [
        {
          "data": {
            "text/html": [
              "<div>\n",
              "<style scoped>\n",
              "    .dataframe tbody tr th:only-of-type {\n",
              "        vertical-align: middle;\n",
              "    }\n",
              "\n",
              "    .dataframe tbody tr th {\n",
              "        vertical-align: top;\n",
              "    }\n",
              "\n",
              "    .dataframe thead th {\n",
              "        text-align: right;\n",
              "    }\n",
              "</style>\n",
              "<table border=\"1\" class=\"dataframe\">\n",
              "  <thead>\n",
              "    <tr style=\"text-align: right;\">\n",
              "      <th></th>\n",
              "      <th>tip</th>\n",
              "      <th>sex</th>\n",
              "    </tr>\n",
              "  </thead>\n",
              "  <tbody>\n",
              "    <tr>\n",
              "      <th>0</th>\n",
              "      <td>1.01</td>\n",
              "      <td>Female</td>\n",
              "    </tr>\n",
              "    <tr>\n",
              "      <th>1</th>\n",
              "      <td>1.66</td>\n",
              "      <td>Male</td>\n",
              "    </tr>\n",
              "    <tr>\n",
              "      <th>2</th>\n",
              "      <td>3.50</td>\n",
              "      <td>Male</td>\n",
              "    </tr>\n",
              "    <tr>\n",
              "      <th>3</th>\n",
              "      <td>3.31</td>\n",
              "      <td>Male</td>\n",
              "    </tr>\n",
              "    <tr>\n",
              "      <th>4</th>\n",
              "      <td>3.61</td>\n",
              "      <td>Female</td>\n",
              "    </tr>\n",
              "    <tr>\n",
              "      <th>...</th>\n",
              "      <td>...</td>\n",
              "      <td>...</td>\n",
              "    </tr>\n",
              "    <tr>\n",
              "      <th>239</th>\n",
              "      <td>5.92</td>\n",
              "      <td>Male</td>\n",
              "    </tr>\n",
              "    <tr>\n",
              "      <th>240</th>\n",
              "      <td>2.00</td>\n",
              "      <td>Female</td>\n",
              "    </tr>\n",
              "    <tr>\n",
              "      <th>241</th>\n",
              "      <td>2.00</td>\n",
              "      <td>Male</td>\n",
              "    </tr>\n",
              "    <tr>\n",
              "      <th>242</th>\n",
              "      <td>1.75</td>\n",
              "      <td>Male</td>\n",
              "    </tr>\n",
              "    <tr>\n",
              "      <th>243</th>\n",
              "      <td>3.00</td>\n",
              "      <td>Female</td>\n",
              "    </tr>\n",
              "  </tbody>\n",
              "</table>\n",
              "<p>244 rows × 2 columns</p>\n",
              "</div>"
            ],
            "text/plain": [
              "      tip     sex\n",
              "0    1.01  Female\n",
              "1    1.66    Male\n",
              "2    3.50    Male\n",
              "3    3.31    Male\n",
              "4    3.61  Female\n",
              "..    ...     ...\n",
              "239  5.92    Male\n",
              "240  2.00  Female\n",
              "241  2.00    Male\n",
              "242  1.75    Male\n",
              "243  3.00  Female\n",
              "\n",
              "[244 rows x 2 columns]"
            ]
          },
          "execution_count": 37,
          "metadata": {},
          "output_type": "execute_result"
        }
      ],
      "source": [
        "tips[['tip','sex']]"
      ]
    },
    {
      "cell_type": "code",
      "execution_count": 38,
      "metadata": {
        "colab": {
          "base_uri": "https://localhost:8080/",
          "height": 424
        },
        "id": "uNe864dERlSo",
        "outputId": "036124de-4725-4cea-abaa-60eb2856aa1f"
      },
      "outputs": [
        {
          "data": {
            "text/html": [
              "<div>\n",
              "<style scoped>\n",
              "    .dataframe tbody tr th:only-of-type {\n",
              "        vertical-align: middle;\n",
              "    }\n",
              "\n",
              "    .dataframe tbody tr th {\n",
              "        vertical-align: top;\n",
              "    }\n",
              "\n",
              "    .dataframe thead th {\n",
              "        text-align: right;\n",
              "    }\n",
              "</style>\n",
              "<table border=\"1\" class=\"dataframe\">\n",
              "  <thead>\n",
              "    <tr style=\"text-align: right;\">\n",
              "      <th></th>\n",
              "      <th>tip</th>\n",
              "      <th>sex</th>\n",
              "    </tr>\n",
              "  </thead>\n",
              "  <tbody>\n",
              "    <tr>\n",
              "      <th>0</th>\n",
              "      <td>1.01</td>\n",
              "      <td>Female</td>\n",
              "    </tr>\n",
              "    <tr>\n",
              "      <th>1</th>\n",
              "      <td>1.66</td>\n",
              "      <td>Male</td>\n",
              "    </tr>\n",
              "    <tr>\n",
              "      <th>2</th>\n",
              "      <td>3.50</td>\n",
              "      <td>Male</td>\n",
              "    </tr>\n",
              "    <tr>\n",
              "      <th>3</th>\n",
              "      <td>3.31</td>\n",
              "      <td>Male</td>\n",
              "    </tr>\n",
              "    <tr>\n",
              "      <th>4</th>\n",
              "      <td>3.61</td>\n",
              "      <td>Female</td>\n",
              "    </tr>\n",
              "    <tr>\n",
              "      <th>...</th>\n",
              "      <td>...</td>\n",
              "      <td>...</td>\n",
              "    </tr>\n",
              "    <tr>\n",
              "      <th>239</th>\n",
              "      <td>5.92</td>\n",
              "      <td>Male</td>\n",
              "    </tr>\n",
              "    <tr>\n",
              "      <th>240</th>\n",
              "      <td>2.00</td>\n",
              "      <td>Female</td>\n",
              "    </tr>\n",
              "    <tr>\n",
              "      <th>241</th>\n",
              "      <td>2.00</td>\n",
              "      <td>Male</td>\n",
              "    </tr>\n",
              "    <tr>\n",
              "      <th>242</th>\n",
              "      <td>1.75</td>\n",
              "      <td>Male</td>\n",
              "    </tr>\n",
              "    <tr>\n",
              "      <th>243</th>\n",
              "      <td>3.00</td>\n",
              "      <td>Female</td>\n",
              "    </tr>\n",
              "  </tbody>\n",
              "</table>\n",
              "<p>244 rows × 2 columns</p>\n",
              "</div>"
            ],
            "text/plain": [
              "      tip     sex\n",
              "0    1.01  Female\n",
              "1    1.66    Male\n",
              "2    3.50    Male\n",
              "3    3.31    Male\n",
              "4    3.61  Female\n",
              "..    ...     ...\n",
              "239  5.92    Male\n",
              "240  2.00  Female\n",
              "241  2.00    Male\n",
              "242  1.75    Male\n",
              "243  3.00  Female\n",
              "\n",
              "[244 rows x 2 columns]"
            ]
          },
          "execution_count": 38,
          "metadata": {},
          "output_type": "execute_result"
        }
      ],
      "source": [
        "df_2 = tips[['tip','sex']]\n",
        "df_2"
      ]
    },
    {
      "cell_type": "code",
      "execution_count": 39,
      "metadata": {
        "colab": {
          "base_uri": "https://localhost:8080/",
          "height": 424
        },
        "id": "1q1ecTyTRlSp",
        "outputId": "0d06eb47-d1e5-4cef-f3cc-c0056c6a89ef"
      },
      "outputs": [
        {
          "data": {
            "text/html": [
              "<div>\n",
              "<style scoped>\n",
              "    .dataframe tbody tr th:only-of-type {\n",
              "        vertical-align: middle;\n",
              "    }\n",
              "\n",
              "    .dataframe tbody tr th {\n",
              "        vertical-align: top;\n",
              "    }\n",
              "\n",
              "    .dataframe thead th {\n",
              "        text-align: right;\n",
              "    }\n",
              "</style>\n",
              "<table border=\"1\" class=\"dataframe\">\n",
              "  <thead>\n",
              "    <tr style=\"text-align: right;\">\n",
              "      <th></th>\n",
              "      <th>smoker</th>\n",
              "      <th>total_bill</th>\n",
              "    </tr>\n",
              "  </thead>\n",
              "  <tbody>\n",
              "    <tr>\n",
              "      <th>0</th>\n",
              "      <td>No</td>\n",
              "      <td>16.99</td>\n",
              "    </tr>\n",
              "    <tr>\n",
              "      <th>1</th>\n",
              "      <td>No</td>\n",
              "      <td>10.34</td>\n",
              "    </tr>\n",
              "    <tr>\n",
              "      <th>2</th>\n",
              "      <td>No</td>\n",
              "      <td>21.01</td>\n",
              "    </tr>\n",
              "    <tr>\n",
              "      <th>3</th>\n",
              "      <td>No</td>\n",
              "      <td>23.68</td>\n",
              "    </tr>\n",
              "    <tr>\n",
              "      <th>4</th>\n",
              "      <td>No</td>\n",
              "      <td>24.59</td>\n",
              "    </tr>\n",
              "    <tr>\n",
              "      <th>...</th>\n",
              "      <td>...</td>\n",
              "      <td>...</td>\n",
              "    </tr>\n",
              "    <tr>\n",
              "      <th>239</th>\n",
              "      <td>No</td>\n",
              "      <td>29.03</td>\n",
              "    </tr>\n",
              "    <tr>\n",
              "      <th>240</th>\n",
              "      <td>Yes</td>\n",
              "      <td>27.18</td>\n",
              "    </tr>\n",
              "    <tr>\n",
              "      <th>241</th>\n",
              "      <td>Yes</td>\n",
              "      <td>22.67</td>\n",
              "    </tr>\n",
              "    <tr>\n",
              "      <th>242</th>\n",
              "      <td>No</td>\n",
              "      <td>17.82</td>\n",
              "    </tr>\n",
              "    <tr>\n",
              "      <th>243</th>\n",
              "      <td>No</td>\n",
              "      <td>18.78</td>\n",
              "    </tr>\n",
              "  </tbody>\n",
              "</table>\n",
              "<p>244 rows × 2 columns</p>\n",
              "</div>"
            ],
            "text/plain": [
              "    smoker  total_bill\n",
              "0       No       16.99\n",
              "1       No       10.34\n",
              "2       No       21.01\n",
              "3       No       23.68\n",
              "4       No       24.59\n",
              "..     ...         ...\n",
              "239     No       29.03\n",
              "240    Yes       27.18\n",
              "241    Yes       22.67\n",
              "242     No       17.82\n",
              "243     No       18.78\n",
              "\n",
              "[244 rows x 2 columns]"
            ]
          },
          "execution_count": 39,
          "metadata": {},
          "output_type": "execute_result"
        }
      ],
      "source": [
        "df_3 = tips[['smoker','total_bill']]\n",
        "df_3"
      ]
    },
    {
      "cell_type": "code",
      "execution_count": 40,
      "metadata": {
        "colab": {
          "base_uri": "https://localhost:8080/"
        },
        "id": "xQ6ia1BZwYv5",
        "outputId": "e6223f7e-f2ce-44e6-a593-e7c3c46f2f07"
      },
      "outputs": [
        {
          "data": {
            "text/plain": [
              "0     Female\n",
              "1       Male\n",
              "2       Male\n",
              "3       Male\n",
              "4     Female\n",
              "5       Male\n",
              "6       Male\n",
              "7       Male\n",
              "8       Male\n",
              "9       Male\n",
              "10      Male\n",
              "Name: sex, dtype: object"
            ]
          },
          "execution_count": 40,
          "metadata": {},
          "output_type": "execute_result"
        }
      ],
      "source": [
        "tips['sex'].head(11)"
      ]
    },
    {
      "cell_type": "code",
      "execution_count": 41,
      "metadata": {
        "colab": {
          "base_uri": "https://localhost:8080/"
        },
        "id": "ggcz4LHmRlSq",
        "outputId": "5b2e41f3-4400-451b-fa6c-070265b855e5"
      },
      "outputs": [
        {
          "data": {
            "text/plain": [
              "0     Female\n",
              "2       Male\n",
              "4     Female\n",
              "6       Male\n",
              "8       Male\n",
              "10      Male\n",
              "Name: sex, dtype: object"
            ]
          },
          "execution_count": 41,
          "metadata": {},
          "output_type": "execute_result"
        }
      ],
      "source": [
        "## loc - [índice,nomedacoluna]\n",
        "\n",
        "tips.loc[0:10:2,'sex']"
      ]
    },
    {
      "cell_type": "code",
      "execution_count": 42,
      "metadata": {
        "colab": {
          "base_uri": "https://localhost:8080/"
        },
        "id": "N_LL4taGw1TO",
        "outputId": "3ed278fd-f4ef-407e-91c2-43bc27825f5e"
      },
      "outputs": [
        {
          "data": {
            "text/plain": [
              "0    2\n",
              "1    3\n",
              "2    3\n",
              "3    2\n",
              "4    4\n",
              "Name: size, dtype: int64"
            ]
          },
          "execution_count": 42,
          "metadata": {},
          "output_type": "execute_result"
        }
      ],
      "source": [
        "tips['size'].head()"
      ]
    },
    {
      "cell_type": "code",
      "execution_count": 43,
      "metadata": {
        "colab": {
          "base_uri": "https://localhost:8080/"
        },
        "id": "i1SbPQ9dyO9T",
        "outputId": "fa77bcfd-33aa-40b3-9239-9db2da71dccb"
      },
      "outputs": [
        {
          "data": {
            "text/plain": [
              "0    1.01\n",
              "1    1.66\n",
              "2    3.50\n",
              "3    3.31\n",
              "4    3.61\n",
              "Name: tip, dtype: float64"
            ]
          },
          "execution_count": 43,
          "metadata": {},
          "output_type": "execute_result"
        }
      ],
      "source": [
        "tips['tip'].head()"
      ]
    },
    {
      "cell_type": "code",
      "execution_count": 44,
      "metadata": {
        "colab": {
          "base_uri": "https://localhost:8080/",
          "height": 424
        },
        "id": "_NKbLRMpzZpQ",
        "outputId": "cd7e07f3-0e1d-445d-8855-efc9dc6dcb49"
      },
      "outputs": [
        {
          "data": {
            "text/html": [
              "<div>\n",
              "<style scoped>\n",
              "    .dataframe tbody tr th:only-of-type {\n",
              "        vertical-align: middle;\n",
              "    }\n",
              "\n",
              "    .dataframe tbody tr th {\n",
              "        vertical-align: top;\n",
              "    }\n",
              "\n",
              "    .dataframe thead th {\n",
              "        text-align: right;\n",
              "    }\n",
              "</style>\n",
              "<table border=\"1\" class=\"dataframe\">\n",
              "  <thead>\n",
              "    <tr style=\"text-align: right;\">\n",
              "      <th></th>\n",
              "      <th>total_bill</th>\n",
              "      <th>tip</th>\n",
              "      <th>sex</th>\n",
              "      <th>smoker</th>\n",
              "      <th>day</th>\n",
              "      <th>time</th>\n",
              "      <th>size</th>\n",
              "    </tr>\n",
              "  </thead>\n",
              "  <tbody>\n",
              "    <tr>\n",
              "      <th>0</th>\n",
              "      <td>16.99</td>\n",
              "      <td>1.01</td>\n",
              "      <td>Female</td>\n",
              "      <td>No</td>\n",
              "      <td>Sun</td>\n",
              "      <td>Dinner</td>\n",
              "      <td>2</td>\n",
              "    </tr>\n",
              "    <tr>\n",
              "      <th>1</th>\n",
              "      <td>10.34</td>\n",
              "      <td>1.66</td>\n",
              "      <td>Male</td>\n",
              "      <td>No</td>\n",
              "      <td>Sun</td>\n",
              "      <td>Dinner</td>\n",
              "      <td>3</td>\n",
              "    </tr>\n",
              "    <tr>\n",
              "      <th>2</th>\n",
              "      <td>21.01</td>\n",
              "      <td>3.50</td>\n",
              "      <td>Male</td>\n",
              "      <td>No</td>\n",
              "      <td>Sun</td>\n",
              "      <td>Dinner</td>\n",
              "      <td>3</td>\n",
              "    </tr>\n",
              "    <tr>\n",
              "      <th>3</th>\n",
              "      <td>23.68</td>\n",
              "      <td>3.31</td>\n",
              "      <td>Male</td>\n",
              "      <td>No</td>\n",
              "      <td>Sun</td>\n",
              "      <td>Dinner</td>\n",
              "      <td>2</td>\n",
              "    </tr>\n",
              "    <tr>\n",
              "      <th>4</th>\n",
              "      <td>24.59</td>\n",
              "      <td>3.61</td>\n",
              "      <td>Female</td>\n",
              "      <td>No</td>\n",
              "      <td>Sun</td>\n",
              "      <td>Dinner</td>\n",
              "      <td>4</td>\n",
              "    </tr>\n",
              "    <tr>\n",
              "      <th>...</th>\n",
              "      <td>...</td>\n",
              "      <td>...</td>\n",
              "      <td>...</td>\n",
              "      <td>...</td>\n",
              "      <td>...</td>\n",
              "      <td>...</td>\n",
              "      <td>...</td>\n",
              "    </tr>\n",
              "    <tr>\n",
              "      <th>239</th>\n",
              "      <td>29.03</td>\n",
              "      <td>5.92</td>\n",
              "      <td>Male</td>\n",
              "      <td>No</td>\n",
              "      <td>Sat</td>\n",
              "      <td>Dinner</td>\n",
              "      <td>3</td>\n",
              "    </tr>\n",
              "    <tr>\n",
              "      <th>240</th>\n",
              "      <td>27.18</td>\n",
              "      <td>2.00</td>\n",
              "      <td>Female</td>\n",
              "      <td>Yes</td>\n",
              "      <td>Sat</td>\n",
              "      <td>Dinner</td>\n",
              "      <td>2</td>\n",
              "    </tr>\n",
              "    <tr>\n",
              "      <th>241</th>\n",
              "      <td>22.67</td>\n",
              "      <td>2.00</td>\n",
              "      <td>Male</td>\n",
              "      <td>Yes</td>\n",
              "      <td>Sat</td>\n",
              "      <td>Dinner</td>\n",
              "      <td>2</td>\n",
              "    </tr>\n",
              "    <tr>\n",
              "      <th>242</th>\n",
              "      <td>17.82</td>\n",
              "      <td>1.75</td>\n",
              "      <td>Male</td>\n",
              "      <td>No</td>\n",
              "      <td>Sat</td>\n",
              "      <td>Dinner</td>\n",
              "      <td>2</td>\n",
              "    </tr>\n",
              "    <tr>\n",
              "      <th>243</th>\n",
              "      <td>18.78</td>\n",
              "      <td>3.00</td>\n",
              "      <td>Female</td>\n",
              "      <td>No</td>\n",
              "      <td>Thur</td>\n",
              "      <td>Dinner</td>\n",
              "      <td>2</td>\n",
              "    </tr>\n",
              "  </tbody>\n",
              "</table>\n",
              "<p>244 rows × 7 columns</p>\n",
              "</div>"
            ],
            "text/plain": [
              "     total_bill   tip     sex smoker   day    time  size\n",
              "0         16.99  1.01  Female     No   Sun  Dinner     2\n",
              "1         10.34  1.66    Male     No   Sun  Dinner     3\n",
              "2         21.01  3.50    Male     No   Sun  Dinner     3\n",
              "3         23.68  3.31    Male     No   Sun  Dinner     2\n",
              "4         24.59  3.61  Female     No   Sun  Dinner     4\n",
              "..          ...   ...     ...    ...   ...     ...   ...\n",
              "239       29.03  5.92    Male     No   Sat  Dinner     3\n",
              "240       27.18  2.00  Female    Yes   Sat  Dinner     2\n",
              "241       22.67  2.00    Male    Yes   Sat  Dinner     2\n",
              "242       17.82  1.75    Male     No   Sat  Dinner     2\n",
              "243       18.78  3.00  Female     No  Thur  Dinner     2\n",
              "\n",
              "[244 rows x 7 columns]"
            ]
          },
          "execution_count": 44,
          "metadata": {},
          "output_type": "execute_result"
        }
      ],
      "source": [
        "tips"
      ]
    },
    {
      "cell_type": "code",
      "execution_count": 45,
      "metadata": {
        "id": "qFNEnK0JRlSq"
      },
      "outputs": [],
      "source": [
        "#tips.loc[1,2]"
      ]
    },
    {
      "cell_type": "code",
      "execution_count": 46,
      "metadata": {
        "colab": {
          "base_uri": "https://localhost:8080/",
          "height": 238
        },
        "id": "vLYedejxRlSr",
        "outputId": "f9f65ff6-2651-4238-d6a4-a89e75214a3f"
      },
      "outputs": [
        {
          "data": {
            "text/html": [
              "<div>\n",
              "<style scoped>\n",
              "    .dataframe tbody tr th:only-of-type {\n",
              "        vertical-align: middle;\n",
              "    }\n",
              "\n",
              "    .dataframe tbody tr th {\n",
              "        vertical-align: top;\n",
              "    }\n",
              "\n",
              "    .dataframe thead th {\n",
              "        text-align: right;\n",
              "    }\n",
              "</style>\n",
              "<table border=\"1\" class=\"dataframe\">\n",
              "  <thead>\n",
              "    <tr style=\"text-align: right;\">\n",
              "      <th></th>\n",
              "      <th>total_bill</th>\n",
              "      <th>tip</th>\n",
              "      <th>sex</th>\n",
              "    </tr>\n",
              "  </thead>\n",
              "  <tbody>\n",
              "    <tr>\n",
              "      <th>4</th>\n",
              "      <td>24.59</td>\n",
              "      <td>3.61</td>\n",
              "      <td>Female</td>\n",
              "    </tr>\n",
              "    <tr>\n",
              "      <th>5</th>\n",
              "      <td>25.29</td>\n",
              "      <td>4.71</td>\n",
              "      <td>Male</td>\n",
              "    </tr>\n",
              "    <tr>\n",
              "      <th>6</th>\n",
              "      <td>8.77</td>\n",
              "      <td>2.00</td>\n",
              "      <td>Male</td>\n",
              "    </tr>\n",
              "    <tr>\n",
              "      <th>7</th>\n",
              "      <td>26.88</td>\n",
              "      <td>3.12</td>\n",
              "      <td>Male</td>\n",
              "    </tr>\n",
              "    <tr>\n",
              "      <th>8</th>\n",
              "      <td>15.04</td>\n",
              "      <td>1.96</td>\n",
              "      <td>Male</td>\n",
              "    </tr>\n",
              "    <tr>\n",
              "      <th>9</th>\n",
              "      <td>14.78</td>\n",
              "      <td>3.23</td>\n",
              "      <td>Male</td>\n",
              "    </tr>\n",
              "  </tbody>\n",
              "</table>\n",
              "</div>"
            ],
            "text/plain": [
              "   total_bill   tip     sex\n",
              "4       24.59  3.61  Female\n",
              "5       25.29  4.71    Male\n",
              "6        8.77  2.00    Male\n",
              "7       26.88  3.12    Male\n",
              "8       15.04  1.96    Male\n",
              "9       14.78  3.23    Male"
            ]
          },
          "execution_count": 46,
          "metadata": {},
          "output_type": "execute_result"
        }
      ],
      "source": [
        "tips.iloc[4:10,0:3]"
      ]
    },
    {
      "cell_type": "code",
      "execution_count": 47,
      "metadata": {
        "colab": {
          "base_uri": "https://localhost:8080/"
        },
        "id": "FNu_FuyQRlSs",
        "outputId": "9b2e4352-8e6f-4d08-c9bd-e44f2e0a6749"
      },
      "outputs": [
        {
          "data": {
            "text/plain": [
              "sex       Female\n",
              "smoker        No\n",
              "day          Sun\n",
              "Name: 4, dtype: object"
            ]
          },
          "execution_count": 47,
          "metadata": {},
          "output_type": "execute_result"
        }
      ],
      "source": [
        "## iloc - slices\n",
        "tips.iloc[4,2:5]"
      ]
    },
    {
      "cell_type": "code",
      "execution_count": 48,
      "metadata": {
        "colab": {
          "base_uri": "https://localhost:8080/",
          "height": 206
        },
        "id": "PEktz40zRlSs",
        "outputId": "a7dd65a8-798d-491b-a029-36bfb5ad0e91"
      },
      "outputs": [
        {
          "data": {
            "text/html": [
              "<div>\n",
              "<style scoped>\n",
              "    .dataframe tbody tr th:only-of-type {\n",
              "        vertical-align: middle;\n",
              "    }\n",
              "\n",
              "    .dataframe tbody tr th {\n",
              "        vertical-align: top;\n",
              "    }\n",
              "\n",
              "    .dataframe thead th {\n",
              "        text-align: right;\n",
              "    }\n",
              "</style>\n",
              "<table border=\"1\" class=\"dataframe\">\n",
              "  <thead>\n",
              "    <tr style=\"text-align: right;\">\n",
              "      <th></th>\n",
              "      <th>total_bill</th>\n",
              "      <th>tip</th>\n",
              "      <th>smoker</th>\n",
              "      <th>time</th>\n",
              "    </tr>\n",
              "  </thead>\n",
              "  <tbody>\n",
              "    <tr>\n",
              "      <th>0</th>\n",
              "      <td>16.99</td>\n",
              "      <td>1.01</td>\n",
              "      <td>No</td>\n",
              "      <td>Dinner</td>\n",
              "    </tr>\n",
              "    <tr>\n",
              "      <th>1</th>\n",
              "      <td>10.34</td>\n",
              "      <td>1.66</td>\n",
              "      <td>No</td>\n",
              "      <td>Dinner</td>\n",
              "    </tr>\n",
              "    <tr>\n",
              "      <th>2</th>\n",
              "      <td>21.01</td>\n",
              "      <td>3.50</td>\n",
              "      <td>No</td>\n",
              "      <td>Dinner</td>\n",
              "    </tr>\n",
              "    <tr>\n",
              "      <th>3</th>\n",
              "      <td>23.68</td>\n",
              "      <td>3.31</td>\n",
              "      <td>No</td>\n",
              "      <td>Dinner</td>\n",
              "    </tr>\n",
              "    <tr>\n",
              "      <th>4</th>\n",
              "      <td>24.59</td>\n",
              "      <td>3.61</td>\n",
              "      <td>No</td>\n",
              "      <td>Dinner</td>\n",
              "    </tr>\n",
              "  </tbody>\n",
              "</table>\n",
              "</div>"
            ],
            "text/plain": [
              "   total_bill   tip smoker    time\n",
              "0       16.99  1.01     No  Dinner\n",
              "1       10.34  1.66     No  Dinner\n",
              "2       21.01  3.50     No  Dinner\n",
              "3       23.68  3.31     No  Dinner\n",
              "4       24.59  3.61     No  Dinner"
            ]
          },
          "execution_count": 48,
          "metadata": {},
          "output_type": "execute_result"
        }
      ],
      "source": [
        "tips[['total_bill', 'tip', 'smoker', 'time']].head(5)"
      ]
    },
    {
      "cell_type": "code",
      "execution_count": 49,
      "metadata": {
        "colab": {
          "base_uri": "https://localhost:8080/",
          "height": 206
        },
        "id": "5hTOWa2SRlSt",
        "outputId": "23d18cc6-8160-4bf2-d8ed-a9493f8e7c28"
      },
      "outputs": [
        {
          "data": {
            "text/html": [
              "<div>\n",
              "<style scoped>\n",
              "    .dataframe tbody tr th:only-of-type {\n",
              "        vertical-align: middle;\n",
              "    }\n",
              "\n",
              "    .dataframe tbody tr th {\n",
              "        vertical-align: top;\n",
              "    }\n",
              "\n",
              "    .dataframe thead th {\n",
              "        text-align: right;\n",
              "    }\n",
              "</style>\n",
              "<table border=\"1\" class=\"dataframe\">\n",
              "  <thead>\n",
              "    <tr style=\"text-align: right;\">\n",
              "      <th></th>\n",
              "      <th>total_bill</th>\n",
              "      <th>tip</th>\n",
              "      <th>sex</th>\n",
              "      <th>smoker</th>\n",
              "      <th>day</th>\n",
              "      <th>time</th>\n",
              "      <th>size</th>\n",
              "    </tr>\n",
              "  </thead>\n",
              "  <tbody>\n",
              "    <tr>\n",
              "      <th>0</th>\n",
              "      <td>16.99</td>\n",
              "      <td>1.01</td>\n",
              "      <td>Female</td>\n",
              "      <td>No</td>\n",
              "      <td>Sun</td>\n",
              "      <td>Dinner</td>\n",
              "      <td>2</td>\n",
              "    </tr>\n",
              "    <tr>\n",
              "      <th>1</th>\n",
              "      <td>10.34</td>\n",
              "      <td>1.66</td>\n",
              "      <td>Male</td>\n",
              "      <td>No</td>\n",
              "      <td>Sun</td>\n",
              "      <td>Dinner</td>\n",
              "      <td>3</td>\n",
              "    </tr>\n",
              "    <tr>\n",
              "      <th>2</th>\n",
              "      <td>21.01</td>\n",
              "      <td>3.50</td>\n",
              "      <td>Male</td>\n",
              "      <td>No</td>\n",
              "      <td>Sun</td>\n",
              "      <td>Dinner</td>\n",
              "      <td>3</td>\n",
              "    </tr>\n",
              "    <tr>\n",
              "      <th>3</th>\n",
              "      <td>23.68</td>\n",
              "      <td>3.31</td>\n",
              "      <td>Male</td>\n",
              "      <td>No</td>\n",
              "      <td>Sun</td>\n",
              "      <td>Dinner</td>\n",
              "      <td>2</td>\n",
              "    </tr>\n",
              "    <tr>\n",
              "      <th>4</th>\n",
              "      <td>24.59</td>\n",
              "      <td>3.61</td>\n",
              "      <td>Female</td>\n",
              "      <td>No</td>\n",
              "      <td>Sun</td>\n",
              "      <td>Dinner</td>\n",
              "      <td>4</td>\n",
              "    </tr>\n",
              "  </tbody>\n",
              "</table>\n",
              "</div>"
            ],
            "text/plain": [
              "   total_bill   tip     sex smoker  day    time  size\n",
              "0       16.99  1.01  Female     No  Sun  Dinner     2\n",
              "1       10.34  1.66    Male     No  Sun  Dinner     3\n",
              "2       21.01  3.50    Male     No  Sun  Dinner     3\n",
              "3       23.68  3.31    Male     No  Sun  Dinner     2\n",
              "4       24.59  3.61  Female     No  Sun  Dinner     4"
            ]
          },
          "execution_count": 49,
          "metadata": {},
          "output_type": "execute_result"
        }
      ],
      "source": [
        "## Filtrando ####\n",
        "tips[tips['time'] == 'Dinner'].head(5)\n",
        "#tips['time'] == 'Dinner'"
      ]
    },
    {
      "cell_type": "code",
      "execution_count": 50,
      "metadata": {},
      "outputs": [
        {
          "data": {
            "text/html": [
              "<div>\n",
              "<style scoped>\n",
              "    .dataframe tbody tr th:only-of-type {\n",
              "        vertical-align: middle;\n",
              "    }\n",
              "\n",
              "    .dataframe tbody tr th {\n",
              "        vertical-align: top;\n",
              "    }\n",
              "\n",
              "    .dataframe thead th {\n",
              "        text-align: right;\n",
              "    }\n",
              "</style>\n",
              "<table border=\"1\" class=\"dataframe\">\n",
              "  <thead>\n",
              "    <tr style=\"text-align: right;\">\n",
              "      <th></th>\n",
              "      <th>total_bill</th>\n",
              "      <th>tip</th>\n",
              "      <th>sex</th>\n",
              "      <th>smoker</th>\n",
              "      <th>day</th>\n",
              "      <th>time</th>\n",
              "      <th>size</th>\n",
              "    </tr>\n",
              "  </thead>\n",
              "  <tbody>\n",
              "    <tr>\n",
              "      <th>80</th>\n",
              "      <td>19.44</td>\n",
              "      <td>3.00</td>\n",
              "      <td>Male</td>\n",
              "      <td>Yes</td>\n",
              "      <td>Thur</td>\n",
              "      <td>Lunch</td>\n",
              "      <td>2</td>\n",
              "    </tr>\n",
              "    <tr>\n",
              "      <th>83</th>\n",
              "      <td>32.68</td>\n",
              "      <td>5.00</td>\n",
              "      <td>Male</td>\n",
              "      <td>Yes</td>\n",
              "      <td>Thur</td>\n",
              "      <td>Lunch</td>\n",
              "      <td>2</td>\n",
              "    </tr>\n",
              "    <tr>\n",
              "      <th>138</th>\n",
              "      <td>16.00</td>\n",
              "      <td>2.00</td>\n",
              "      <td>Male</td>\n",
              "      <td>Yes</td>\n",
              "      <td>Thur</td>\n",
              "      <td>Lunch</td>\n",
              "      <td>2</td>\n",
              "    </tr>\n",
              "    <tr>\n",
              "      <th>191</th>\n",
              "      <td>19.81</td>\n",
              "      <td>4.19</td>\n",
              "      <td>Female</td>\n",
              "      <td>Yes</td>\n",
              "      <td>Thur</td>\n",
              "      <td>Lunch</td>\n",
              "      <td>2</td>\n",
              "    </tr>\n",
              "    <tr>\n",
              "      <th>192</th>\n",
              "      <td>28.44</td>\n",
              "      <td>2.56</td>\n",
              "      <td>Male</td>\n",
              "      <td>Yes</td>\n",
              "      <td>Thur</td>\n",
              "      <td>Lunch</td>\n",
              "      <td>2</td>\n",
              "    </tr>\n",
              "    <tr>\n",
              "      <th>193</th>\n",
              "      <td>15.48</td>\n",
              "      <td>2.02</td>\n",
              "      <td>Male</td>\n",
              "      <td>Yes</td>\n",
              "      <td>Thur</td>\n",
              "      <td>Lunch</td>\n",
              "      <td>2</td>\n",
              "    </tr>\n",
              "    <tr>\n",
              "      <th>194</th>\n",
              "      <td>16.58</td>\n",
              "      <td>4.00</td>\n",
              "      <td>Male</td>\n",
              "      <td>Yes</td>\n",
              "      <td>Thur</td>\n",
              "      <td>Lunch</td>\n",
              "      <td>2</td>\n",
              "    </tr>\n",
              "    <tr>\n",
              "      <th>196</th>\n",
              "      <td>10.34</td>\n",
              "      <td>2.00</td>\n",
              "      <td>Male</td>\n",
              "      <td>Yes</td>\n",
              "      <td>Thur</td>\n",
              "      <td>Lunch</td>\n",
              "      <td>2</td>\n",
              "    </tr>\n",
              "    <tr>\n",
              "      <th>197</th>\n",
              "      <td>43.11</td>\n",
              "      <td>5.00</td>\n",
              "      <td>Female</td>\n",
              "      <td>Yes</td>\n",
              "      <td>Thur</td>\n",
              "      <td>Lunch</td>\n",
              "      <td>4</td>\n",
              "    </tr>\n",
              "    <tr>\n",
              "      <th>198</th>\n",
              "      <td>13.00</td>\n",
              "      <td>2.00</td>\n",
              "      <td>Female</td>\n",
              "      <td>Yes</td>\n",
              "      <td>Thur</td>\n",
              "      <td>Lunch</td>\n",
              "      <td>2</td>\n",
              "    </tr>\n",
              "    <tr>\n",
              "      <th>199</th>\n",
              "      <td>13.51</td>\n",
              "      <td>2.00</td>\n",
              "      <td>Male</td>\n",
              "      <td>Yes</td>\n",
              "      <td>Thur</td>\n",
              "      <td>Lunch</td>\n",
              "      <td>2</td>\n",
              "    </tr>\n",
              "    <tr>\n",
              "      <th>200</th>\n",
              "      <td>18.71</td>\n",
              "      <td>4.00</td>\n",
              "      <td>Male</td>\n",
              "      <td>Yes</td>\n",
              "      <td>Thur</td>\n",
              "      <td>Lunch</td>\n",
              "      <td>3</td>\n",
              "    </tr>\n",
              "    <tr>\n",
              "      <th>201</th>\n",
              "      <td>12.74</td>\n",
              "      <td>2.01</td>\n",
              "      <td>Female</td>\n",
              "      <td>Yes</td>\n",
              "      <td>Thur</td>\n",
              "      <td>Lunch</td>\n",
              "      <td>2</td>\n",
              "    </tr>\n",
              "    <tr>\n",
              "      <th>202</th>\n",
              "      <td>13.00</td>\n",
              "      <td>2.00</td>\n",
              "      <td>Female</td>\n",
              "      <td>Yes</td>\n",
              "      <td>Thur</td>\n",
              "      <td>Lunch</td>\n",
              "      <td>2</td>\n",
              "    </tr>\n",
              "    <tr>\n",
              "      <th>203</th>\n",
              "      <td>16.40</td>\n",
              "      <td>2.50</td>\n",
              "      <td>Female</td>\n",
              "      <td>Yes</td>\n",
              "      <td>Thur</td>\n",
              "      <td>Lunch</td>\n",
              "      <td>2</td>\n",
              "    </tr>\n",
              "    <tr>\n",
              "      <th>204</th>\n",
              "      <td>20.53</td>\n",
              "      <td>4.00</td>\n",
              "      <td>Male</td>\n",
              "      <td>Yes</td>\n",
              "      <td>Thur</td>\n",
              "      <td>Lunch</td>\n",
              "      <td>4</td>\n",
              "    </tr>\n",
              "    <tr>\n",
              "      <th>205</th>\n",
              "      <td>16.47</td>\n",
              "      <td>3.23</td>\n",
              "      <td>Female</td>\n",
              "      <td>Yes</td>\n",
              "      <td>Thur</td>\n",
              "      <td>Lunch</td>\n",
              "      <td>3</td>\n",
              "    </tr>\n",
              "    <tr>\n",
              "      <th>220</th>\n",
              "      <td>12.16</td>\n",
              "      <td>2.20</td>\n",
              "      <td>Male</td>\n",
              "      <td>Yes</td>\n",
              "      <td>Fri</td>\n",
              "      <td>Lunch</td>\n",
              "      <td>2</td>\n",
              "    </tr>\n",
              "    <tr>\n",
              "      <th>221</th>\n",
              "      <td>13.42</td>\n",
              "      <td>3.48</td>\n",
              "      <td>Female</td>\n",
              "      <td>Yes</td>\n",
              "      <td>Fri</td>\n",
              "      <td>Lunch</td>\n",
              "      <td>2</td>\n",
              "    </tr>\n",
              "    <tr>\n",
              "      <th>222</th>\n",
              "      <td>8.58</td>\n",
              "      <td>1.92</td>\n",
              "      <td>Male</td>\n",
              "      <td>Yes</td>\n",
              "      <td>Fri</td>\n",
              "      <td>Lunch</td>\n",
              "      <td>1</td>\n",
              "    </tr>\n",
              "    <tr>\n",
              "      <th>224</th>\n",
              "      <td>13.42</td>\n",
              "      <td>1.58</td>\n",
              "      <td>Male</td>\n",
              "      <td>Yes</td>\n",
              "      <td>Fri</td>\n",
              "      <td>Lunch</td>\n",
              "      <td>2</td>\n",
              "    </tr>\n",
              "    <tr>\n",
              "      <th>225</th>\n",
              "      <td>16.27</td>\n",
              "      <td>2.50</td>\n",
              "      <td>Female</td>\n",
              "      <td>Yes</td>\n",
              "      <td>Fri</td>\n",
              "      <td>Lunch</td>\n",
              "      <td>2</td>\n",
              "    </tr>\n",
              "    <tr>\n",
              "      <th>226</th>\n",
              "      <td>10.09</td>\n",
              "      <td>2.00</td>\n",
              "      <td>Female</td>\n",
              "      <td>Yes</td>\n",
              "      <td>Fri</td>\n",
              "      <td>Lunch</td>\n",
              "      <td>2</td>\n",
              "    </tr>\n",
              "  </tbody>\n",
              "</table>\n",
              "</div>"
            ],
            "text/plain": [
              "     total_bill   tip     sex smoker   day   time  size\n",
              "80        19.44  3.00    Male    Yes  Thur  Lunch     2\n",
              "83        32.68  5.00    Male    Yes  Thur  Lunch     2\n",
              "138       16.00  2.00    Male    Yes  Thur  Lunch     2\n",
              "191       19.81  4.19  Female    Yes  Thur  Lunch     2\n",
              "192       28.44  2.56    Male    Yes  Thur  Lunch     2\n",
              "193       15.48  2.02    Male    Yes  Thur  Lunch     2\n",
              "194       16.58  4.00    Male    Yes  Thur  Lunch     2\n",
              "196       10.34  2.00    Male    Yes  Thur  Lunch     2\n",
              "197       43.11  5.00  Female    Yes  Thur  Lunch     4\n",
              "198       13.00  2.00  Female    Yes  Thur  Lunch     2\n",
              "199       13.51  2.00    Male    Yes  Thur  Lunch     2\n",
              "200       18.71  4.00    Male    Yes  Thur  Lunch     3\n",
              "201       12.74  2.01  Female    Yes  Thur  Lunch     2\n",
              "202       13.00  2.00  Female    Yes  Thur  Lunch     2\n",
              "203       16.40  2.50  Female    Yes  Thur  Lunch     2\n",
              "204       20.53  4.00    Male    Yes  Thur  Lunch     4\n",
              "205       16.47  3.23  Female    Yes  Thur  Lunch     3\n",
              "220       12.16  2.20    Male    Yes   Fri  Lunch     2\n",
              "221       13.42  3.48  Female    Yes   Fri  Lunch     2\n",
              "222        8.58  1.92    Male    Yes   Fri  Lunch     1\n",
              "224       13.42  1.58    Male    Yes   Fri  Lunch     2\n",
              "225       16.27  2.50  Female    Yes   Fri  Lunch     2\n",
              "226       10.09  2.00  Female    Yes   Fri  Lunch     2"
            ]
          },
          "execution_count": 50,
          "metadata": {},
          "output_type": "execute_result"
        }
      ],
      "source": [
        "df_filter = tips[(tips['time'] == 'Lunch') & (tips['smoker'] == 'Yes')]\n",
        "df_filter"
      ]
    },
    {
      "cell_type": "code",
      "execution_count": 51,
      "metadata": {},
      "outputs": [
        {
          "data": {
            "text/html": [
              "<div>\n",
              "<style scoped>\n",
              "    .dataframe tbody tr th:only-of-type {\n",
              "        vertical-align: middle;\n",
              "    }\n",
              "\n",
              "    .dataframe tbody tr th {\n",
              "        vertical-align: top;\n",
              "    }\n",
              "\n",
              "    .dataframe thead th {\n",
              "        text-align: right;\n",
              "    }\n",
              "</style>\n",
              "<table border=\"1\" class=\"dataframe\">\n",
              "  <thead>\n",
              "    <tr style=\"text-align: right;\">\n",
              "      <th></th>\n",
              "      <th>total_bill</th>\n",
              "      <th>tip</th>\n",
              "      <th>sex</th>\n",
              "      <th>smoker</th>\n",
              "      <th>day</th>\n",
              "      <th>time</th>\n",
              "      <th>size</th>\n",
              "    </tr>\n",
              "  </thead>\n",
              "  <tbody>\n",
              "    <tr>\n",
              "      <th>0</th>\n",
              "      <td>19.44</td>\n",
              "      <td>3.00</td>\n",
              "      <td>Male</td>\n",
              "      <td>Yes</td>\n",
              "      <td>Thur</td>\n",
              "      <td>Lunch</td>\n",
              "      <td>2</td>\n",
              "    </tr>\n",
              "    <tr>\n",
              "      <th>1</th>\n",
              "      <td>32.68</td>\n",
              "      <td>5.00</td>\n",
              "      <td>Male</td>\n",
              "      <td>Yes</td>\n",
              "      <td>Thur</td>\n",
              "      <td>Lunch</td>\n",
              "      <td>2</td>\n",
              "    </tr>\n",
              "    <tr>\n",
              "      <th>2</th>\n",
              "      <td>16.00</td>\n",
              "      <td>2.00</td>\n",
              "      <td>Male</td>\n",
              "      <td>Yes</td>\n",
              "      <td>Thur</td>\n",
              "      <td>Lunch</td>\n",
              "      <td>2</td>\n",
              "    </tr>\n",
              "    <tr>\n",
              "      <th>3</th>\n",
              "      <td>19.81</td>\n",
              "      <td>4.19</td>\n",
              "      <td>Female</td>\n",
              "      <td>Yes</td>\n",
              "      <td>Thur</td>\n",
              "      <td>Lunch</td>\n",
              "      <td>2</td>\n",
              "    </tr>\n",
              "    <tr>\n",
              "      <th>4</th>\n",
              "      <td>28.44</td>\n",
              "      <td>2.56</td>\n",
              "      <td>Male</td>\n",
              "      <td>Yes</td>\n",
              "      <td>Thur</td>\n",
              "      <td>Lunch</td>\n",
              "      <td>2</td>\n",
              "    </tr>\n",
              "    <tr>\n",
              "      <th>5</th>\n",
              "      <td>15.48</td>\n",
              "      <td>2.02</td>\n",
              "      <td>Male</td>\n",
              "      <td>Yes</td>\n",
              "      <td>Thur</td>\n",
              "      <td>Lunch</td>\n",
              "      <td>2</td>\n",
              "    </tr>\n",
              "    <tr>\n",
              "      <th>6</th>\n",
              "      <td>16.58</td>\n",
              "      <td>4.00</td>\n",
              "      <td>Male</td>\n",
              "      <td>Yes</td>\n",
              "      <td>Thur</td>\n",
              "      <td>Lunch</td>\n",
              "      <td>2</td>\n",
              "    </tr>\n",
              "    <tr>\n",
              "      <th>7</th>\n",
              "      <td>10.34</td>\n",
              "      <td>2.00</td>\n",
              "      <td>Male</td>\n",
              "      <td>Yes</td>\n",
              "      <td>Thur</td>\n",
              "      <td>Lunch</td>\n",
              "      <td>2</td>\n",
              "    </tr>\n",
              "    <tr>\n",
              "      <th>8</th>\n",
              "      <td>43.11</td>\n",
              "      <td>5.00</td>\n",
              "      <td>Female</td>\n",
              "      <td>Yes</td>\n",
              "      <td>Thur</td>\n",
              "      <td>Lunch</td>\n",
              "      <td>4</td>\n",
              "    </tr>\n",
              "    <tr>\n",
              "      <th>9</th>\n",
              "      <td>13.00</td>\n",
              "      <td>2.00</td>\n",
              "      <td>Female</td>\n",
              "      <td>Yes</td>\n",
              "      <td>Thur</td>\n",
              "      <td>Lunch</td>\n",
              "      <td>2</td>\n",
              "    </tr>\n",
              "    <tr>\n",
              "      <th>10</th>\n",
              "      <td>13.51</td>\n",
              "      <td>2.00</td>\n",
              "      <td>Male</td>\n",
              "      <td>Yes</td>\n",
              "      <td>Thur</td>\n",
              "      <td>Lunch</td>\n",
              "      <td>2</td>\n",
              "    </tr>\n",
              "    <tr>\n",
              "      <th>11</th>\n",
              "      <td>18.71</td>\n",
              "      <td>4.00</td>\n",
              "      <td>Male</td>\n",
              "      <td>Yes</td>\n",
              "      <td>Thur</td>\n",
              "      <td>Lunch</td>\n",
              "      <td>3</td>\n",
              "    </tr>\n",
              "    <tr>\n",
              "      <th>12</th>\n",
              "      <td>12.74</td>\n",
              "      <td>2.01</td>\n",
              "      <td>Female</td>\n",
              "      <td>Yes</td>\n",
              "      <td>Thur</td>\n",
              "      <td>Lunch</td>\n",
              "      <td>2</td>\n",
              "    </tr>\n",
              "    <tr>\n",
              "      <th>13</th>\n",
              "      <td>13.00</td>\n",
              "      <td>2.00</td>\n",
              "      <td>Female</td>\n",
              "      <td>Yes</td>\n",
              "      <td>Thur</td>\n",
              "      <td>Lunch</td>\n",
              "      <td>2</td>\n",
              "    </tr>\n",
              "    <tr>\n",
              "      <th>14</th>\n",
              "      <td>16.40</td>\n",
              "      <td>2.50</td>\n",
              "      <td>Female</td>\n",
              "      <td>Yes</td>\n",
              "      <td>Thur</td>\n",
              "      <td>Lunch</td>\n",
              "      <td>2</td>\n",
              "    </tr>\n",
              "    <tr>\n",
              "      <th>15</th>\n",
              "      <td>20.53</td>\n",
              "      <td>4.00</td>\n",
              "      <td>Male</td>\n",
              "      <td>Yes</td>\n",
              "      <td>Thur</td>\n",
              "      <td>Lunch</td>\n",
              "      <td>4</td>\n",
              "    </tr>\n",
              "    <tr>\n",
              "      <th>16</th>\n",
              "      <td>16.47</td>\n",
              "      <td>3.23</td>\n",
              "      <td>Female</td>\n",
              "      <td>Yes</td>\n",
              "      <td>Thur</td>\n",
              "      <td>Lunch</td>\n",
              "      <td>3</td>\n",
              "    </tr>\n",
              "    <tr>\n",
              "      <th>17</th>\n",
              "      <td>12.16</td>\n",
              "      <td>2.20</td>\n",
              "      <td>Male</td>\n",
              "      <td>Yes</td>\n",
              "      <td>Fri</td>\n",
              "      <td>Lunch</td>\n",
              "      <td>2</td>\n",
              "    </tr>\n",
              "    <tr>\n",
              "      <th>18</th>\n",
              "      <td>13.42</td>\n",
              "      <td>3.48</td>\n",
              "      <td>Female</td>\n",
              "      <td>Yes</td>\n",
              "      <td>Fri</td>\n",
              "      <td>Lunch</td>\n",
              "      <td>2</td>\n",
              "    </tr>\n",
              "    <tr>\n",
              "      <th>19</th>\n",
              "      <td>8.58</td>\n",
              "      <td>1.92</td>\n",
              "      <td>Male</td>\n",
              "      <td>Yes</td>\n",
              "      <td>Fri</td>\n",
              "      <td>Lunch</td>\n",
              "      <td>1</td>\n",
              "    </tr>\n",
              "    <tr>\n",
              "      <th>20</th>\n",
              "      <td>13.42</td>\n",
              "      <td>1.58</td>\n",
              "      <td>Male</td>\n",
              "      <td>Yes</td>\n",
              "      <td>Fri</td>\n",
              "      <td>Lunch</td>\n",
              "      <td>2</td>\n",
              "    </tr>\n",
              "    <tr>\n",
              "      <th>21</th>\n",
              "      <td>16.27</td>\n",
              "      <td>2.50</td>\n",
              "      <td>Female</td>\n",
              "      <td>Yes</td>\n",
              "      <td>Fri</td>\n",
              "      <td>Lunch</td>\n",
              "      <td>2</td>\n",
              "    </tr>\n",
              "    <tr>\n",
              "      <th>22</th>\n",
              "      <td>10.09</td>\n",
              "      <td>2.00</td>\n",
              "      <td>Female</td>\n",
              "      <td>Yes</td>\n",
              "      <td>Fri</td>\n",
              "      <td>Lunch</td>\n",
              "      <td>2</td>\n",
              "    </tr>\n",
              "  </tbody>\n",
              "</table>\n",
              "</div>"
            ],
            "text/plain": [
              "    total_bill   tip     sex smoker   day   time  size\n",
              "0        19.44  3.00    Male    Yes  Thur  Lunch     2\n",
              "1        32.68  5.00    Male    Yes  Thur  Lunch     2\n",
              "2        16.00  2.00    Male    Yes  Thur  Lunch     2\n",
              "3        19.81  4.19  Female    Yes  Thur  Lunch     2\n",
              "4        28.44  2.56    Male    Yes  Thur  Lunch     2\n",
              "5        15.48  2.02    Male    Yes  Thur  Lunch     2\n",
              "6        16.58  4.00    Male    Yes  Thur  Lunch     2\n",
              "7        10.34  2.00    Male    Yes  Thur  Lunch     2\n",
              "8        43.11  5.00  Female    Yes  Thur  Lunch     4\n",
              "9        13.00  2.00  Female    Yes  Thur  Lunch     2\n",
              "10       13.51  2.00    Male    Yes  Thur  Lunch     2\n",
              "11       18.71  4.00    Male    Yes  Thur  Lunch     3\n",
              "12       12.74  2.01  Female    Yes  Thur  Lunch     2\n",
              "13       13.00  2.00  Female    Yes  Thur  Lunch     2\n",
              "14       16.40  2.50  Female    Yes  Thur  Lunch     2\n",
              "15       20.53  4.00    Male    Yes  Thur  Lunch     4\n",
              "16       16.47  3.23  Female    Yes  Thur  Lunch     3\n",
              "17       12.16  2.20    Male    Yes   Fri  Lunch     2\n",
              "18       13.42  3.48  Female    Yes   Fri  Lunch     2\n",
              "19        8.58  1.92    Male    Yes   Fri  Lunch     1\n",
              "20       13.42  1.58    Male    Yes   Fri  Lunch     2\n",
              "21       16.27  2.50  Female    Yes   Fri  Lunch     2\n",
              "22       10.09  2.00  Female    Yes   Fri  Lunch     2"
            ]
          },
          "execution_count": 51,
          "metadata": {},
          "output_type": "execute_result"
        }
      ],
      "source": [
        "df_filter.reset_index(drop = True, inplace= True)\n",
        "df_filter"
      ]
    },
    {
      "cell_type": "code",
      "execution_count": 52,
      "metadata": {
        "colab": {
          "base_uri": "https://localhost:8080/"
        },
        "id": "YuWJPjTeRlSt",
        "outputId": "3e196577-8494-4bf5-bf22-a5681f2977e8"
      },
      "outputs": [
        {
          "data": {
            "text/plain": [
              "sex\n",
              "Female    44.30\n",
              "Male      50.81\n",
              "Name: total_bill, dtype: float64"
            ]
          },
          "execution_count": 52,
          "metadata": {},
          "output_type": "execute_result"
        }
      ],
      "source": [
        "### Group by ####\n",
        "tips_by_sex = tips.groupby('sex')['total_bill'].max()\n",
        "tips_by_sex"
      ]
    },
    {
      "cell_type": "code",
      "execution_count": 53,
      "metadata": {
        "colab": {
          "base_uri": "https://localhost:8080/",
          "height": 279
        },
        "id": "OylmpE6WRlSu",
        "outputId": "e8f1d216-48d9-4525-ba35-e3c9d21c90f4"
      },
      "outputs": [
        {
          "data": {
            "image/png": "[encoded data removed]",
            "text/plain": [
              "<Figure size 640x480 with 1 Axes>"
            ]
          },
          "metadata": {},
          "output_type": "display_data"
        }
      ],
      "source": [
        "tips_by_sex.plot.bar(rot=0);"
      ]
    },
    {
      "cell_type": "code",
      "execution_count": 54,
      "metadata": {
        "colab": {
          "base_uri": "https://localhost:8080/",
          "height": 175
        },
        "id": "Ebf_5zKcRlSv",
        "outputId": "695c8a6f-8b93-4f2c-ead0-90d11d251f34"
      },
      "outputs": [
        {
          "data": {
            "text/html": [
              "<div>\n",
              "<style scoped>\n",
              "    .dataframe tbody tr th:only-of-type {\n",
              "        vertical-align: middle;\n",
              "    }\n",
              "\n",
              "    .dataframe tbody tr th {\n",
              "        vertical-align: top;\n",
              "    }\n",
              "\n",
              "    .dataframe thead tr th {\n",
              "        text-align: left;\n",
              "    }\n",
              "\n",
              "    .dataframe thead tr:last-of-type th {\n",
              "        text-align: right;\n",
              "    }\n",
              "</style>\n",
              "<table border=\"1\" class=\"dataframe\">\n",
              "  <thead>\n",
              "    <tr>\n",
              "      <th></th>\n",
              "      <th colspan=\"3\" halign=\"left\">total_bill</th>\n",
              "    </tr>\n",
              "    <tr>\n",
              "      <th></th>\n",
              "      <th>size</th>\n",
              "      <th>mean</th>\n",
              "      <th>amax</th>\n",
              "    </tr>\n",
              "    <tr>\n",
              "      <th>sex</th>\n",
              "      <th></th>\n",
              "      <th></th>\n",
              "      <th></th>\n",
              "    </tr>\n",
              "  </thead>\n",
              "  <tbody>\n",
              "    <tr>\n",
              "      <th>Female</th>\n",
              "      <td>87</td>\n",
              "      <td>18.056897</td>\n",
              "      <td>44.30</td>\n",
              "    </tr>\n",
              "    <tr>\n",
              "      <th>Male</th>\n",
              "      <td>157</td>\n",
              "      <td>20.744076</td>\n",
              "      <td>50.81</td>\n",
              "    </tr>\n",
              "  </tbody>\n",
              "</table>\n",
              "</div>"
            ],
            "text/plain": [
              "       total_bill                  \n",
              "             size       mean   amax\n",
              "sex                                \n",
              "Female         87  18.056897  44.30\n",
              "Male          157  20.744076  50.81"
            ]
          },
          "execution_count": 54,
          "metadata": {},
          "output_type": "execute_result"
        }
      ],
      "source": [
        "### Group by - usando agg function ###\n",
        "tips_1 = tips.groupby('sex').agg({'total_bill':[np.size,np.mean,np.max]})\n",
        "tips_1"
      ]
    },
    {
      "cell_type": "code",
      "execution_count": 55,
      "metadata": {
        "colab": {
          "base_uri": "https://localhost:8080/",
          "height": 248
        },
        "id": "Ter0kB7wRlSw",
        "outputId": "bf13472d-07bc-48e3-cb6e-295ca6bebf7b"
      },
      "outputs": [
        {
          "data": {
            "text/plain": [
              "<Axes: xlabel='sex'>"
            ]
          },
          "execution_count": 55,
          "metadata": {},
          "output_type": "execute_result"
        },
        {
          "data": {
            "image/png": "[encoded data removed]",
            "text/plain": [
              "<Figure size 640x480 with 1 Axes>"
            ]
          },
          "metadata": {},
          "output_type": "display_data"
        }
      ],
      "source": [
        "tips_1.plot.bar(y='total_bill')"
      ]
    },
    {
      "cell_type": "code",
      "execution_count": 56,
      "metadata": {},
      "outputs": [
        {
          "data": {
            "text/plain": [
              "<Axes: ylabel='amax'>"
            ]
          },
          "execution_count": 56,
          "metadata": {},
          "output_type": "execute_result"
        },
        {
          "data": {
            "image/png": "[encoded data removed]",
            "text/plain": [
              "<Figure size 640x480 with 1 Axes>"
            ]
          },
          "metadata": {},
          "output_type": "display_data"
        }
      ],
      "source": [
        "tips_1.plot.pie(y='total_bill')"
      ]
    },
    {
      "cell_type": "code",
      "execution_count": 57,
      "metadata": {
        "id": "EkbywbyMRlSw"
      },
      "outputs": [],
      "source": [
        "df1 = pd.DataFrame({'city': ['Chicago', 'San Francisco', 'New York City'], 'rank': range(1, 4)})\n",
        "df2 = pd.DataFrame({'city': ['Chicago', 'Boston', 'Los Angeles'], 'rank': [1, 4, 5]})"
      ]
    },
    {
      "cell_type": "code",
      "execution_count": 58,
      "metadata": {
        "colab": {
          "base_uri": "https://localhost:8080/",
          "height": 143
        },
        "id": "sVaX1ZulRlSx",
        "outputId": "8e40b94f-83bb-4197-f136-d74833c71a82"
      },
      "outputs": [
        {
          "data": {
            "text/html": [
              "<div>\n",
              "<style scoped>\n",
              "    .dataframe tbody tr th:only-of-type {\n",
              "        vertical-align: middle;\n",
              "    }\n",
              "\n",
              "    .dataframe tbody tr th {\n",
              "        vertical-align: top;\n",
              "    }\n",
              "\n",
              "    .dataframe thead th {\n",
              "        text-align: right;\n",
              "    }\n",
              "</style>\n",
              "<table border=\"1\" class=\"dataframe\">\n",
              "  <thead>\n",
              "    <tr style=\"text-align: right;\">\n",
              "      <th></th>\n",
              "      <th>city</th>\n",
              "      <th>rank</th>\n",
              "    </tr>\n",
              "  </thead>\n",
              "  <tbody>\n",
              "    <tr>\n",
              "      <th>0</th>\n",
              "      <td>Chicago</td>\n",
              "      <td>1</td>\n",
              "    </tr>\n",
              "    <tr>\n",
              "      <th>1</th>\n",
              "      <td>San Francisco</td>\n",
              "      <td>2</td>\n",
              "    </tr>\n",
              "    <tr>\n",
              "      <th>2</th>\n",
              "      <td>New York City</td>\n",
              "      <td>3</td>\n",
              "    </tr>\n",
              "  </tbody>\n",
              "</table>\n",
              "</div>"
            ],
            "text/plain": [
              "            city  rank\n",
              "0        Chicago     1\n",
              "1  San Francisco     2\n",
              "2  New York City     3"
            ]
          },
          "execution_count": 58,
          "metadata": {},
          "output_type": "execute_result"
        }
      ],
      "source": [
        "df1.head()"
      ]
    },
    {
      "cell_type": "code",
      "execution_count": 59,
      "metadata": {
        "colab": {
          "base_uri": "https://localhost:8080/",
          "height": 143
        },
        "id": "TW9MAAPbRlSx",
        "outputId": "a5033b3a-d479-4407-c04f-06213e8e1062"
      },
      "outputs": [
        {
          "data": {
            "text/html": [
              "<div>\n",
              "<style scoped>\n",
              "    .dataframe tbody tr th:only-of-type {\n",
              "        vertical-align: middle;\n",
              "    }\n",
              "\n",
              "    .dataframe tbody tr th {\n",
              "        vertical-align: top;\n",
              "    }\n",
              "\n",
              "    .dataframe thead th {\n",
              "        text-align: right;\n",
              "    }\n",
              "</style>\n",
              "<table border=\"1\" class=\"dataframe\">\n",
              "  <thead>\n",
              "    <tr style=\"text-align: right;\">\n",
              "      <th></th>\n",
              "      <th>city</th>\n",
              "      <th>rank</th>\n",
              "    </tr>\n",
              "  </thead>\n",
              "  <tbody>\n",
              "    <tr>\n",
              "      <th>0</th>\n",
              "      <td>Chicago</td>\n",
              "      <td>1</td>\n",
              "    </tr>\n",
              "    <tr>\n",
              "      <th>1</th>\n",
              "      <td>Boston</td>\n",
              "      <td>4</td>\n",
              "    </tr>\n",
              "    <tr>\n",
              "      <th>2</th>\n",
              "      <td>Los Angeles</td>\n",
              "      <td>5</td>\n",
              "    </tr>\n",
              "  </tbody>\n",
              "</table>\n",
              "</div>"
            ],
            "text/plain": [
              "          city  rank\n",
              "0      Chicago     1\n",
              "1       Boston     4\n",
              "2  Los Angeles     5"
            ]
          },
          "execution_count": 59,
          "metadata": {},
          "output_type": "execute_result"
        }
      ],
      "source": [
        "df2.head()"
      ]
    },
    {
      "cell_type": "code",
      "execution_count": 60,
      "metadata": {
        "colab": {
          "base_uri": "https://localhost:8080/",
          "height": 237
        },
        "id": "syycqEcrRlSy",
        "outputId": "6c7bb737-6c48-4b14-9fd6-19040d185ccd"
      },
      "outputs": [
        {
          "data": {
            "text/html": [
              "<div>\n",
              "<style scoped>\n",
              "    .dataframe tbody tr th:only-of-type {\n",
              "        vertical-align: middle;\n",
              "    }\n",
              "\n",
              "    .dataframe tbody tr th {\n",
              "        vertical-align: top;\n",
              "    }\n",
              "\n",
              "    .dataframe thead th {\n",
              "        text-align: right;\n",
              "    }\n",
              "</style>\n",
              "<table border=\"1\" class=\"dataframe\">\n",
              "  <thead>\n",
              "    <tr style=\"text-align: right;\">\n",
              "      <th></th>\n",
              "      <th>city</th>\n",
              "      <th>rank</th>\n",
              "    </tr>\n",
              "  </thead>\n",
              "  <tbody>\n",
              "    <tr>\n",
              "      <th>0</th>\n",
              "      <td>Chicago</td>\n",
              "      <td>1</td>\n",
              "    </tr>\n",
              "    <tr>\n",
              "      <th>1</th>\n",
              "      <td>San Francisco</td>\n",
              "      <td>2</td>\n",
              "    </tr>\n",
              "    <tr>\n",
              "      <th>2</th>\n",
              "      <td>New York City</td>\n",
              "      <td>3</td>\n",
              "    </tr>\n",
              "    <tr>\n",
              "      <th>0</th>\n",
              "      <td>Chicago</td>\n",
              "      <td>1</td>\n",
              "    </tr>\n",
              "    <tr>\n",
              "      <th>1</th>\n",
              "      <td>Boston</td>\n",
              "      <td>4</td>\n",
              "    </tr>\n",
              "    <tr>\n",
              "      <th>2</th>\n",
              "      <td>Los Angeles</td>\n",
              "      <td>5</td>\n",
              "    </tr>\n",
              "  </tbody>\n",
              "</table>\n",
              "</div>"
            ],
            "text/plain": [
              "            city  rank\n",
              "0        Chicago     1\n",
              "1  San Francisco     2\n",
              "2  New York City     3\n",
              "0        Chicago     1\n",
              "1         Boston     4\n",
              "2    Los Angeles     5"
            ]
          },
          "execution_count": 60,
          "metadata": {},
          "output_type": "execute_result"
        }
      ],
      "source": [
        "pd.concat([df1, df2])"
      ]
    },
    {
      "cell_type": "code",
      "execution_count": 61,
      "metadata": {
        "colab": {
          "base_uri": "https://localhost:8080/",
          "height": 206
        },
        "id": "CzyPOQuERlSz",
        "outputId": "d6ac5c4e-d015-489c-8f7c-802ccacad89e"
      },
      "outputs": [
        {
          "data": {
            "text/html": [
              "<div>\n",
              "<style scoped>\n",
              "    .dataframe tbody tr th:only-of-type {\n",
              "        vertical-align: middle;\n",
              "    }\n",
              "\n",
              "    .dataframe tbody tr th {\n",
              "        vertical-align: top;\n",
              "    }\n",
              "\n",
              "    .dataframe thead th {\n",
              "        text-align: right;\n",
              "    }\n",
              "</style>\n",
              "<table border=\"1\" class=\"dataframe\">\n",
              "  <thead>\n",
              "    <tr style=\"text-align: right;\">\n",
              "      <th></th>\n",
              "      <th>city</th>\n",
              "      <th>rank</th>\n",
              "    </tr>\n",
              "  </thead>\n",
              "  <tbody>\n",
              "    <tr>\n",
              "      <th>0</th>\n",
              "      <td>Chicago</td>\n",
              "      <td>1</td>\n",
              "    </tr>\n",
              "    <tr>\n",
              "      <th>1</th>\n",
              "      <td>San Francisco</td>\n",
              "      <td>2</td>\n",
              "    </tr>\n",
              "    <tr>\n",
              "      <th>2</th>\n",
              "      <td>New York City</td>\n",
              "      <td>3</td>\n",
              "    </tr>\n",
              "    <tr>\n",
              "      <th>1</th>\n",
              "      <td>Boston</td>\n",
              "      <td>4</td>\n",
              "    </tr>\n",
              "    <tr>\n",
              "      <th>2</th>\n",
              "      <td>Los Angeles</td>\n",
              "      <td>5</td>\n",
              "    </tr>\n",
              "  </tbody>\n",
              "</table>\n",
              "</div>"
            ],
            "text/plain": [
              "            city  rank\n",
              "0        Chicago     1\n",
              "1  San Francisco     2\n",
              "2  New York City     3\n",
              "1         Boston     4\n",
              "2    Los Angeles     5"
            ]
          },
          "execution_count": 61,
          "metadata": {},
          "output_type": "execute_result"
        }
      ],
      "source": [
        "DataFrame = pd.concat([df1, df2]).drop_duplicates()\n",
        "DataFrame"
      ]
    },
    {
      "cell_type": "code",
      "execution_count": 62,
      "metadata": {
        "id": "_goWD-CQRlS0"
      },
      "outputs": [],
      "source": [
        "DataFrame.reset_index(inplace=True,drop =True)\n",
        "#DataFrame\n"
      ]
    },
    {
      "cell_type": "code",
      "execution_count": 63,
      "metadata": {
        "colab": {
          "base_uri": "https://localhost:8080/",
          "height": 206
        },
        "id": "yu7jZWrrKcdk",
        "outputId": "3e502691-2628-461e-85d4-9a1677f7665d"
      },
      "outputs": [
        {
          "data": {
            "text/html": [
              "<div>\n",
              "<style scoped>\n",
              "    .dataframe tbody tr th:only-of-type {\n",
              "        vertical-align: middle;\n",
              "    }\n",
              "\n",
              "    .dataframe tbody tr th {\n",
              "        vertical-align: top;\n",
              "    }\n",
              "\n",
              "    .dataframe thead th {\n",
              "        text-align: right;\n",
              "    }\n",
              "</style>\n",
              "<table border=\"1\" class=\"dataframe\">\n",
              "  <thead>\n",
              "    <tr style=\"text-align: right;\">\n",
              "      <th></th>\n",
              "      <th>city</th>\n",
              "      <th>rank</th>\n",
              "    </tr>\n",
              "  </thead>\n",
              "  <tbody>\n",
              "    <tr>\n",
              "      <th>0</th>\n",
              "      <td>Chicago</td>\n",
              "      <td>1</td>\n",
              "    </tr>\n",
              "    <tr>\n",
              "      <th>1</th>\n",
              "      <td>San Francisco</td>\n",
              "      <td>2</td>\n",
              "    </tr>\n",
              "    <tr>\n",
              "      <th>2</th>\n",
              "      <td>New York City</td>\n",
              "      <td>3</td>\n",
              "    </tr>\n",
              "    <tr>\n",
              "      <th>3</th>\n",
              "      <td>Boston</td>\n",
              "      <td>4</td>\n",
              "    </tr>\n",
              "    <tr>\n",
              "      <th>4</th>\n",
              "      <td>Los Angeles</td>\n",
              "      <td>5</td>\n",
              "    </tr>\n",
              "  </tbody>\n",
              "</table>\n",
              "</div>"
            ],
            "text/plain": [
              "            city  rank\n",
              "0        Chicago     1\n",
              "1  San Francisco     2\n",
              "2  New York City     3\n",
              "3         Boston     4\n",
              "4    Los Angeles     5"
            ]
          },
          "execution_count": 63,
          "metadata": {},
          "output_type": "execute_result"
        }
      ],
      "source": [
        "DataFrame"
      ]
    },
    {
      "cell_type": "markdown",
      "metadata": {
        "id": "VapsiT5-l01h"
      },
      "source": []
    },
    {
      "cell_type": "code",
      "execution_count": 64,
      "metadata": {
        "id": "86AjSIiJt58h"
      },
      "outputs": [],
      "source": [
        "df = pd.DataFrame(dict(age=[5, 6, np.NaN],born=[pd.NaT, pd.Timestamp('1939-05-27'),pd.Timestamp('1940-04-25')],\n",
        "               name=['Alfred', 'Batman', ''],\n",
        "                  toy=[None, 'Batmobile', 'Joker']))"
      ]
    },
    {
      "cell_type": "code",
      "execution_count": 65,
      "metadata": {
        "colab": {
          "base_uri": "https://localhost:8080/",
          "height": 143
        },
        "id": "C-QpVaVKzw49",
        "outputId": "d1c74909-f33f-43a2-becb-e566a9be69bd"
      },
      "outputs": [
        {
          "data": {
            "text/html": [
              "<div>\n",
              "<style scoped>\n",
              "    .dataframe tbody tr th:only-of-type {\n",
              "        vertical-align: middle;\n",
              "    }\n",
              "\n",
              "    .dataframe tbody tr th {\n",
              "        vertical-align: top;\n",
              "    }\n",
              "\n",
              "    .dataframe thead th {\n",
              "        text-align: right;\n",
              "    }\n",
              "</style>\n",
              "<table border=\"1\" class=\"dataframe\">\n",
              "  <thead>\n",
              "    <tr style=\"text-align: right;\">\n",
              "      <th></th>\n",
              "      <th>age</th>\n",
              "      <th>born</th>\n",
              "      <th>name</th>\n",
              "      <th>toy</th>\n",
              "    </tr>\n",
              "  </thead>\n",
              "  <tbody>\n",
              "    <tr>\n",
              "      <th>0</th>\n",
              "      <td>5.0</td>\n",
              "      <td>NaT</td>\n",
              "      <td>Alfred</td>\n",
              "      <td>None</td>\n",
              "    </tr>\n",
              "    <tr>\n",
              "      <th>1</th>\n",
              "      <td>6.0</td>\n",
              "      <td>1939-05-27</td>\n",
              "      <td>Batman</td>\n",
              "      <td>Batmobile</td>\n",
              "    </tr>\n",
              "    <tr>\n",
              "      <th>2</th>\n",
              "      <td>NaN</td>\n",
              "      <td>1940-04-25</td>\n",
              "      <td></td>\n",
              "      <td>Joker</td>\n",
              "    </tr>\n",
              "  </tbody>\n",
              "</table>\n",
              "</div>"
            ],
            "text/plain": [
              "   age       born    name        toy\n",
              "0  5.0        NaT  Alfred       None\n",
              "1  6.0 1939-05-27  Batman  Batmobile\n",
              "2  NaN 1940-04-25              Joker"
            ]
          },
          "execution_count": 65,
          "metadata": {},
          "output_type": "execute_result"
        }
      ],
      "source": [
        "df"
      ]
    },
    {
      "cell_type": "code",
      "execution_count": 66,
      "metadata": {
        "colab": {
          "base_uri": "https://localhost:8080/"
        },
        "id": "o-KJ4Z5eMsto",
        "outputId": "d5d871a1-800c-47f1-fb6f-ecdaa0270c73"
      },
      "outputs": [
        {
          "data": {
            "text/plain": [
              "age     1\n",
              "born    1\n",
              "name    0\n",
              "toy     1\n",
              "dtype: int64"
            ]
          },
          "execution_count": 66,
          "metadata": {},
          "output_type": "execute_result"
        }
      ],
      "source": [
        "df.isna().sum()"
      ]
    },
    {
      "cell_type": "code",
      "execution_count": 67,
      "metadata": {
        "colab": {
          "base_uri": "https://localhost:8080/",
          "height": 143
        },
        "id": "aJDokQH2uHQZ",
        "outputId": "e8f14275-81b7-41ef-a650-16e059cfd1da"
      },
      "outputs": [
        {
          "data": {
            "text/html": [
              "<div>\n",
              "<style scoped>\n",
              "    .dataframe tbody tr th:only-of-type {\n",
              "        vertical-align: middle;\n",
              "    }\n",
              "\n",
              "    .dataframe tbody tr th {\n",
              "        vertical-align: top;\n",
              "    }\n",
              "\n",
              "    .dataframe thead th {\n",
              "        text-align: right;\n",
              "    }\n",
              "</style>\n",
              "<table border=\"1\" class=\"dataframe\">\n",
              "  <thead>\n",
              "    <tr style=\"text-align: right;\">\n",
              "      <th></th>\n",
              "      <th>age</th>\n",
              "      <th>born</th>\n",
              "      <th>name</th>\n",
              "      <th>toy</th>\n",
              "    </tr>\n",
              "  </thead>\n",
              "  <tbody>\n",
              "    <tr>\n",
              "      <th>0</th>\n",
              "      <td>False</td>\n",
              "      <td>True</td>\n",
              "      <td>False</td>\n",
              "      <td>True</td>\n",
              "    </tr>\n",
              "    <tr>\n",
              "      <th>1</th>\n",
              "      <td>False</td>\n",
              "      <td>False</td>\n",
              "      <td>False</td>\n",
              "      <td>False</td>\n",
              "    </tr>\n",
              "    <tr>\n",
              "      <th>2</th>\n",
              "      <td>True</td>\n",
              "      <td>False</td>\n",
              "      <td>False</td>\n",
              "      <td>False</td>\n",
              "    </tr>\n",
              "  </tbody>\n",
              "</table>\n",
              "</div>"
            ],
            "text/plain": [
              "     age   born   name    toy\n",
              "0  False   True  False   True\n",
              "1  False  False  False  False\n",
              "2   True  False  False  False"
            ]
          },
          "execution_count": 67,
          "metadata": {},
          "output_type": "execute_result"
        }
      ],
      "source": [
        "df.isna()"
      ]
    },
    {
      "cell_type": "code",
      "execution_count": 68,
      "metadata": {
        "id": "na0r7clrWem5"
      },
      "outputs": [],
      "source": [
        "### salvar csv ###\n",
        "tips.to_csv('dataFrameTips.csv')"
      ]
    },
    {
      "cell_type": "code",
      "execution_count": 69,
      "metadata": {
        "colab": {
          "base_uri": "https://localhost:8080/"
        },
        "id": "2ui74KcrWh4O",
        "outputId": "d7238f56-5e4b-49d8-bcfd-6defdaf09d0d"
      },
      "outputs": [
        {
          "data": {
            "text/plain": [
              "Index(['time', '40', '50', '60', '70', '80', '90', '100', '110', '120', '130',\n",
              "       '140', '150', '160', '170', '180', '190', '200', '210', '220', '230',\n",
              "       '240', '250', '260'],\n",
              "      dtype='object')"
            ]
          },
          "execution_count": 69,
          "metadata": {},
          "output_type": "execute_result"
        }
      ],
      "source": [
        "df_data = pd.read_csv('http://mscbio2025.csb.pitt.edu/files/Spellman.csv')\n",
        "df_data.columns"
      ]
    },
    {
      "cell_type": "code",
      "execution_count": 70,
      "metadata": {
        "colab": {
          "base_uri": "https://localhost:8080/",
          "height": 488
        },
        "id": "-n41kCSmWvoT",
        "outputId": "c5c51b50-b4fc-41ee-be03-33659cb4bd30"
      },
      "outputs": [
        {
          "data": {
            "text/html": [
              "<div>\n",
              "<style scoped>\n",
              "    .dataframe tbody tr th:only-of-type {\n",
              "        vertical-align: middle;\n",
              "    }\n",
              "\n",
              "    .dataframe tbody tr th {\n",
              "        vertical-align: top;\n",
              "    }\n",
              "\n",
              "    .dataframe thead th {\n",
              "        text-align: right;\n",
              "    }\n",
              "</style>\n",
              "<table border=\"1\" class=\"dataframe\">\n",
              "  <thead>\n",
              "    <tr style=\"text-align: right;\">\n",
              "      <th></th>\n",
              "      <th>time</th>\n",
              "      <th>40</th>\n",
              "      <th>50</th>\n",
              "      <th>60</th>\n",
              "      <th>70</th>\n",
              "      <th>80</th>\n",
              "      <th>90</th>\n",
              "      <th>100</th>\n",
              "      <th>110</th>\n",
              "      <th>120</th>\n",
              "      <th>...</th>\n",
              "      <th>170</th>\n",
              "      <th>180</th>\n",
              "      <th>190</th>\n",
              "      <th>200</th>\n",
              "      <th>210</th>\n",
              "      <th>220</th>\n",
              "      <th>230</th>\n",
              "      <th>240</th>\n",
              "      <th>250</th>\n",
              "      <th>260</th>\n",
              "    </tr>\n",
              "  </thead>\n",
              "  <tbody>\n",
              "    <tr>\n",
              "      <th>0</th>\n",
              "      <td>YAL001C</td>\n",
              "      <td>-0.070</td>\n",
              "      <td>-0.23</td>\n",
              "      <td>-0.100</td>\n",
              "      <td>0.03</td>\n",
              "      <td>-0.04</td>\n",
              "      <td>-0.12</td>\n",
              "      <td>-0.28</td>\n",
              "      <td>-0.44</td>\n",
              "      <td>-0.09</td>\n",
              "      <td>...</td>\n",
              "      <td>0.59</td>\n",
              "      <td>0.34</td>\n",
              "      <td>-0.28</td>\n",
              "      <td>-0.09</td>\n",
              "      <td>-0.44</td>\n",
              "      <td>0.31</td>\n",
              "      <td>0.03</td>\n",
              "      <td>0.57</td>\n",
              "      <td>0.00</td>\n",
              "      <td>0.010</td>\n",
              "    </tr>\n",
              "    <tr>\n",
              "      <th>1</th>\n",
              "      <td>YAL014C</td>\n",
              "      <td>0.215</td>\n",
              "      <td>0.09</td>\n",
              "      <td>0.025</td>\n",
              "      <td>-0.04</td>\n",
              "      <td>-0.04</td>\n",
              "      <td>-0.02</td>\n",
              "      <td>-0.51</td>\n",
              "      <td>-0.08</td>\n",
              "      <td>0.00</td>\n",
              "      <td>...</td>\n",
              "      <td>-0.30</td>\n",
              "      <td>-0.38</td>\n",
              "      <td>0.07</td>\n",
              "      <td>-0.04</td>\n",
              "      <td>0.13</td>\n",
              "      <td>-0.06</td>\n",
              "      <td>-0.26</td>\n",
              "      <td>-0.10</td>\n",
              "      <td>0.27</td>\n",
              "      <td>0.235</td>\n",
              "    </tr>\n",
              "    <tr>\n",
              "      <th>2</th>\n",
              "      <td>YAL016W</td>\n",
              "      <td>0.150</td>\n",
              "      <td>0.15</td>\n",
              "      <td>0.220</td>\n",
              "      <td>0.29</td>\n",
              "      <td>-0.10</td>\n",
              "      <td>0.15</td>\n",
              "      <td>-0.73</td>\n",
              "      <td>0.19</td>\n",
              "      <td>-0.15</td>\n",
              "      <td>...</td>\n",
              "      <td>0.12</td>\n",
              "      <td>-0.17</td>\n",
              "      <td>0.11</td>\n",
              "      <td>-0.15</td>\n",
              "      <td>0.03</td>\n",
              "      <td>-0.26</td>\n",
              "      <td>-0.34</td>\n",
              "      <td>-0.34</td>\n",
              "      <td>0.25</td>\n",
              "      <td>0.190</td>\n",
              "    </tr>\n",
              "    <tr>\n",
              "      <th>3</th>\n",
              "      <td>YAL020C</td>\n",
              "      <td>-0.350</td>\n",
              "      <td>-0.28</td>\n",
              "      <td>-0.215</td>\n",
              "      <td>-0.15</td>\n",
              "      <td>0.16</td>\n",
              "      <td>-0.12</td>\n",
              "      <td>0.26</td>\n",
              "      <td>0.00</td>\n",
              "      <td>0.13</td>\n",
              "      <td>...</td>\n",
              "      <td>0.07</td>\n",
              "      <td>0.61</td>\n",
              "      <td>-0.20</td>\n",
              "      <td>0.49</td>\n",
              "      <td>-0.43</td>\n",
              "      <td>0.80</td>\n",
              "      <td>-0.47</td>\n",
              "      <td>1.01</td>\n",
              "      <td>-0.36</td>\n",
              "      <td>-0.405</td>\n",
              "    </tr>\n",
              "    <tr>\n",
              "      <th>4</th>\n",
              "      <td>YAL022C</td>\n",
              "      <td>-0.415</td>\n",
              "      <td>-0.59</td>\n",
              "      <td>-0.580</td>\n",
              "      <td>-0.57</td>\n",
              "      <td>-0.09</td>\n",
              "      <td>-0.34</td>\n",
              "      <td>0.49</td>\n",
              "      <td>0.32</td>\n",
              "      <td>1.15</td>\n",
              "      <td>...</td>\n",
              "      <td>-0.48</td>\n",
              "      <td>-0.40</td>\n",
              "      <td>-0.59</td>\n",
              "      <td>0.54</td>\n",
              "      <td>-0.09</td>\n",
              "      <td>1.03</td>\n",
              "      <td>0.08</td>\n",
              "      <td>0.57</td>\n",
              "      <td>-0.26</td>\n",
              "      <td>-0.310</td>\n",
              "    </tr>\n",
              "    <tr>\n",
              "      <th>...</th>\n",
              "      <td>...</td>\n",
              "      <td>...</td>\n",
              "      <td>...</td>\n",
              "      <td>...</td>\n",
              "      <td>...</td>\n",
              "      <td>...</td>\n",
              "      <td>...</td>\n",
              "      <td>...</td>\n",
              "      <td>...</td>\n",
              "      <td>...</td>\n",
              "      <td>...</td>\n",
              "      <td>...</td>\n",
              "      <td>...</td>\n",
              "      <td>...</td>\n",
              "      <td>...</td>\n",
              "      <td>...</td>\n",
              "      <td>...</td>\n",
              "      <td>...</td>\n",
              "      <td>...</td>\n",
              "      <td>...</td>\n",
              "      <td>...</td>\n",
              "    </tr>\n",
              "    <tr>\n",
              "      <th>4376</th>\n",
              "      <td>YPR198W</td>\n",
              "      <td>-0.060</td>\n",
              "      <td>0.08</td>\n",
              "      <td>0.210</td>\n",
              "      <td>0.34</td>\n",
              "      <td>0.65</td>\n",
              "      <td>-0.26</td>\n",
              "      <td>0.14</td>\n",
              "      <td>-0.33</td>\n",
              "      <td>0.53</td>\n",
              "      <td>...</td>\n",
              "      <td>0.14</td>\n",
              "      <td>-0.64</td>\n",
              "      <td>-0.26</td>\n",
              "      <td>0.53</td>\n",
              "      <td>-0.17</td>\n",
              "      <td>0.59</td>\n",
              "      <td>-0.96</td>\n",
              "      <td>0.40</td>\n",
              "      <td>-0.23</td>\n",
              "      <td>-0.325</td>\n",
              "    </tr>\n",
              "    <tr>\n",
              "      <th>4377</th>\n",
              "      <td>YPR199C</td>\n",
              "      <td>0.155</td>\n",
              "      <td>0.19</td>\n",
              "      <td>0.235</td>\n",
              "      <td>0.28</td>\n",
              "      <td>-0.26</td>\n",
              "      <td>0.21</td>\n",
              "      <td>-0.40</td>\n",
              "      <td>0.34</td>\n",
              "      <td>-0.80</td>\n",
              "      <td>...</td>\n",
              "      <td>0.34</td>\n",
              "      <td>0.15</td>\n",
              "      <td>0.30</td>\n",
              "      <td>-0.06</td>\n",
              "      <td>0.13</td>\n",
              "      <td>-0.44</td>\n",
              "      <td>-1.03</td>\n",
              "      <td>0.14</td>\n",
              "      <td>0.30</td>\n",
              "      <td>0.250</td>\n",
              "    </tr>\n",
              "    <tr>\n",
              "      <th>4378</th>\n",
              "      <td>YPR201W</td>\n",
              "      <td>-0.255</td>\n",
              "      <td>-0.36</td>\n",
              "      <td>-0.300</td>\n",
              "      <td>-0.24</td>\n",
              "      <td>1.30</td>\n",
              "      <td>-0.07</td>\n",
              "      <td>0.29</td>\n",
              "      <td>-0.20</td>\n",
              "      <td>0.25</td>\n",
              "      <td>...</td>\n",
              "      <td>-0.81</td>\n",
              "      <td>0.89</td>\n",
              "      <td>0.07</td>\n",
              "      <td>1.04</td>\n",
              "      <td>-0.32</td>\n",
              "      <td>0.80</td>\n",
              "      <td>-0.13</td>\n",
              "      <td>0.84</td>\n",
              "      <td>-0.39</td>\n",
              "      <td>-0.415</td>\n",
              "    </tr>\n",
              "    <tr>\n",
              "      <th>4379</th>\n",
              "      <td>YPR203W</td>\n",
              "      <td>0.570</td>\n",
              "      <td>0.12</td>\n",
              "      <td>-0.070</td>\n",
              "      <td>-0.26</td>\n",
              "      <td>-0.44</td>\n",
              "      <td>-0.21</td>\n",
              "      <td>-1.08</td>\n",
              "      <td>0.39</td>\n",
              "      <td>-0.17</td>\n",
              "      <td>...</td>\n",
              "      <td>0.12</td>\n",
              "      <td>-0.96</td>\n",
              "      <td>-0.31</td>\n",
              "      <td>-0.81</td>\n",
              "      <td>-0.34</td>\n",
              "      <td>-1.21</td>\n",
              "      <td>-1.36</td>\n",
              "      <td>-0.12</td>\n",
              "      <td>0.69</td>\n",
              "      <td>0.555</td>\n",
              "    </tr>\n",
              "    <tr>\n",
              "      <th>4380</th>\n",
              "      <td>YPR204W</td>\n",
              "      <td>0.405</td>\n",
              "      <td>0.17</td>\n",
              "      <td>-0.045</td>\n",
              "      <td>-0.26</td>\n",
              "      <td>-0.60</td>\n",
              "      <td>-0.09</td>\n",
              "      <td>-0.85</td>\n",
              "      <td>0.17</td>\n",
              "      <td>-0.05</td>\n",
              "      <td>...</td>\n",
              "      <td>0.17</td>\n",
              "      <td>-1.90</td>\n",
              "      <td>-0.21</td>\n",
              "      <td>-0.45</td>\n",
              "      <td>-0.31</td>\n",
              "      <td>-0.39</td>\n",
              "      <td>-0.22</td>\n",
              "      <td>-0.08</td>\n",
              "      <td>0.65</td>\n",
              "      <td>0.520</td>\n",
              "    </tr>\n",
              "  </tbody>\n",
              "</table>\n",
              "<p>4381 rows × 24 columns</p>\n",
              "</div>"
            ],
            "text/plain": [
              "         time     40    50     60    70    80    90   100   110   120  ...  \\\n",
              "0     YAL001C -0.070 -0.23 -0.100  0.03 -0.04 -0.12 -0.28 -0.44 -0.09  ...   \n",
              "1     YAL014C  0.215  0.09  0.025 -0.04 -0.04 -0.02 -0.51 -0.08  0.00  ...   \n",
              "2     YAL016W  0.150  0.15  0.220  0.29 -0.10  0.15 -0.73  0.19 -0.15  ...   \n",
              "3     YAL020C -0.350 -0.28 -0.215 -0.15  0.16 -0.12  0.26  0.00  0.13  ...   \n",
              "4     YAL022C -0.415 -0.59 -0.580 -0.57 -0.09 -0.34  0.49  0.32  1.15  ...   \n",
              "...       ...    ...   ...    ...   ...   ...   ...   ...   ...   ...  ...   \n",
              "4376  YPR198W -0.060  0.08  0.210  0.34  0.65 -0.26  0.14 -0.33  0.53  ...   \n",
              "4377  YPR199C  0.155  0.19  0.235  0.28 -0.26  0.21 -0.40  0.34 -0.80  ...   \n",
              "4378  YPR201W -0.255 -0.36 -0.300 -0.24  1.30 -0.07  0.29 -0.20  0.25  ...   \n",
              "4379  YPR203W  0.570  0.12 -0.070 -0.26 -0.44 -0.21 -1.08  0.39 -0.17  ...   \n",
              "4380  YPR204W  0.405  0.17 -0.045 -0.26 -0.60 -0.09 -0.85  0.17 -0.05  ...   \n",
              "\n",
              "       170   180   190   200   210   220   230   240   250    260  \n",
              "0     0.59  0.34 -0.28 -0.09 -0.44  0.31  0.03  0.57  0.00  0.010  \n",
              "1    -0.30 -0.38  0.07 -0.04  0.13 -0.06 -0.26 -0.10  0.27  0.235  \n",
              "2     0.12 -0.17  0.11 -0.15  0.03 -0.26 -0.34 -0.34  0.25  0.190  \n",
              "3     0.07  0.61 -0.20  0.49 -0.43  0.80 -0.47  1.01 -0.36 -0.405  \n",
              "4    -0.48 -0.40 -0.59  0.54 -0.09  1.03  0.08  0.57 -0.26 -0.310  \n",
              "...    ...   ...   ...   ...   ...   ...   ...   ...   ...    ...  \n",
              "4376  0.14 -0.64 -0.26  0.53 -0.17  0.59 -0.96  0.40 -0.23 -0.325  \n",
              "4377  0.34  0.15  0.30 -0.06  0.13 -0.44 -1.03  0.14  0.30  0.250  \n",
              "4378 -0.81  0.89  0.07  1.04 -0.32  0.80 -0.13  0.84 -0.39 -0.415  \n",
              "4379  0.12 -0.96 -0.31 -0.81 -0.34 -1.21 -1.36 -0.12  0.69  0.555  \n",
              "4380  0.17 -1.90 -0.21 -0.45 -0.31 -0.39 -0.22 -0.08  0.65  0.520  \n",
              "\n",
              "[4381 rows x 24 columns]"
            ]
          },
          "execution_count": 70,
          "metadata": {},
          "output_type": "execute_result"
        }
      ],
      "source": [
        "## visualizando a Tabela ###\n",
        "df_data"
      ]
    },
    {
      "cell_type": "code",
      "execution_count": 71,
      "metadata": {
        "colab": {
          "base_uri": "https://localhost:8080/",
          "height": 864
        },
        "id": "PP10dWZ8o2ZA",
        "outputId": "d93a7f87-95ef-463d-bfef-6cd1516afab7"
      },
      "outputs": [
        {
          "data": {
            "text/html": [
              "<div>\n",
              "<style scoped>\n",
              "    .dataframe tbody tr th:only-of-type {\n",
              "        vertical-align: middle;\n",
              "    }\n",
              "\n",
              "    .dataframe tbody tr th {\n",
              "        vertical-align: top;\n",
              "    }\n",
              "\n",
              "    .dataframe thead th {\n",
              "        text-align: right;\n",
              "    }\n",
              "</style>\n",
              "<table border=\"1\" class=\"dataframe\">\n",
              "  <thead>\n",
              "    <tr style=\"text-align: right;\">\n",
              "      <th>time</th>\n",
              "      <th>YAL001C</th>\n",
              "      <th>YAL014C</th>\n",
              "      <th>YAL016W</th>\n",
              "      <th>YAL020C</th>\n",
              "      <th>YAL022C</th>\n",
              "      <th>YAL036C</th>\n",
              "      <th>YAL038W</th>\n",
              "      <th>YAL039C</th>\n",
              "      <th>YAL040C</th>\n",
              "      <th>YAL044C</th>\n",
              "      <th>...</th>\n",
              "      <th>YPR189W</th>\n",
              "      <th>YPR191W</th>\n",
              "      <th>YPR193C</th>\n",
              "      <th>YPR194C</th>\n",
              "      <th>YPR197C</th>\n",
              "      <th>YPR198W</th>\n",
              "      <th>YPR199C</th>\n",
              "      <th>YPR201W</th>\n",
              "      <th>YPR203W</th>\n",
              "      <th>YPR204W</th>\n",
              "    </tr>\n",
              "  </thead>\n",
              "  <tbody>\n",
              "    <tr>\n",
              "      <th>40</th>\n",
              "      <td>-0.07</td>\n",
              "      <td>0.215</td>\n",
              "      <td>0.15</td>\n",
              "      <td>-0.350</td>\n",
              "      <td>-0.415</td>\n",
              "      <td>0.540</td>\n",
              "      <td>-0.625</td>\n",
              "      <td>0.050</td>\n",
              "      <td>0.335</td>\n",
              "      <td>-0.43</td>\n",
              "      <td>...</td>\n",
              "      <td>0.13</td>\n",
              "      <td>-0.435</td>\n",
              "      <td>-0.005</td>\n",
              "      <td>-0.365</td>\n",
              "      <td>0.015</td>\n",
              "      <td>-0.060</td>\n",
              "      <td>0.155</td>\n",
              "      <td>-0.255</td>\n",
              "      <td>0.570</td>\n",
              "      <td>0.405</td>\n",
              "    </tr>\n",
              "    <tr>\n",
              "      <th>50</th>\n",
              "      <td>-0.23</td>\n",
              "      <td>0.090</td>\n",
              "      <td>0.15</td>\n",
              "      <td>-0.280</td>\n",
              "      <td>-0.590</td>\n",
              "      <td>0.330</td>\n",
              "      <td>-0.600</td>\n",
              "      <td>-0.240</td>\n",
              "      <td>0.050</td>\n",
              "      <td>-0.46</td>\n",
              "      <td>...</td>\n",
              "      <td>0.08</td>\n",
              "      <td>-0.130</td>\n",
              "      <td>0.020</td>\n",
              "      <td>-0.590</td>\n",
              "      <td>0.100</td>\n",
              "      <td>0.080</td>\n",
              "      <td>0.190</td>\n",
              "      <td>-0.360</td>\n",
              "      <td>0.120</td>\n",
              "      <td>0.170</td>\n",
              "    </tr>\n",
              "    <tr>\n",
              "      <th>60</th>\n",
              "      <td>-0.10</td>\n",
              "      <td>0.025</td>\n",
              "      <td>0.22</td>\n",
              "      <td>-0.215</td>\n",
              "      <td>-0.580</td>\n",
              "      <td>0.215</td>\n",
              "      <td>-0.400</td>\n",
              "      <td>-0.190</td>\n",
              "      <td>-0.040</td>\n",
              "      <td>-0.39</td>\n",
              "      <td>...</td>\n",
              "      <td>-0.06</td>\n",
              "      <td>-0.350</td>\n",
              "      <td>-0.180</td>\n",
              "      <td>-0.550</td>\n",
              "      <td>0.210</td>\n",
              "      <td>0.210</td>\n",
              "      <td>0.235</td>\n",
              "      <td>-0.300</td>\n",
              "      <td>-0.070</td>\n",
              "      <td>-0.045</td>\n",
              "    </tr>\n",
              "    <tr>\n",
              "      <th>70</th>\n",
              "      <td>0.03</td>\n",
              "      <td>-0.040</td>\n",
              "      <td>0.29</td>\n",
              "      <td>-0.150</td>\n",
              "      <td>-0.570</td>\n",
              "      <td>0.100</td>\n",
              "      <td>-0.200</td>\n",
              "      <td>-0.140</td>\n",
              "      <td>-0.130</td>\n",
              "      <td>-0.32</td>\n",
              "      <td>...</td>\n",
              "      <td>-0.20</td>\n",
              "      <td>-0.570</td>\n",
              "      <td>-0.380</td>\n",
              "      <td>-0.510</td>\n",
              "      <td>0.320</td>\n",
              "      <td>0.340</td>\n",
              "      <td>0.280</td>\n",
              "      <td>-0.240</td>\n",
              "      <td>-0.260</td>\n",
              "      <td>-0.260</td>\n",
              "    </tr>\n",
              "    <tr>\n",
              "      <th>80</th>\n",
              "      <td>-0.04</td>\n",
              "      <td>-0.040</td>\n",
              "      <td>-0.10</td>\n",
              "      <td>0.160</td>\n",
              "      <td>-0.090</td>\n",
              "      <td>-0.270</td>\n",
              "      <td>-0.130</td>\n",
              "      <td>-1.220</td>\n",
              "      <td>0.020</td>\n",
              "      <td>-0.66</td>\n",
              "      <td>...</td>\n",
              "      <td>0.05</td>\n",
              "      <td>-0.210</td>\n",
              "      <td>0.030</td>\n",
              "      <td>0.390</td>\n",
              "      <td>0.110</td>\n",
              "      <td>0.650</td>\n",
              "      <td>-0.260</td>\n",
              "      <td>1.300</td>\n",
              "      <td>-0.440</td>\n",
              "      <td>-0.600</td>\n",
              "    </tr>\n",
              "    <tr>\n",
              "      <th>90</th>\n",
              "      <td>-0.12</td>\n",
              "      <td>-0.020</td>\n",
              "      <td>0.15</td>\n",
              "      <td>-0.120</td>\n",
              "      <td>-0.340</td>\n",
              "      <td>0.450</td>\n",
              "      <td>0.330</td>\n",
              "      <td>-0.160</td>\n",
              "      <td>0.040</td>\n",
              "      <td>0.03</td>\n",
              "      <td>...</td>\n",
              "      <td>-0.01</td>\n",
              "      <td>-0.440</td>\n",
              "      <td>-0.250</td>\n",
              "      <td>-0.220</td>\n",
              "      <td>0.310</td>\n",
              "      <td>-0.260</td>\n",
              "      <td>0.210</td>\n",
              "      <td>-0.070</td>\n",
              "      <td>-0.210</td>\n",
              "      <td>-0.090</td>\n",
              "    </tr>\n",
              "    <tr>\n",
              "      <th>100</th>\n",
              "      <td>-0.28</td>\n",
              "      <td>-0.510</td>\n",
              "      <td>-0.73</td>\n",
              "      <td>0.260</td>\n",
              "      <td>0.490</td>\n",
              "      <td>0.620</td>\n",
              "      <td>-0.530</td>\n",
              "      <td>-0.210</td>\n",
              "      <td>-0.140</td>\n",
              "      <td>-0.79</td>\n",
              "      <td>...</td>\n",
              "      <td>0.07</td>\n",
              "      <td>0.580</td>\n",
              "      <td>0.230</td>\n",
              "      <td>0.290</td>\n",
              "      <td>0.100</td>\n",
              "      <td>0.140</td>\n",
              "      <td>-0.400</td>\n",
              "      <td>0.290</td>\n",
              "      <td>-1.080</td>\n",
              "      <td>-0.850</td>\n",
              "    </tr>\n",
              "    <tr>\n",
              "      <th>110</th>\n",
              "      <td>-0.44</td>\n",
              "      <td>-0.080</td>\n",
              "      <td>0.19</td>\n",
              "      <td>0.000</td>\n",
              "      <td>0.320</td>\n",
              "      <td>0.320</td>\n",
              "      <td>0.260</td>\n",
              "      <td>0.200</td>\n",
              "      <td>0.240</td>\n",
              "      <td>0.10</td>\n",
              "      <td>...</td>\n",
              "      <td>-0.15</td>\n",
              "      <td>-0.130</td>\n",
              "      <td>-0.100</td>\n",
              "      <td>-0.920</td>\n",
              "      <td>0.230</td>\n",
              "      <td>-0.330</td>\n",
              "      <td>0.340</td>\n",
              "      <td>-0.200</td>\n",
              "      <td>0.390</td>\n",
              "      <td>0.170</td>\n",
              "    </tr>\n",
              "    <tr>\n",
              "      <th>120</th>\n",
              "      <td>-0.09</td>\n",
              "      <td>0.000</td>\n",
              "      <td>-0.15</td>\n",
              "      <td>0.130</td>\n",
              "      <td>1.150</td>\n",
              "      <td>-0.600</td>\n",
              "      <td>-0.180</td>\n",
              "      <td>-0.470</td>\n",
              "      <td>0.910</td>\n",
              "      <td>-0.89</td>\n",
              "      <td>...</td>\n",
              "      <td>-0.11</td>\n",
              "      <td>0.390</td>\n",
              "      <td>0.400</td>\n",
              "      <td>0.420</td>\n",
              "      <td>-0.120</td>\n",
              "      <td>0.530</td>\n",
              "      <td>-0.800</td>\n",
              "      <td>0.250</td>\n",
              "      <td>-0.170</td>\n",
              "      <td>-0.050</td>\n",
              "    </tr>\n",
              "    <tr>\n",
              "      <th>130</th>\n",
              "      <td>0.12</td>\n",
              "      <td>0.460</td>\n",
              "      <td>0.29</td>\n",
              "      <td>-0.200</td>\n",
              "      <td>0.200</td>\n",
              "      <td>0.270</td>\n",
              "      <td>0.350</td>\n",
              "      <td>0.350</td>\n",
              "      <td>0.420</td>\n",
              "      <td>0.05</td>\n",
              "      <td>...</td>\n",
              "      <td>0.05</td>\n",
              "      <td>-0.210</td>\n",
              "      <td>-0.430</td>\n",
              "      <td>-0.590</td>\n",
              "      <td>0.310</td>\n",
              "      <td>-0.020</td>\n",
              "      <td>0.340</td>\n",
              "      <td>-0.470</td>\n",
              "      <td>1.610</td>\n",
              "      <td>1.260</td>\n",
              "    </tr>\n",
              "    <tr>\n",
              "      <th>140</th>\n",
              "      <td>0.06</td>\n",
              "      <td>-0.190</td>\n",
              "      <td>-0.08</td>\n",
              "      <td>-0.070</td>\n",
              "      <td>0.310</td>\n",
              "      <td>-0.270</td>\n",
              "      <td>0.180</td>\n",
              "      <td>0.110</td>\n",
              "      <td>0.580</td>\n",
              "      <td>-0.97</td>\n",
              "      <td>...</td>\n",
              "      <td>-0.20</td>\n",
              "      <td>0.050</td>\n",
              "      <td>-0.150</td>\n",
              "      <td>0.040</td>\n",
              "      <td>0.210</td>\n",
              "      <td>0.130</td>\n",
              "      <td>-0.250</td>\n",
              "      <td>0.230</td>\n",
              "      <td>1.120</td>\n",
              "      <td>0.670</td>\n",
              "    </tr>\n",
              "    <tr>\n",
              "      <th>150</th>\n",
              "      <td>-0.04</td>\n",
              "      <td>0.040</td>\n",
              "      <td>0.16</td>\n",
              "      <td>-0.050</td>\n",
              "      <td>-0.280</td>\n",
              "      <td>0.210</td>\n",
              "      <td>0.340</td>\n",
              "      <td>0.520</td>\n",
              "      <td>-0.200</td>\n",
              "      <td>0.17</td>\n",
              "      <td>...</td>\n",
              "      <td>0.20</td>\n",
              "      <td>0.820</td>\n",
              "      <td>-0.170</td>\n",
              "      <td>-0.090</td>\n",
              "      <td>0.070</td>\n",
              "      <td>0.080</td>\n",
              "      <td>0.250</td>\n",
              "      <td>-1.200</td>\n",
              "      <td>1.110</td>\n",
              "      <td>0.790</td>\n",
              "    </tr>\n",
              "    <tr>\n",
              "      <th>160</th>\n",
              "      <td>0.31</td>\n",
              "      <td>0.180</td>\n",
              "      <td>-0.05</td>\n",
              "      <td>0.430</td>\n",
              "      <td>-0.010</td>\n",
              "      <td>-0.400</td>\n",
              "      <td>0.280</td>\n",
              "      <td>-0.480</td>\n",
              "      <td>0.030</td>\n",
              "      <td>-0.31</td>\n",
              "      <td>...</td>\n",
              "      <td>-0.05</td>\n",
              "      <td>0.280</td>\n",
              "      <td>0.050</td>\n",
              "      <td>0.770</td>\n",
              "      <td>0.130</td>\n",
              "      <td>0.070</td>\n",
              "      <td>-0.380</td>\n",
              "      <td>0.120</td>\n",
              "      <td>0.290</td>\n",
              "      <td>0.190</td>\n",
              "    </tr>\n",
              "    <tr>\n",
              "      <th>170</th>\n",
              "      <td>0.59</td>\n",
              "      <td>-0.300</td>\n",
              "      <td>0.12</td>\n",
              "      <td>0.070</td>\n",
              "      <td>-0.480</td>\n",
              "      <td>-0.110</td>\n",
              "      <td>0.160</td>\n",
              "      <td>-0.130</td>\n",
              "      <td>-0.380</td>\n",
              "      <td>0.18</td>\n",
              "      <td>...</td>\n",
              "      <td>-0.01</td>\n",
              "      <td>0.200</td>\n",
              "      <td>0.060</td>\n",
              "      <td>0.680</td>\n",
              "      <td>-0.210</td>\n",
              "      <td>0.140</td>\n",
              "      <td>0.340</td>\n",
              "      <td>-0.810</td>\n",
              "      <td>0.120</td>\n",
              "      <td>0.170</td>\n",
              "    </tr>\n",
              "    <tr>\n",
              "      <th>180</th>\n",
              "      <td>0.34</td>\n",
              "      <td>-0.380</td>\n",
              "      <td>-0.17</td>\n",
              "      <td>0.610</td>\n",
              "      <td>-0.400</td>\n",
              "      <td>-0.550</td>\n",
              "      <td>0.150</td>\n",
              "      <td>-0.260</td>\n",
              "      <td>-0.310</td>\n",
              "      <td>-0.14</td>\n",
              "      <td>...</td>\n",
              "      <td>0.64</td>\n",
              "      <td>0.300</td>\n",
              "      <td>0.290</td>\n",
              "      <td>0.870</td>\n",
              "      <td>0.170</td>\n",
              "      <td>-0.640</td>\n",
              "      <td>0.150</td>\n",
              "      <td>0.890</td>\n",
              "      <td>-0.960</td>\n",
              "      <td>-1.900</td>\n",
              "    </tr>\n",
              "    <tr>\n",
              "      <th>190</th>\n",
              "      <td>-0.28</td>\n",
              "      <td>0.070</td>\n",
              "      <td>0.11</td>\n",
              "      <td>-0.200</td>\n",
              "      <td>-0.590</td>\n",
              "      <td>0.240</td>\n",
              "      <td>0.110</td>\n",
              "      <td>-0.030</td>\n",
              "      <td>-0.560</td>\n",
              "      <td>0.46</td>\n",
              "      <td>...</td>\n",
              "      <td>-0.18</td>\n",
              "      <td>-0.920</td>\n",
              "      <td>-0.380</td>\n",
              "      <td>-0.220</td>\n",
              "      <td>-0.010</td>\n",
              "      <td>-0.260</td>\n",
              "      <td>0.300</td>\n",
              "      <td>0.070</td>\n",
              "      <td>-0.310</td>\n",
              "      <td>-0.210</td>\n",
              "    </tr>\n",
              "    <tr>\n",
              "      <th>200</th>\n",
              "      <td>-0.09</td>\n",
              "      <td>-0.040</td>\n",
              "      <td>-0.15</td>\n",
              "      <td>0.490</td>\n",
              "      <td>0.540</td>\n",
              "      <td>-0.190</td>\n",
              "      <td>0.570</td>\n",
              "      <td>-0.200</td>\n",
              "      <td>0.170</td>\n",
              "      <td>0.40</td>\n",
              "      <td>...</td>\n",
              "      <td>0.39</td>\n",
              "      <td>0.230</td>\n",
              "      <td>-0.210</td>\n",
              "      <td>0.950</td>\n",
              "      <td>0.070</td>\n",
              "      <td>0.530</td>\n",
              "      <td>-0.060</td>\n",
              "      <td>1.040</td>\n",
              "      <td>-0.810</td>\n",
              "      <td>-0.450</td>\n",
              "    </tr>\n",
              "    <tr>\n",
              "      <th>210</th>\n",
              "      <td>-0.44</td>\n",
              "      <td>0.130</td>\n",
              "      <td>0.03</td>\n",
              "      <td>-0.430</td>\n",
              "      <td>-0.090</td>\n",
              "      <td>0.270</td>\n",
              "      <td>0.320</td>\n",
              "      <td>0.110</td>\n",
              "      <td>-0.300</td>\n",
              "      <td>0.87</td>\n",
              "      <td>...</td>\n",
              "      <td>-0.22</td>\n",
              "      <td>-0.400</td>\n",
              "      <td>-0.280</td>\n",
              "      <td>-0.350</td>\n",
              "      <td>0.080</td>\n",
              "      <td>-0.170</td>\n",
              "      <td>0.130</td>\n",
              "      <td>-0.320</td>\n",
              "      <td>-0.340</td>\n",
              "      <td>-0.310</td>\n",
              "    </tr>\n",
              "    <tr>\n",
              "      <th>220</th>\n",
              "      <td>0.31</td>\n",
              "      <td>-0.060</td>\n",
              "      <td>-0.26</td>\n",
              "      <td>0.800</td>\n",
              "      <td>1.030</td>\n",
              "      <td>-0.500</td>\n",
              "      <td>0.230</td>\n",
              "      <td>-0.050</td>\n",
              "      <td>0.360</td>\n",
              "      <td>-0.24</td>\n",
              "      <td>...</td>\n",
              "      <td>0.03</td>\n",
              "      <td>0.780</td>\n",
              "      <td>0.130</td>\n",
              "      <td>1.190</td>\n",
              "      <td>-0.290</td>\n",
              "      <td>0.590</td>\n",
              "      <td>-0.440</td>\n",
              "      <td>0.800</td>\n",
              "      <td>-1.210</td>\n",
              "      <td>-0.390</td>\n",
              "    </tr>\n",
              "    <tr>\n",
              "      <th>230</th>\n",
              "      <td>0.03</td>\n",
              "      <td>-0.260</td>\n",
              "      <td>-0.34</td>\n",
              "      <td>-0.470</td>\n",
              "      <td>0.080</td>\n",
              "      <td>-0.470</td>\n",
              "      <td>0.190</td>\n",
              "      <td>0.340</td>\n",
              "      <td>-0.260</td>\n",
              "      <td>0.22</td>\n",
              "      <td>...</td>\n",
              "      <td>-0.24</td>\n",
              "      <td>0.780</td>\n",
              "      <td>0.400</td>\n",
              "      <td>0.560</td>\n",
              "      <td>-1.290</td>\n",
              "      <td>-0.960</td>\n",
              "      <td>-1.030</td>\n",
              "      <td>-0.130</td>\n",
              "      <td>-1.360</td>\n",
              "      <td>-0.220</td>\n",
              "    </tr>\n",
              "    <tr>\n",
              "      <th>240</th>\n",
              "      <td>0.57</td>\n",
              "      <td>-0.100</td>\n",
              "      <td>-0.34</td>\n",
              "      <td>1.010</td>\n",
              "      <td>0.570</td>\n",
              "      <td>-0.830</td>\n",
              "      <td>-0.290</td>\n",
              "      <td>-0.410</td>\n",
              "      <td>0.110</td>\n",
              "      <td>-0.44</td>\n",
              "      <td>...</td>\n",
              "      <td>0.38</td>\n",
              "      <td>0.940</td>\n",
              "      <td>0.850</td>\n",
              "      <td>0.520</td>\n",
              "      <td>0.260</td>\n",
              "      <td>0.400</td>\n",
              "      <td>0.140</td>\n",
              "      <td>0.840</td>\n",
              "      <td>-0.120</td>\n",
              "      <td>-0.080</td>\n",
              "    </tr>\n",
              "    <tr>\n",
              "      <th>250</th>\n",
              "      <td>0.00</td>\n",
              "      <td>0.270</td>\n",
              "      <td>0.25</td>\n",
              "      <td>-0.360</td>\n",
              "      <td>-0.260</td>\n",
              "      <td>0.050</td>\n",
              "      <td>-0.020</td>\n",
              "      <td>0.520</td>\n",
              "      <td>-0.500</td>\n",
              "      <td>0.84</td>\n",
              "      <td>...</td>\n",
              "      <td>-0.34</td>\n",
              "      <td>-0.340</td>\n",
              "      <td>0.130</td>\n",
              "      <td>-0.740</td>\n",
              "      <td>-0.140</td>\n",
              "      <td>-0.230</td>\n",
              "      <td>0.300</td>\n",
              "      <td>-0.390</td>\n",
              "      <td>0.690</td>\n",
              "      <td>0.650</td>\n",
              "    </tr>\n",
              "    <tr>\n",
              "      <th>260</th>\n",
              "      <td>0.01</td>\n",
              "      <td>0.235</td>\n",
              "      <td>0.19</td>\n",
              "      <td>-0.405</td>\n",
              "      <td>-0.310</td>\n",
              "      <td>-0.070</td>\n",
              "      <td>-0.045</td>\n",
              "      <td>0.405</td>\n",
              "      <td>-0.580</td>\n",
              "      <td>0.77</td>\n",
              "      <td>...</td>\n",
              "      <td>-0.28</td>\n",
              "      <td>-0.360</td>\n",
              "      <td>0.145</td>\n",
              "      <td>-0.605</td>\n",
              "      <td>-0.175</td>\n",
              "      <td>-0.325</td>\n",
              "      <td>0.250</td>\n",
              "      <td>-0.415</td>\n",
              "      <td>0.555</td>\n",
              "      <td>0.520</td>\n",
              "    </tr>\n",
              "  </tbody>\n",
              "</table>\n",
              "<p>23 rows × 4381 columns</p>\n",
              "</div>"
            ],
            "text/plain": [
              "time  YAL001C  YAL014C  YAL016W  YAL020C  YAL022C  YAL036C  YAL038W  YAL039C  \\\n",
              "40      -0.07    0.215     0.15   -0.350   -0.415    0.540   -0.625    0.050   \n",
              "50      -0.23    0.090     0.15   -0.280   -0.590    0.330   -0.600   -0.240   \n",
              "60      -0.10    0.025     0.22   -0.215   -0.580    0.215   -0.400   -0.190   \n",
              "70       0.03   -0.040     0.29   -0.150   -0.570    0.100   -0.200   -0.140   \n",
              "80      -0.04   -0.040    -0.10    0.160   -0.090   -0.270   -0.130   -1.220   \n",
              "90      -0.12   -0.020     0.15   -0.120   -0.340    0.450    0.330   -0.160   \n",
              "100     -0.28   -0.510    -0.73    0.260    0.490    0.620   -0.530   -0.210   \n",
              "110     -0.44   -0.080     0.19    0.000    0.320    0.320    0.260    0.200   \n",
              "120     -0.09    0.000    -0.15    0.130    1.150   -0.600   -0.180   -0.470   \n",
              "130      0.12    0.460     0.29   -0.200    0.200    0.270    0.350    0.350   \n",
              "140      0.06   -0.190    -0.08   -0.070    0.310   -0.270    0.180    0.110   \n",
              "150     -0.04    0.040     0.16   -0.050   -0.280    0.210    0.340    0.520   \n",
              "160      0.31    0.180    -0.05    0.430   -0.010   -0.400    0.280   -0.480   \n",
              "170      0.59   -0.300     0.12    0.070   -0.480   -0.110    0.160   -0.130   \n",
              "180      0.34   -0.380    -0.17    0.610   -0.400   -0.550    0.150   -0.260   \n",
              "190     -0.28    0.070     0.11   -0.200   -0.590    0.240    0.110   -0.030   \n",
              "200     -0.09   -0.040    -0.15    0.490    0.540   -0.190    0.570   -0.200   \n",
              "210     -0.44    0.130     0.03   -0.430   -0.090    0.270    0.320    0.110   \n",
              "220      0.31   -0.060    -0.26    0.800    1.030   -0.500    0.230   -0.050   \n",
              "230      0.03   -0.260    -0.34   -0.470    0.080   -0.470    0.190    0.340   \n",
              "240      0.57   -0.100    -0.34    1.010    0.570   -0.830   -0.290   -0.410   \n",
              "250      0.00    0.270     0.25   -0.360   -0.260    0.050   -0.020    0.520   \n",
              "260      0.01    0.235     0.19   -0.405   -0.310   -0.070   -0.045    0.405   \n",
              "\n",
              "time  YAL040C  YAL044C  ...  YPR189W  YPR191W  YPR193C  YPR194C  YPR197C  \\\n",
              "40      0.335    -0.43  ...     0.13   -0.435   -0.005   -0.365    0.015   \n",
              "50      0.050    -0.46  ...     0.08   -0.130    0.020   -0.590    0.100   \n",
              "60     -0.040    -0.39  ...    -0.06   -0.350   -0.180   -0.550    0.210   \n",
              "70     -0.130    -0.32  ...    -0.20   -0.570   -0.380   -0.510    0.320   \n",
              "80      0.020    -0.66  ...     0.05   -0.210    0.030    0.390    0.110   \n",
              "90      0.040     0.03  ...    -0.01   -0.440   -0.250   -0.220    0.310   \n",
              "100    -0.140    -0.79  ...     0.07    0.580    0.230    0.290    0.100   \n",
              "110     0.240     0.10  ...    -0.15   -0.130   -0.100   -0.920    0.230   \n",
              "120     0.910    -0.89  ...    -0.11    0.390    0.400    0.420   -0.120   \n",
              "130     0.420     0.05  ...     0.05   -0.210   -0.430   -0.590    0.310   \n",
              "140     0.580    -0.97  ...    -0.20    0.050   -0.150    0.040    0.210   \n",
              "150    -0.200     0.17  ...     0.20    0.820   -0.170   -0.090    0.070   \n",
              "160     0.030    -0.31  ...    -0.05    0.280    0.050    0.770    0.130   \n",
              "170    -0.380     0.18  ...    -0.01    0.200    0.060    0.680   -0.210   \n",
              "180    -0.310    -0.14  ...     0.64    0.300    0.290    0.870    0.170   \n",
              "190    -0.560     0.46  ...    -0.18   -0.920   -0.380   -0.220   -0.010   \n",
              "200     0.170     0.40  ...     0.39    0.230   -0.210    0.950    0.070   \n",
              "210    -0.300     0.87  ...    -0.22   -0.400   -0.280   -0.350    0.080   \n",
              "220     0.360    -0.24  ...     0.03    0.780    0.130    1.190   -0.290   \n",
              "230    -0.260     0.22  ...    -0.24    0.780    0.400    0.560   -1.290   \n",
              "240     0.110    -0.44  ...     0.38    0.940    0.850    0.520    0.260   \n",
              "250    -0.500     0.84  ...    -0.34   -0.340    0.130   -0.740   -0.140   \n",
              "260    -0.580     0.77  ...    -0.28   -0.360    0.145   -0.605   -0.175   \n",
              "\n",
              "time  YPR198W  YPR199C  YPR201W  YPR203W  YPR204W  \n",
              "40     -0.060    0.155   -0.255    0.570    0.405  \n",
              "50      0.080    0.190   -0.360    0.120    0.170  \n",
              "60      0.210    0.235   -0.300   -0.070   -0.045  \n",
              "70      0.340    0.280   -0.240   -0.260   -0.260  \n",
              "80      0.650   -0.260    1.300   -0.440   -0.600  \n",
              "90     -0.260    0.210   -0.070   -0.210   -0.090  \n",
              "100     0.140   -0.400    0.290   -1.080   -0.850  \n",
              "110    -0.330    0.340   -0.200    0.390    0.170  \n",
              "120     0.530   -0.800    0.250   -0.170   -0.050  \n",
              "130    -0.020    0.340   -0.470    1.610    1.260  \n",
              "140     0.130   -0.250    0.230    1.120    0.670  \n",
              "150     0.080    0.250   -1.200    1.110    0.790  \n",
              "160     0.070   -0.380    0.120    0.290    0.190  \n",
              "170     0.140    0.340   -0.810    0.120    0.170  \n",
              "180    -0.640    0.150    0.890   -0.960   -1.900  \n",
              "190    -0.260    0.300    0.070   -0.310   -0.210  \n",
              "200     0.530   -0.060    1.040   -0.810   -0.450  \n",
              "210    -0.170    0.130   -0.320   -0.340   -0.310  \n",
              "220     0.590   -0.440    0.800   -1.210   -0.390  \n",
              "230    -0.960   -1.030   -0.130   -1.360   -0.220  \n",
              "240     0.400    0.140    0.840   -0.120   -0.080  \n",
              "250    -0.230    0.300   -0.390    0.690    0.650  \n",
              "260    -0.325    0.250   -0.415    0.555    0.520  \n",
              "\n",
              "[23 rows x 4381 columns]"
            ]
          },
          "execution_count": 71,
          "metadata": {},
          "output_type": "execute_result"
        }
      ],
      "source": [
        "df_T = df_data.set_index('time').transpose()\n",
        "df_T"
      ]
    },
    {
      "cell_type": "code",
      "execution_count": 72,
      "metadata": {
        "colab": {
          "base_uri": "https://localhost:8080/"
        },
        "id": "AXbDH-d0W5SE",
        "outputId": "6417fde4-2274-4e8e-f5b3-f439b5b91fdc"
      },
      "outputs": [
        {
          "data": {
            "text/plain": [
              "time\n",
              "YAL001C    float64\n",
              "YAL014C    float64\n",
              "YAL016W    float64\n",
              "YAL020C    float64\n",
              "YAL022C    float64\n",
              "            ...   \n",
              "YPR198W    float64\n",
              "YPR199C    float64\n",
              "YPR201W    float64\n",
              "YPR203W    float64\n",
              "YPR204W    float64\n",
              "Length: 4381, dtype: object"
            ]
          },
          "execution_count": 72,
          "metadata": {},
          "output_type": "execute_result"
        }
      ],
      "source": [
        "### verificando os tipos nas colunas ###\n",
        "df_T.dtypes"
      ]
    },
    {
      "cell_type": "code",
      "execution_count": 73,
      "metadata": {
        "colab": {
          "base_uri": "https://localhost:8080/"
        },
        "id": "dkjesJVNqeXx",
        "outputId": "0d1af122-f7ca-4c67-f7ce-b6d8eb40a2e8"
      },
      "outputs": [
        {
          "name": "stdout",
          "output_type": "stream",
          "text": [
            "<class 'pandas.core.frame.DataFrame'>\n",
            "Index: 23 entries, 40 to 260\n",
            "Columns: 4381 entries, YAL001C to YPR204W\n",
            "dtypes: float64(4381)\n",
            "memory usage: 787.4+ KB\n"
          ]
        }
      ],
      "source": [
        "df_T.info()"
      ]
    },
    {
      "cell_type": "code",
      "execution_count": 74,
      "metadata": {
        "colab": {
          "base_uri": "https://localhost:8080/",
          "height": 238
        },
        "id": "ZU7iRsCFXDcw",
        "outputId": "7c303b91-b48d-4c00-f15f-f832f2e4ac92"
      },
      "outputs": [
        {
          "data": {
            "text/html": [
              "<div>\n",
              "<style scoped>\n",
              "    .dataframe tbody tr th:only-of-type {\n",
              "        vertical-align: middle;\n",
              "    }\n",
              "\n",
              "    .dataframe tbody tr th {\n",
              "        vertical-align: top;\n",
              "    }\n",
              "\n",
              "    .dataframe thead th {\n",
              "        text-align: right;\n",
              "    }\n",
              "</style>\n",
              "<table border=\"1\" class=\"dataframe\">\n",
              "  <thead>\n",
              "    <tr style=\"text-align: right;\">\n",
              "      <th>time</th>\n",
              "      <th>YAL001C</th>\n",
              "      <th>YAL022C</th>\n",
              "      <th>YAL016W</th>\n",
              "      <th>YAL020C</th>\n",
              "      <th>YAL014C</th>\n",
              "    </tr>\n",
              "    <tr>\n",
              "      <th>time</th>\n",
              "      <th></th>\n",
              "      <th></th>\n",
              "      <th></th>\n",
              "      <th></th>\n",
              "      <th></th>\n",
              "    </tr>\n",
              "  </thead>\n",
              "  <tbody>\n",
              "    <tr>\n",
              "      <th>YAL001C</th>\n",
              "      <td>1.000000</td>\n",
              "      <td>0.097912</td>\n",
              "      <td>-0.151521</td>\n",
              "      <td>0.568226</td>\n",
              "      <td>-0.164246</td>\n",
              "    </tr>\n",
              "    <tr>\n",
              "      <th>YAL022C</th>\n",
              "      <td>0.097912</td>\n",
              "      <td>1.000000</td>\n",
              "      <td>-0.605068</td>\n",
              "      <td>0.547778</td>\n",
              "      <td>-0.178814</td>\n",
              "    </tr>\n",
              "    <tr>\n",
              "      <th>YAL016W</th>\n",
              "      <td>-0.151521</td>\n",
              "      <td>-0.605068</td>\n",
              "      <td>1.000000</td>\n",
              "      <td>-0.564937</td>\n",
              "      <td>0.686653</td>\n",
              "    </tr>\n",
              "    <tr>\n",
              "      <th>YAL020C</th>\n",
              "      <td>0.568226</td>\n",
              "      <td>0.547778</td>\n",
              "      <td>-0.564937</td>\n",
              "      <td>1.000000</td>\n",
              "      <td>-0.402450</td>\n",
              "    </tr>\n",
              "    <tr>\n",
              "      <th>YAL014C</th>\n",
              "      <td>-0.164246</td>\n",
              "      <td>-0.178814</td>\n",
              "      <td>0.686653</td>\n",
              "      <td>-0.402450</td>\n",
              "      <td>1.000000</td>\n",
              "    </tr>\n",
              "  </tbody>\n",
              "</table>\n",
              "</div>"
            ],
            "text/plain": [
              "time      YAL001C   YAL022C   YAL016W   YAL020C   YAL014C\n",
              "time                                                     \n",
              "YAL001C  1.000000  0.097912 -0.151521  0.568226 -0.164246\n",
              "YAL022C  0.097912  1.000000 -0.605068  0.547778 -0.178814\n",
              "YAL016W -0.151521 -0.605068  1.000000 -0.564937  0.686653\n",
              "YAL020C  0.568226  0.547778 -0.564937  1.000000 -0.402450\n",
              "YAL014C -0.164246 -0.178814  0.686653 -0.402450  1.000000"
            ]
          },
          "execution_count": 74,
          "metadata": {},
          "output_type": "execute_result"
        }
      ],
      "source": [
        "df_T[['YAL001C','YAL022C','YAL016W','YAL020C','YAL014C']].corr()"
      ]
    },
    {
      "cell_type": "code",
      "execution_count": 75,
      "metadata": {
        "id": "KVlHbWHWs0EO"
      },
      "outputs": [
        {
          "data": {
            "text/html": [
              "<div>\n",
              "<style scoped>\n",
              "    .dataframe tbody tr th:only-of-type {\n",
              "        vertical-align: middle;\n",
              "    }\n",
              "\n",
              "    .dataframe tbody tr th {\n",
              "        vertical-align: top;\n",
              "    }\n",
              "\n",
              "    .dataframe thead th {\n",
              "        text-align: right;\n",
              "    }\n",
              "</style>\n",
              "<table border=\"1\" class=\"dataframe\">\n",
              "  <thead>\n",
              "    <tr style=\"text-align: right;\">\n",
              "      <th>time</th>\n",
              "      <th>YAL001C</th>\n",
              "      <th>YAL014C</th>\n",
              "      <th>YAL016W</th>\n",
              "      <th>YAL020C</th>\n",
              "      <th>YAL022C</th>\n",
              "      <th>YAL036C</th>\n",
              "      <th>YAL038W</th>\n",
              "      <th>YAL039C</th>\n",
              "      <th>YAL040C</th>\n",
              "      <th>YAL044C</th>\n",
              "      <th>...</th>\n",
              "      <th>YPR189W</th>\n",
              "      <th>YPR191W</th>\n",
              "      <th>YPR193C</th>\n",
              "      <th>YPR194C</th>\n",
              "      <th>YPR197C</th>\n",
              "      <th>YPR198W</th>\n",
              "      <th>YPR199C</th>\n",
              "      <th>YPR201W</th>\n",
              "      <th>YPR203W</th>\n",
              "      <th>YPR204W</th>\n",
              "    </tr>\n",
              "    <tr>\n",
              "      <th>time</th>\n",
              "      <th></th>\n",
              "      <th></th>\n",
              "      <th></th>\n",
              "      <th></th>\n",
              "      <th></th>\n",
              "      <th></th>\n",
              "      <th></th>\n",
              "      <th></th>\n",
              "      <th></th>\n",
              "      <th></th>\n",
              "      <th></th>\n",
              "      <th></th>\n",
              "      <th></th>\n",
              "      <th></th>\n",
              "      <th></th>\n",
              "      <th></th>\n",
              "      <th></th>\n",
              "      <th></th>\n",
              "      <th></th>\n",
              "      <th></th>\n",
              "      <th></th>\n",
              "    </tr>\n",
              "  </thead>\n",
              "  <tbody>\n",
              "    <tr>\n",
              "      <th>YAL001C</th>\n",
              "      <td>1.000000</td>\n",
              "      <td>-0.164246</td>\n",
              "      <td>-0.151521</td>\n",
              "      <td>0.568226</td>\n",
              "      <td>0.097912</td>\n",
              "      <td>-0.665933</td>\n",
              "      <td>0.093620</td>\n",
              "      <td>-0.164798</td>\n",
              "      <td>0.008567</td>\n",
              "      <td>-0.155630</td>\n",
              "      <td>...</td>\n",
              "      <td>0.377932</td>\n",
              "      <td>0.475456</td>\n",
              "      <td>0.472710</td>\n",
              "      <td>0.580868</td>\n",
              "      <td>-0.098760</td>\n",
              "      <td>0.168123</td>\n",
              "      <td>-0.052156</td>\n",
              "      <td>0.182715</td>\n",
              "      <td>0.001390</td>\n",
              "      <td>-0.032425</td>\n",
              "    </tr>\n",
              "    <tr>\n",
              "      <th>YAL014C</th>\n",
              "      <td>-0.164246</td>\n",
              "      <td>1.000000</td>\n",
              "      <td>0.686653</td>\n",
              "      <td>-0.402450</td>\n",
              "      <td>-0.178814</td>\n",
              "      <td>0.227677</td>\n",
              "      <td>0.077549</td>\n",
              "      <td>0.284315</td>\n",
              "      <td>0.066540</td>\n",
              "      <td>0.372808</td>\n",
              "      <td>...</td>\n",
              "      <td>-0.310122</td>\n",
              "      <td>-0.482233</td>\n",
              "      <td>-0.389686</td>\n",
              "      <td>-0.527033</td>\n",
              "      <td>0.193419</td>\n",
              "      <td>0.044548</td>\n",
              "      <td>0.360118</td>\n",
              "      <td>-0.343055</td>\n",
              "      <td>0.628362</td>\n",
              "      <td>0.675182</td>\n",
              "    </tr>\n",
              "    <tr>\n",
              "      <th>YAL016W</th>\n",
              "      <td>-0.151521</td>\n",
              "      <td>0.686653</td>\n",
              "      <td>1.000000</td>\n",
              "      <td>-0.564937</td>\n",
              "      <td>-0.605068</td>\n",
              "      <td>0.388291</td>\n",
              "      <td>0.116258</td>\n",
              "      <td>0.346707</td>\n",
              "      <td>-0.144496</td>\n",
              "      <td>0.398531</td>\n",
              "      <td>...</td>\n",
              "      <td>-0.329883</td>\n",
              "      <td>-0.687691</td>\n",
              "      <td>-0.621334</td>\n",
              "      <td>-0.691520</td>\n",
              "      <td>0.299667</td>\n",
              "      <td>-0.125041</td>\n",
              "      <td>0.699442</td>\n",
              "      <td>-0.600387</td>\n",
              "      <td>0.656411</td>\n",
              "      <td>0.559538</td>\n",
              "    </tr>\n",
              "    <tr>\n",
              "      <th>YAL020C</th>\n",
              "      <td>0.568226</td>\n",
              "      <td>-0.402450</td>\n",
              "      <td>-0.564937</td>\n",
              "      <td>1.000000</td>\n",
              "      <td>0.547778</td>\n",
              "      <td>-0.602305</td>\n",
              "      <td>0.113412</td>\n",
              "      <td>-0.495031</td>\n",
              "      <td>0.277407</td>\n",
              "      <td>-0.368064</td>\n",
              "      <td>...</td>\n",
              "      <td>0.676002</td>\n",
              "      <td>0.617127</td>\n",
              "      <td>0.484810</td>\n",
              "      <td>0.738958</td>\n",
              "      <td>0.227065</td>\n",
              "      <td>0.476652</td>\n",
              "      <td>-0.193317</td>\n",
              "      <td>0.687831</td>\n",
              "      <td>-0.367226</td>\n",
              "      <td>-0.460502</td>\n",
              "    </tr>\n",
              "    <tr>\n",
              "      <th>YAL022C</th>\n",
              "      <td>0.097912</td>\n",
              "      <td>-0.178814</td>\n",
              "      <td>-0.605068</td>\n",
              "      <td>0.547778</td>\n",
              "      <td>1.000000</td>\n",
              "      <td>-0.467413</td>\n",
              "      <td>0.183740</td>\n",
              "      <td>-0.140546</td>\n",
              "      <td>0.657255</td>\n",
              "      <td>-0.323415</td>\n",
              "      <td>...</td>\n",
              "      <td>0.107663</td>\n",
              "      <td>0.607786</td>\n",
              "      <td>0.416991</td>\n",
              "      <td>0.479131</td>\n",
              "      <td>-0.128097</td>\n",
              "      <td>0.412873</td>\n",
              "      <td>-0.610840</td>\n",
              "      <td>0.481838</td>\n",
              "      <td>-0.222885</td>\n",
              "      <td>-0.056557</td>\n",
              "    </tr>\n",
              "    <tr>\n",
              "      <th>...</th>\n",
              "      <td>...</td>\n",
              "      <td>...</td>\n",
              "      <td>...</td>\n",
              "      <td>...</td>\n",
              "      <td>...</td>\n",
              "      <td>...</td>\n",
              "      <td>...</td>\n",
              "      <td>...</td>\n",
              "      <td>...</td>\n",
              "      <td>...</td>\n",
              "      <td>...</td>\n",
              "      <td>...</td>\n",
              "      <td>...</td>\n",
              "      <td>...</td>\n",
              "      <td>...</td>\n",
              "      <td>...</td>\n",
              "      <td>...</td>\n",
              "      <td>...</td>\n",
              "      <td>...</td>\n",
              "      <td>...</td>\n",
              "      <td>...</td>\n",
              "    </tr>\n",
              "    <tr>\n",
              "      <th>YPR198W</th>\n",
              "      <td>0.168123</td>\n",
              "      <td>0.044548</td>\n",
              "      <td>-0.125041</td>\n",
              "      <td>0.476652</td>\n",
              "      <td>0.412873</td>\n",
              "      <td>-0.178282</td>\n",
              "      <td>-0.183100</td>\n",
              "      <td>-0.555434</td>\n",
              "      <td>0.495274</td>\n",
              "      <td>-0.484508</td>\n",
              "      <td>...</td>\n",
              "      <td>0.188193</td>\n",
              "      <td>0.152173</td>\n",
              "      <td>-0.006212</td>\n",
              "      <td>0.276329</td>\n",
              "      <td>0.410535</td>\n",
              "      <td>1.000000</td>\n",
              "      <td>-0.075908</td>\n",
              "      <td>0.362027</td>\n",
              "      <td>0.008827</td>\n",
              "      <td>0.038284</td>\n",
              "    </tr>\n",
              "    <tr>\n",
              "      <th>YPR199C</th>\n",
              "      <td>-0.052156</td>\n",
              "      <td>0.360118</td>\n",
              "      <td>0.699442</td>\n",
              "      <td>-0.193317</td>\n",
              "      <td>-0.610840</td>\n",
              "      <td>0.491005</td>\n",
              "      <td>0.000694</td>\n",
              "      <td>0.272372</td>\n",
              "      <td>-0.378048</td>\n",
              "      <td>0.410927</td>\n",
              "      <td>...</td>\n",
              "      <td>0.097892</td>\n",
              "      <td>-0.550627</td>\n",
              "      <td>-0.457946</td>\n",
              "      <td>-0.585360</td>\n",
              "      <td>0.605935</td>\n",
              "      <td>-0.075908</td>\n",
              "      <td>1.000000</td>\n",
              "      <td>-0.401752</td>\n",
              "      <td>0.503918</td>\n",
              "      <td>0.254807</td>\n",
              "    </tr>\n",
              "    <tr>\n",
              "      <th>YPR201W</th>\n",
              "      <td>0.182715</td>\n",
              "      <td>-0.343055</td>\n",
              "      <td>-0.600387</td>\n",
              "      <td>0.687831</td>\n",
              "      <td>0.481838</td>\n",
              "      <td>-0.539781</td>\n",
              "      <td>0.007575</td>\n",
              "      <td>-0.682820</td>\n",
              "      <td>0.278595</td>\n",
              "      <td>-0.367953</td>\n",
              "      <td>...</td>\n",
              "      <td>0.451935</td>\n",
              "      <td>0.231238</td>\n",
              "      <td>0.360820</td>\n",
              "      <td>0.611266</td>\n",
              "      <td>0.081164</td>\n",
              "      <td>0.362027</td>\n",
              "      <td>-0.401752</td>\n",
              "      <td>1.000000</td>\n",
              "      <td>-0.574993</td>\n",
              "      <td>-0.644032</td>\n",
              "    </tr>\n",
              "    <tr>\n",
              "      <th>YPR203W</th>\n",
              "      <td>0.001390</td>\n",
              "      <td>0.628362</td>\n",
              "      <td>0.656411</td>\n",
              "      <td>-0.367226</td>\n",
              "      <td>-0.222885</td>\n",
              "      <td>0.287260</td>\n",
              "      <td>0.055174</td>\n",
              "      <td>0.406487</td>\n",
              "      <td>0.164875</td>\n",
              "      <td>0.067884</td>\n",
              "      <td>...</td>\n",
              "      <td>-0.219037</td>\n",
              "      <td>-0.289080</td>\n",
              "      <td>-0.344014</td>\n",
              "      <td>-0.587164</td>\n",
              "      <td>0.404911</td>\n",
              "      <td>0.008827</td>\n",
              "      <td>0.503918</td>\n",
              "      <td>-0.574993</td>\n",
              "      <td>1.000000</td>\n",
              "      <td>0.850238</td>\n",
              "    </tr>\n",
              "    <tr>\n",
              "      <th>YPR204W</th>\n",
              "      <td>-0.032425</td>\n",
              "      <td>0.675182</td>\n",
              "      <td>0.559538</td>\n",
              "      <td>-0.460502</td>\n",
              "      <td>-0.056557</td>\n",
              "      <td>0.264466</td>\n",
              "      <td>0.080531</td>\n",
              "      <td>0.526400</td>\n",
              "      <td>0.187387</td>\n",
              "      <td>0.161296</td>\n",
              "      <td>...</td>\n",
              "      <td>-0.467575</td>\n",
              "      <td>-0.167714</td>\n",
              "      <td>-0.286317</td>\n",
              "      <td>-0.526637</td>\n",
              "      <td>0.042384</td>\n",
              "      <td>0.038284</td>\n",
              "      <td>0.254807</td>\n",
              "      <td>-0.644032</td>\n",
              "      <td>0.850238</td>\n",
              "      <td>1.000000</td>\n",
              "    </tr>\n",
              "  </tbody>\n",
              "</table>\n",
              "<p>4381 rows × 4381 columns</p>\n",
              "</div>"
            ],
            "text/plain": [
              "time      YAL001C   YAL014C   YAL016W   YAL020C   YAL022C   YAL036C   YAL038W  \\\n",
              "time                                                                            \n",
              "YAL001C  1.000000 -0.164246 -0.151521  0.568226  0.097912 -0.665933  0.093620   \n",
              "YAL014C -0.164246  1.000000  0.686653 -0.402450 -0.178814  0.227677  0.077549   \n",
              "YAL016W -0.151521  0.686653  1.000000 -0.564937 -0.605068  0.388291  0.116258   \n",
              "YAL020C  0.568226 -0.402450 -0.564937  1.000000  0.547778 -0.602305  0.113412   \n",
              "YAL022C  0.097912 -0.178814 -0.605068  0.547778  1.000000 -0.467413  0.183740   \n",
              "...           ...       ...       ...       ...       ...       ...       ...   \n",
              "YPR198W  0.168123  0.044548 -0.125041  0.476652  0.412873 -0.178282 -0.183100   \n",
              "YPR199C -0.052156  0.360118  0.699442 -0.193317 -0.610840  0.491005  0.000694   \n",
              "YPR201W  0.182715 -0.343055 -0.600387  0.687831  0.481838 -0.539781  0.007575   \n",
              "YPR203W  0.001390  0.628362  0.656411 -0.367226 -0.222885  0.287260  0.055174   \n",
              "YPR204W -0.032425  0.675182  0.559538 -0.460502 -0.056557  0.264466  0.080531   \n",
              "\n",
              "time      YAL039C   YAL040C   YAL044C  ...   YPR189W   YPR191W   YPR193C  \\\n",
              "time                                   ...                                 \n",
              "YAL001C -0.164798  0.008567 -0.155630  ...  0.377932  0.475456  0.472710   \n",
              "YAL014C  0.284315  0.066540  0.372808  ... -0.310122 -0.482233 -0.389686   \n",
              "YAL016W  0.346707 -0.144496  0.398531  ... -0.329883 -0.687691 -0.621334   \n",
              "YAL020C -0.495031  0.277407 -0.368064  ...  0.676002  0.617127  0.484810   \n",
              "YAL022C -0.140546  0.657255 -0.323415  ...  0.107663  0.607786  0.416991   \n",
              "...           ...       ...       ...  ...       ...       ...       ...   \n",
              "YPR198W -0.555434  0.495274 -0.484508  ...  0.188193  0.152173 -0.006212   \n",
              "YPR199C  0.272372 -0.378048  0.410927  ...  0.097892 -0.550627 -0.457946   \n",
              "YPR201W -0.682820  0.278595 -0.367953  ...  0.451935  0.231238  0.360820   \n",
              "YPR203W  0.406487  0.164875  0.067884  ... -0.219037 -0.289080 -0.344014   \n",
              "YPR204W  0.526400  0.187387  0.161296  ... -0.467575 -0.167714 -0.286317   \n",
              "\n",
              "time      YPR194C   YPR197C   YPR198W   YPR199C   YPR201W   YPR203W   YPR204W  \n",
              "time                                                                           \n",
              "YAL001C  0.580868 -0.098760  0.168123 -0.052156  0.182715  0.001390 -0.032425  \n",
              "YAL014C -0.527033  0.193419  0.044548  0.360118 -0.343055  0.628362  0.675182  \n",
              "YAL016W -0.691520  0.299667 -0.125041  0.699442 -0.600387  0.656411  0.559538  \n",
              "YAL020C  0.738958  0.227065  0.476652 -0.193317  0.687831 -0.367226 -0.460502  \n",
              "YAL022C  0.479131 -0.128097  0.412873 -0.610840  0.481838 -0.222885 -0.056557  \n",
              "...           ...       ...       ...       ...       ...       ...       ...  \n",
              "YPR198W  0.276329  0.410535  1.000000 -0.075908  0.362027  0.008827  0.038284  \n",
              "YPR199C -0.585360  0.605935 -0.075908  1.000000 -0.401752  0.503918  0.254807  \n",
              "YPR201W  0.611266  0.081164  0.362027 -0.401752  1.000000 -0.574993 -0.644032  \n",
              "YPR203W -0.587164  0.404911  0.008827  0.503918 -0.574993  1.000000  0.850238  \n",
              "YPR204W -0.526637  0.042384  0.038284  0.254807 -0.644032  0.850238  1.000000  \n",
              "\n",
              "[4381 rows x 4381 columns]"
            ]
          },
          "execution_count": 75,
          "metadata": {},
          "output_type": "execute_result"
        }
      ],
      "source": [
        "df_T.corr()"
      ]
    },
    {
      "cell_type": "code",
      "execution_count": 76,
      "metadata": {
        "colab": {
          "base_uri": "https://localhost:8080/",
          "height": 626
        },
        "id": "ejv3glaXXNz8",
        "outputId": "37f8b3a5-71f2-4f33-d9dd-82f8326767d3"
      },
      "outputs": [
        {
          "data": {
            "text/plain": [
              "<Axes: xlabel='time', ylabel='time'>"
            ]
          },
          "execution_count": 76,
          "metadata": {},
          "output_type": "execute_result"
        },
        {
          "data": {
            "image/png": "[encoded data removed]",
            "text/plain": [
              "<Figure size 800x600 with 2 Axes>"
            ]
          },
          "metadata": {},
          "output_type": "display_data"
        }
      ],
      "source": [
        "import seaborn as sns\n",
        "import matplotlib.pyplot as plt\n",
        "plt.figure(figsize=(8,6))\n",
        "sns.heatmap(df_T[['YAL001C','YAL022C','YAL016W','YAL020C','YAL014C']].corr().round(3))"
      ]
    },
    {
      "cell_type": "markdown",
      "metadata": {
        "id": "R07lIo1mYdG6"
      },
      "source": [
        "## Comparação SQL X Pandas ###"
      ]
    },
    {
      "cell_type": "code",
      "execution_count": 77,
      "metadata": {
        "id": "hZBb42wbYcw3"
      },
      "outputs": [],
      "source": [
        "import sqlite3 as sql"
      ]
    },
    {
      "cell_type": "code",
      "execution_count": 78,
      "metadata": {
        "id": "wKuEV2DXYlwA"
      },
      "outputs": [],
      "source": [
        "engine = sql.connect('')\n",
        "cursor= engine.cursor()"
      ]
    },
    {
      "cell_type": "code",
      "execution_count": 79,
      "metadata": {
        "id": "ZLRXcLIjYprB"
      },
      "outputs": [],
      "source": [
        "url = \"https://raw.github.com/pandas-dev/pandas/master/pandas/tests/io/data/csv/tips.csv\"\n",
        "tips= pd.read_csv(url)"
      ]
    },
    {
      "cell_type": "code",
      "execution_count": 80,
      "metadata": {
        "id": "1QiO-_vlYtxH"
      },
      "outputs": [
        {
          "data": {
            "text/plain": [
              "244"
            ]
          },
          "execution_count": 80,
          "metadata": {},
          "output_type": "execute_result"
        }
      ],
      "source": [
        "tips.to_sql('tipsDBSQL', con=engine)"
      ]
    },
    {
      "cell_type": "code",
      "execution_count": 81,
      "metadata": {
        "colab": {
          "base_uri": "https://localhost:8080/"
        },
        "id": "Y3_jGa39Y0Jt",
        "outputId": "81283274-f476-42a3-d350-d33f96f153f6"
      },
      "outputs": [
        {
          "data": {
            "text/plain": [
              "[(0, 16.99, 1.01, 'Female', 'No', 'Sun', 'Dinner', 2),\n",
              " (1, 10.34, 1.66, 'Male', 'No', 'Sun', 'Dinner', 3),\n",
              " (2, 21.01, 3.5, 'Male', 'No', 'Sun', 'Dinner', 3),\n",
              " (3, 23.68, 3.31, 'Male', 'No', 'Sun', 'Dinner', 2),\n",
              " (4, 24.59, 3.61, 'Female', 'No', 'Sun', 'Dinner', 4)]"
            ]
          },
          "execution_count": 81,
          "metadata": {},
          "output_type": "execute_result"
        }
      ],
      "source": [
        "### SQL - PANDAS - HEAD() ###\n",
        "sql_select = 'SELECT * FROM tipsDBSQL LIMIT 5'\n",
        "cursor.execute(sql_select).fetchall()"
      ]
    },
    {
      "cell_type": "code",
      "execution_count": 82,
      "metadata": {
        "colab": {
          "base_uri": "https://localhost:8080/",
          "height": 206
        },
        "id": "bw-arnKXwQ19",
        "outputId": "f37b24ba-9564-4ec3-ba0b-598d13950a76"
      },
      "outputs": [
        {
          "data": {
            "text/html": [
              "<div>\n",
              "<style scoped>\n",
              "    .dataframe tbody tr th:only-of-type {\n",
              "        vertical-align: middle;\n",
              "    }\n",
              "\n",
              "    .dataframe tbody tr th {\n",
              "        vertical-align: top;\n",
              "    }\n",
              "\n",
              "    .dataframe thead th {\n",
              "        text-align: right;\n",
              "    }\n",
              "</style>\n",
              "<table border=\"1\" class=\"dataframe\">\n",
              "  <thead>\n",
              "    <tr style=\"text-align: right;\">\n",
              "      <th></th>\n",
              "      <th>total_bill</th>\n",
              "      <th>tip</th>\n",
              "      <th>sex</th>\n",
              "      <th>smoker</th>\n",
              "      <th>day</th>\n",
              "      <th>time</th>\n",
              "      <th>size</th>\n",
              "    </tr>\n",
              "  </thead>\n",
              "  <tbody>\n",
              "    <tr>\n",
              "      <th>0</th>\n",
              "      <td>16.99</td>\n",
              "      <td>1.01</td>\n",
              "      <td>Female</td>\n",
              "      <td>No</td>\n",
              "      <td>Sun</td>\n",
              "      <td>Dinner</td>\n",
              "      <td>2</td>\n",
              "    </tr>\n",
              "    <tr>\n",
              "      <th>1</th>\n",
              "      <td>10.34</td>\n",
              "      <td>1.66</td>\n",
              "      <td>Male</td>\n",
              "      <td>No</td>\n",
              "      <td>Sun</td>\n",
              "      <td>Dinner</td>\n",
              "      <td>3</td>\n",
              "    </tr>\n",
              "    <tr>\n",
              "      <th>2</th>\n",
              "      <td>21.01</td>\n",
              "      <td>3.50</td>\n",
              "      <td>Male</td>\n",
              "      <td>No</td>\n",
              "      <td>Sun</td>\n",
              "      <td>Dinner</td>\n",
              "      <td>3</td>\n",
              "    </tr>\n",
              "    <tr>\n",
              "      <th>3</th>\n",
              "      <td>23.68</td>\n",
              "      <td>3.31</td>\n",
              "      <td>Male</td>\n",
              "      <td>No</td>\n",
              "      <td>Sun</td>\n",
              "      <td>Dinner</td>\n",
              "      <td>2</td>\n",
              "    </tr>\n",
              "    <tr>\n",
              "      <th>4</th>\n",
              "      <td>24.59</td>\n",
              "      <td>3.61</td>\n",
              "      <td>Female</td>\n",
              "      <td>No</td>\n",
              "      <td>Sun</td>\n",
              "      <td>Dinner</td>\n",
              "      <td>4</td>\n",
              "    </tr>\n",
              "  </tbody>\n",
              "</table>\n",
              "</div>"
            ],
            "text/plain": [
              "   total_bill   tip     sex smoker  day    time  size\n",
              "0       16.99  1.01  Female     No  Sun  Dinner     2\n",
              "1       10.34  1.66    Male     No  Sun  Dinner     3\n",
              "2       21.01  3.50    Male     No  Sun  Dinner     3\n",
              "3       23.68  3.31    Male     No  Sun  Dinner     2\n",
              "4       24.59  3.61  Female     No  Sun  Dinner     4"
            ]
          },
          "execution_count": 82,
          "metadata": {},
          "output_type": "execute_result"
        }
      ],
      "source": [
        "tips.head()"
      ]
    },
    {
      "cell_type": "code",
      "execution_count": 83,
      "metadata": {
        "colab": {
          "base_uri": "https://localhost:8080/"
        },
        "id": "sdueaY21ZID_",
        "outputId": "cccdac40-5291-4b0a-cda6-e5da0dcfe935"
      },
      "outputs": [
        {
          "data": {
            "text/plain": [
              "[(0, 'index', 'INTEGER', 0, None, 0),\n",
              " (1, 'total_bill', 'REAL', 0, None, 0),\n",
              " (2, 'tip', 'REAL', 0, None, 0),\n",
              " (3, 'sex', 'TEXT', 0, None, 0),\n",
              " (4, 'smoker', 'TEXT', 0, None, 0),\n",
              " (5, 'day', 'TEXT', 0, None, 0),\n",
              " (6, 'time', 'TEXT', 0, None, 0),\n",
              " (7, 'size', 'INTEGER', 0, None, 0)]"
            ]
          },
          "execution_count": 83,
          "metadata": {},
          "output_type": "execute_result"
        }
      ],
      "source": [
        "### SQL x PANDAS - INFO TABLE ####\n",
        "sql_infoTable = 'PRAGMA table_info(tipsDBSQL)'\n",
        "cursor.execute(sql_infoTable).fetchall()"
      ]
    },
    {
      "cell_type": "code",
      "execution_count": 84,
      "metadata": {
        "colab": {
          "base_uri": "https://localhost:8080/"
        },
        "id": "oTYoRbwWZRGd",
        "outputId": "063a9998-574d-4dd1-9c85-91928c8db137"
      },
      "outputs": [
        {
          "name": "stdout",
          "output_type": "stream",
          "text": [
            "<class 'pandas.core.frame.DataFrame'>\n",
            "RangeIndex: 244 entries, 0 to 243\n",
            "Data columns (total 7 columns):\n",
            " #   Column      Non-Null Count  Dtype  \n",
            "---  ------      --------------  -----  \n",
            " 0   total_bill  244 non-null    float64\n",
            " 1   tip         244 non-null    float64\n",
            " 2   sex         244 non-null    object \n",
            " 3   smoker      244 non-null    object \n",
            " 4   day         244 non-null    object \n",
            " 5   time        244 non-null    object \n",
            " 6   size        244 non-null    int64  \n",
            "dtypes: float64(2), int64(1), object(4)\n",
            "memory usage: 13.5+ KB\n"
          ]
        }
      ],
      "source": [
        "tips.info()"
      ]
    },
    {
      "cell_type": "code",
      "execution_count": 85,
      "metadata": {
        "colab": {
          "base_uri": "https://localhost:8080/"
        },
        "id": "ln8MZEFYw-32",
        "outputId": "79051a6e-04c1-42df-c6ce-0ba4fd216e94"
      },
      "outputs": [
        {
          "data": {
            "text/plain": [
              "0      <class 'str'>\n",
              "1      <class 'str'>\n",
              "2      <class 'str'>\n",
              "3      <class 'str'>\n",
              "4      <class 'str'>\n",
              "           ...      \n",
              "239    <class 'str'>\n",
              "240    <class 'str'>\n",
              "241    <class 'str'>\n",
              "242    <class 'str'>\n",
              "243    <class 'str'>\n",
              "Name: sex, Length: 244, dtype: object"
            ]
          },
          "execution_count": 85,
          "metadata": {},
          "output_type": "execute_result"
        }
      ],
      "source": [
        "tips.sex.map(type)"
      ]
    },
    {
      "cell_type": "code",
      "execution_count": 86,
      "metadata": {
        "colab": {
          "base_uri": "https://localhost:8080/"
        },
        "id": "CC1ulnPSZo82",
        "outputId": "6ca7a6ff-43b3-453a-a67c-a8a0582dbfca"
      },
      "outputs": [
        {
          "data": {
            "text/plain": [
              "[(16.99, 1.01, 'No'),\n",
              " (10.34, 1.66, 'No'),\n",
              " (21.01, 3.5, 'No'),\n",
              " (23.68, 3.31, 'No'),\n",
              " (24.59, 3.61, 'No')]"
            ]
          },
          "execution_count": 86,
          "metadata": {},
          "output_type": "execute_result"
        }
      ],
      "source": [
        "### SQL x PANDAS - FILTRAR POR COLUNAS\n",
        "sql_filterSelect = 'SELECT total_bill,tip,smoker FROM tipsDBSQL LIMIT 5'\n",
        "cursor.execute(sql_filterSelect).fetchall()"
      ]
    },
    {
      "cell_type": "code",
      "execution_count": 87,
      "metadata": {
        "colab": {
          "base_uri": "https://localhost:8080/",
          "height": 206
        },
        "id": "X71mCDNiZ1Tc",
        "outputId": "bd260674-20eb-4313-e5a8-87c457ca5606"
      },
      "outputs": [
        {
          "data": {
            "text/html": [
              "<div>\n",
              "<style scoped>\n",
              "    .dataframe tbody tr th:only-of-type {\n",
              "        vertical-align: middle;\n",
              "    }\n",
              "\n",
              "    .dataframe tbody tr th {\n",
              "        vertical-align: top;\n",
              "    }\n",
              "\n",
              "    .dataframe thead th {\n",
              "        text-align: right;\n",
              "    }\n",
              "</style>\n",
              "<table border=\"1\" class=\"dataframe\">\n",
              "  <thead>\n",
              "    <tr style=\"text-align: right;\">\n",
              "      <th></th>\n",
              "      <th>total_bill</th>\n",
              "      <th>tip</th>\n",
              "      <th>sex</th>\n",
              "    </tr>\n",
              "  </thead>\n",
              "  <tbody>\n",
              "    <tr>\n",
              "      <th>0</th>\n",
              "      <td>16.99</td>\n",
              "      <td>1.01</td>\n",
              "      <td>Female</td>\n",
              "    </tr>\n",
              "    <tr>\n",
              "      <th>1</th>\n",
              "      <td>10.34</td>\n",
              "      <td>1.66</td>\n",
              "      <td>Male</td>\n",
              "    </tr>\n",
              "    <tr>\n",
              "      <th>2</th>\n",
              "      <td>21.01</td>\n",
              "      <td>3.50</td>\n",
              "      <td>Male</td>\n",
              "    </tr>\n",
              "    <tr>\n",
              "      <th>3</th>\n",
              "      <td>23.68</td>\n",
              "      <td>3.31</td>\n",
              "      <td>Male</td>\n",
              "    </tr>\n",
              "    <tr>\n",
              "      <th>4</th>\n",
              "      <td>24.59</td>\n",
              "      <td>3.61</td>\n",
              "      <td>Female</td>\n",
              "    </tr>\n",
              "  </tbody>\n",
              "</table>\n",
              "</div>"
            ],
            "text/plain": [
              "   total_bill   tip     sex\n",
              "0       16.99  1.01  Female\n",
              "1       10.34  1.66    Male\n",
              "2       21.01  3.50    Male\n",
              "3       23.68  3.31    Male\n",
              "4       24.59  3.61  Female"
            ]
          },
          "execution_count": 87,
          "metadata": {},
          "output_type": "execute_result"
        }
      ],
      "source": [
        "# Sintaxe para acesso às colunas do DATAFRAME\n",
        "# tips[\"nome_da_coluna\"]\n",
        "#tips.nome_da_coluna\n",
        "\n",
        "# tips.total_bill\n",
        "\n",
        "# várias colunas\n",
        "## tips[[list de colunas]]\n",
        "tips[['total_bill','tip','sex']].head()\n"
      ]
    },
    {
      "cell_type": "code",
      "execution_count": 88,
      "metadata": {
        "colab": {
          "base_uri": "https://localhost:8080/"
        },
        "id": "UVz05mJoaJgG",
        "outputId": "624f514f-6cbf-4372-bd32-a399803331e7"
      },
      "outputs": [
        {
          "name": "stdout",
          "output_type": "stream",
          "text": [
            "['index', 'total_bill', 'tip', 'sex', 'smoker', 'day', 'time', 'size', 'tip_rate']\n",
            "(0, 16.99, 1.01, 'Female', 'No', 'Sun', 'Dinner', 2, 0.05944673337257211)\n",
            "(1, 10.34, 1.66, 'Male', 'No', 'Sun', 'Dinner', 3, 0.16054158607350097)\n",
            "(2, 21.01, 3.5, 'Male', 'No', 'Sun', 'Dinner', 3, 0.16658733936220846)\n",
            "(3, 23.68, 3.31, 'Male', 'No', 'Sun', 'Dinner', 2, 0.1397804054054054)\n",
            "(4, 24.59, 3.61, 'Female', 'No', 'Sun', 'Dinner', 4, 0.14680764538430255)\n"
          ]
        }
      ],
      "source": [
        "### SQL X PANDAS - ASSIGN\n",
        "sql_assign = 'SELECT *,tip/total_bill as tip_rate FROM tipsDBSQL LIMIT 5'\n",
        "cursor.execute(sql_assign)\n",
        "\n",
        "cl=[]\n",
        "for x in cursor.description:\n",
        "    cl.append(x[0])\n",
        "\n",
        "print(cl)\n",
        "for row in cursor.fetchall():\n",
        "    print(row)"
      ]
    },
    {
      "cell_type": "code",
      "execution_count": 89,
      "metadata": {
        "colab": {
          "base_uri": "https://localhost:8080/",
          "height": 206
        },
        "id": "sU7A5w7oaO-D",
        "outputId": "fc59df50-632a-46e1-8ba6-44ba9326ccfb"
      },
      "outputs": [
        {
          "data": {
            "text/html": [
              "<div>\n",
              "<style scoped>\n",
              "    .dataframe tbody tr th:only-of-type {\n",
              "        vertical-align: middle;\n",
              "    }\n",
              "\n",
              "    .dataframe tbody tr th {\n",
              "        vertical-align: top;\n",
              "    }\n",
              "\n",
              "    .dataframe thead th {\n",
              "        text-align: right;\n",
              "    }\n",
              "</style>\n",
              "<table border=\"1\" class=\"dataframe\">\n",
              "  <thead>\n",
              "    <tr style=\"text-align: right;\">\n",
              "      <th></th>\n",
              "      <th>total_bill</th>\n",
              "      <th>tip</th>\n",
              "      <th>sex</th>\n",
              "      <th>smoker</th>\n",
              "      <th>day</th>\n",
              "      <th>time</th>\n",
              "      <th>size</th>\n",
              "      <th>tip_rate</th>\n",
              "    </tr>\n",
              "  </thead>\n",
              "  <tbody>\n",
              "    <tr>\n",
              "      <th>0</th>\n",
              "      <td>16.99</td>\n",
              "      <td>1.01</td>\n",
              "      <td>Female</td>\n",
              "      <td>No</td>\n",
              "      <td>Sun</td>\n",
              "      <td>Dinner</td>\n",
              "      <td>2</td>\n",
              "      <td>0.059447</td>\n",
              "    </tr>\n",
              "    <tr>\n",
              "      <th>1</th>\n",
              "      <td>10.34</td>\n",
              "      <td>1.66</td>\n",
              "      <td>Male</td>\n",
              "      <td>No</td>\n",
              "      <td>Sun</td>\n",
              "      <td>Dinner</td>\n",
              "      <td>3</td>\n",
              "      <td>0.160542</td>\n",
              "    </tr>\n",
              "    <tr>\n",
              "      <th>2</th>\n",
              "      <td>21.01</td>\n",
              "      <td>3.50</td>\n",
              "      <td>Male</td>\n",
              "      <td>No</td>\n",
              "      <td>Sun</td>\n",
              "      <td>Dinner</td>\n",
              "      <td>3</td>\n",
              "      <td>0.166587</td>\n",
              "    </tr>\n",
              "    <tr>\n",
              "      <th>3</th>\n",
              "      <td>23.68</td>\n",
              "      <td>3.31</td>\n",
              "      <td>Male</td>\n",
              "      <td>No</td>\n",
              "      <td>Sun</td>\n",
              "      <td>Dinner</td>\n",
              "      <td>2</td>\n",
              "      <td>0.139780</td>\n",
              "    </tr>\n",
              "    <tr>\n",
              "      <th>4</th>\n",
              "      <td>24.59</td>\n",
              "      <td>3.61</td>\n",
              "      <td>Female</td>\n",
              "      <td>No</td>\n",
              "      <td>Sun</td>\n",
              "      <td>Dinner</td>\n",
              "      <td>4</td>\n",
              "      <td>0.146808</td>\n",
              "    </tr>\n",
              "  </tbody>\n",
              "</table>\n",
              "</div>"
            ],
            "text/plain": [
              "   total_bill   tip     sex smoker  day    time  size  tip_rate\n",
              "0       16.99  1.01  Female     No  Sun  Dinner     2  0.059447\n",
              "1       10.34  1.66    Male     No  Sun  Dinner     3  0.160542\n",
              "2       21.01  3.50    Male     No  Sun  Dinner     3  0.166587\n",
              "3       23.68  3.31    Male     No  Sun  Dinner     2  0.139780\n",
              "4       24.59  3.61  Female     No  Sun  Dinner     4  0.146808"
            ]
          },
          "execution_count": 89,
          "metadata": {},
          "output_type": "execute_result"
        }
      ],
      "source": [
        "### ASSIGN - DATAFRAME #####\n",
        "tips.assign(tip_rate=tips['tip']/tips['total_bill']).head()"
      ]
    },
    {
      "cell_type": "code",
      "execution_count": 90,
      "metadata": {
        "colab": {
          "base_uri": "https://localhost:8080/"
        },
        "id": "EYP7jg5RaXlz",
        "outputId": "3867449d-0825-4bfe-f536-3599df20c314"
      },
      "outputs": [
        {
          "data": {
            "text/plain": [
              "[(0, 16.99, 1.01, 'Female', 'No', 'Sun', 'Dinner', 2),\n",
              " (1, 10.34, 1.66, 'Male', 'No', 'Sun', 'Dinner', 3),\n",
              " (2, 21.01, 3.5, 'Male', 'No', 'Sun', 'Dinner', 3),\n",
              " (3, 23.68, 3.31, 'Male', 'No', 'Sun', 'Dinner', 2),\n",
              " (4, 24.59, 3.61, 'Female', 'No', 'Sun', 'Dinner', 4)]"
            ]
          },
          "execution_count": 90,
          "metadata": {},
          "output_type": "execute_result"
        }
      ],
      "source": [
        "### SQL X PANDAS  -  WHERE  ####\n",
        "sql_where = 'SELECT * FROM tipsDBSQL WHERE time=\"Dinner\" LIMIT 5'\n",
        "cursor.execute(sql_where).fetchall()"
      ]
    },
    {
      "cell_type": "code",
      "execution_count": 91,
      "metadata": {
        "colab": {
          "base_uri": "https://localhost:8080/",
          "height": 206
        },
        "id": "bO1JncbAahYv",
        "outputId": "a135e801-4636-4b33-8d62-e3ffbda56ffd"
      },
      "outputs": [
        {
          "data": {
            "text/html": [
              "<div>\n",
              "<style scoped>\n",
              "    .dataframe tbody tr th:only-of-type {\n",
              "        vertical-align: middle;\n",
              "    }\n",
              "\n",
              "    .dataframe tbody tr th {\n",
              "        vertical-align: top;\n",
              "    }\n",
              "\n",
              "    .dataframe thead th {\n",
              "        text-align: right;\n",
              "    }\n",
              "</style>\n",
              "<table border=\"1\" class=\"dataframe\">\n",
              "  <thead>\n",
              "    <tr style=\"text-align: right;\">\n",
              "      <th></th>\n",
              "      <th>total_bill</th>\n",
              "      <th>tip</th>\n",
              "      <th>sex</th>\n",
              "      <th>smoker</th>\n",
              "      <th>day</th>\n",
              "      <th>time</th>\n",
              "      <th>size</th>\n",
              "    </tr>\n",
              "  </thead>\n",
              "  <tbody>\n",
              "    <tr>\n",
              "      <th>0</th>\n",
              "      <td>16.99</td>\n",
              "      <td>1.01</td>\n",
              "      <td>Female</td>\n",
              "      <td>No</td>\n",
              "      <td>Sun</td>\n",
              "      <td>Dinner</td>\n",
              "      <td>2</td>\n",
              "    </tr>\n",
              "    <tr>\n",
              "      <th>1</th>\n",
              "      <td>10.34</td>\n",
              "      <td>1.66</td>\n",
              "      <td>Male</td>\n",
              "      <td>No</td>\n",
              "      <td>Sun</td>\n",
              "      <td>Dinner</td>\n",
              "      <td>3</td>\n",
              "    </tr>\n",
              "    <tr>\n",
              "      <th>2</th>\n",
              "      <td>21.01</td>\n",
              "      <td>3.50</td>\n",
              "      <td>Male</td>\n",
              "      <td>No</td>\n",
              "      <td>Sun</td>\n",
              "      <td>Dinner</td>\n",
              "      <td>3</td>\n",
              "    </tr>\n",
              "    <tr>\n",
              "      <th>3</th>\n",
              "      <td>23.68</td>\n",
              "      <td>3.31</td>\n",
              "      <td>Male</td>\n",
              "      <td>No</td>\n",
              "      <td>Sun</td>\n",
              "      <td>Dinner</td>\n",
              "      <td>2</td>\n",
              "    </tr>\n",
              "    <tr>\n",
              "      <th>4</th>\n",
              "      <td>24.59</td>\n",
              "      <td>3.61</td>\n",
              "      <td>Female</td>\n",
              "      <td>No</td>\n",
              "      <td>Sun</td>\n",
              "      <td>Dinner</td>\n",
              "      <td>4</td>\n",
              "    </tr>\n",
              "  </tbody>\n",
              "</table>\n",
              "</div>"
            ],
            "text/plain": [
              "   total_bill   tip     sex smoker  day    time  size\n",
              "0       16.99  1.01  Female     No  Sun  Dinner     2\n",
              "1       10.34  1.66    Male     No  Sun  Dinner     3\n",
              "2       21.01  3.50    Male     No  Sun  Dinner     3\n",
              "3       23.68  3.31    Male     No  Sun  Dinner     2\n",
              "4       24.59  3.61  Female     No  Sun  Dinner     4"
            ]
          },
          "execution_count": 91,
          "metadata": {},
          "output_type": "execute_result"
        }
      ],
      "source": [
        "tips[tips[\"time\"]=='Dinner'].head()"
      ]
    },
    {
      "cell_type": "code",
      "execution_count": 92,
      "metadata": {
        "colab": {
          "base_uri": "https://localhost:8080/"
        },
        "id": "rQbV3IWTarRc",
        "outputId": "b8b9a7e4-f86d-4492-80aa-fd0967e672b6"
      },
      "outputs": [
        {
          "data": {
            "text/plain": [
              "[(2, 21.01, 3.5, 'Male', 'No', 'Sun', 'Dinner', 3),\n",
              " (3, 23.68, 3.31, 'Male', 'No', 'Sun', 'Dinner', 2),\n",
              " (4, 24.59, 3.61, 'Female', 'No', 'Sun', 'Dinner', 4),\n",
              " (7, 26.88, 3.12, 'Male', 'No', 'Sun', 'Dinner', 4),\n",
              " (9, 14.78, 3.23, 'Male', 'No', 'Sun', 'Dinner', 2)]"
            ]
          },
          "execution_count": 92,
          "metadata": {},
          "output_type": "execute_result"
        }
      ],
      "source": [
        "sql_where = 'SELECT * FROM tipsDBSQL WHERE time=\"Dinner\" AND tip > 3.00 AND tip < 4.00\\\n",
        "             AND(day=\"Sat\" OR day=\"Sun\") LIMIT 5'\n",
        "cursor.execute(sql_where).fetchall()"
      ]
    },
    {
      "cell_type": "code",
      "execution_count": 93,
      "metadata": {
        "colab": {
          "base_uri": "https://localhost:8080/",
          "height": 206
        },
        "id": "vCQHluRKaxcN",
        "outputId": "0a2b34ce-118f-4a49-ac1a-7d0acd9fabf3"
      },
      "outputs": [
        {
          "data": {
            "text/html": [
              "<div>\n",
              "<style scoped>\n",
              "    .dataframe tbody tr th:only-of-type {\n",
              "        vertical-align: middle;\n",
              "    }\n",
              "\n",
              "    .dataframe tbody tr th {\n",
              "        vertical-align: top;\n",
              "    }\n",
              "\n",
              "    .dataframe thead th {\n",
              "        text-align: right;\n",
              "    }\n",
              "</style>\n",
              "<table border=\"1\" class=\"dataframe\">\n",
              "  <thead>\n",
              "    <tr style=\"text-align: right;\">\n",
              "      <th></th>\n",
              "      <th>total_bill</th>\n",
              "      <th>tip</th>\n",
              "      <th>sex</th>\n",
              "      <th>smoker</th>\n",
              "      <th>day</th>\n",
              "      <th>time</th>\n",
              "      <th>size</th>\n",
              "    </tr>\n",
              "  </thead>\n",
              "  <tbody>\n",
              "    <tr>\n",
              "      <th>2</th>\n",
              "      <td>21.01</td>\n",
              "      <td>3.50</td>\n",
              "      <td>Male</td>\n",
              "      <td>No</td>\n",
              "      <td>Sun</td>\n",
              "      <td>Dinner</td>\n",
              "      <td>3</td>\n",
              "    </tr>\n",
              "    <tr>\n",
              "      <th>3</th>\n",
              "      <td>23.68</td>\n",
              "      <td>3.31</td>\n",
              "      <td>Male</td>\n",
              "      <td>No</td>\n",
              "      <td>Sun</td>\n",
              "      <td>Dinner</td>\n",
              "      <td>2</td>\n",
              "    </tr>\n",
              "    <tr>\n",
              "      <th>4</th>\n",
              "      <td>24.59</td>\n",
              "      <td>3.61</td>\n",
              "      <td>Female</td>\n",
              "      <td>No</td>\n",
              "      <td>Sun</td>\n",
              "      <td>Dinner</td>\n",
              "      <td>4</td>\n",
              "    </tr>\n",
              "    <tr>\n",
              "      <th>7</th>\n",
              "      <td>26.88</td>\n",
              "      <td>3.12</td>\n",
              "      <td>Male</td>\n",
              "      <td>No</td>\n",
              "      <td>Sun</td>\n",
              "      <td>Dinner</td>\n",
              "      <td>4</td>\n",
              "    </tr>\n",
              "    <tr>\n",
              "      <th>9</th>\n",
              "      <td>14.78</td>\n",
              "      <td>3.23</td>\n",
              "      <td>Male</td>\n",
              "      <td>No</td>\n",
              "      <td>Sun</td>\n",
              "      <td>Dinner</td>\n",
              "      <td>2</td>\n",
              "    </tr>\n",
              "  </tbody>\n",
              "</table>\n",
              "</div>"
            ],
            "text/plain": [
              "   total_bill   tip     sex smoker  day    time  size\n",
              "2       21.01  3.50    Male     No  Sun  Dinner     3\n",
              "3       23.68  3.31    Male     No  Sun  Dinner     2\n",
              "4       24.59  3.61  Female     No  Sun  Dinner     4\n",
              "7       26.88  3.12    Male     No  Sun  Dinner     4\n",
              "9       14.78  3.23    Male     No  Sun  Dinner     2"
            ]
          },
          "execution_count": 93,
          "metadata": {},
          "output_type": "execute_result"
        }
      ],
      "source": [
        "tips[(tips['time']=='Dinner')&(tips['tip'] > 3)&(tips['tip'] < 4)\\\n",
        "     & ((tips['day']=='Sun') | (tips['day']=='Sat'))].head()"
      ]
    },
    {
      "cell_type": "code",
      "execution_count": 94,
      "metadata": {
        "colab": {
          "base_uri": "https://localhost:8080/",
          "height": 206
        },
        "id": "v4kPFSb1a-9O",
        "outputId": "a1426f02-4df0-4fb6-c8d1-63a58d68d506"
      },
      "outputs": [
        {
          "data": {
            "text/html": [
              "<div>\n",
              "<style scoped>\n",
              "    .dataframe tbody tr th:only-of-type {\n",
              "        vertical-align: middle;\n",
              "    }\n",
              "\n",
              "    .dataframe tbody tr th {\n",
              "        vertical-align: top;\n",
              "    }\n",
              "\n",
              "    .dataframe thead th {\n",
              "        text-align: right;\n",
              "    }\n",
              "</style>\n",
              "<table border=\"1\" class=\"dataframe\">\n",
              "  <thead>\n",
              "    <tr style=\"text-align: right;\">\n",
              "      <th></th>\n",
              "      <th>index</th>\n",
              "      <th>total_bill</th>\n",
              "      <th>tip</th>\n",
              "      <th>sex</th>\n",
              "      <th>smoker</th>\n",
              "      <th>day</th>\n",
              "      <th>time</th>\n",
              "      <th>size</th>\n",
              "    </tr>\n",
              "  </thead>\n",
              "  <tbody>\n",
              "    <tr>\n",
              "      <th>0</th>\n",
              "      <td>2</td>\n",
              "      <td>21.01</td>\n",
              "      <td>3.50</td>\n",
              "      <td>Male</td>\n",
              "      <td>No</td>\n",
              "      <td>Sun</td>\n",
              "      <td>Dinner</td>\n",
              "      <td>3</td>\n",
              "    </tr>\n",
              "    <tr>\n",
              "      <th>1</th>\n",
              "      <td>3</td>\n",
              "      <td>23.68</td>\n",
              "      <td>3.31</td>\n",
              "      <td>Male</td>\n",
              "      <td>No</td>\n",
              "      <td>Sun</td>\n",
              "      <td>Dinner</td>\n",
              "      <td>2</td>\n",
              "    </tr>\n",
              "    <tr>\n",
              "      <th>2</th>\n",
              "      <td>4</td>\n",
              "      <td>24.59</td>\n",
              "      <td>3.61</td>\n",
              "      <td>Female</td>\n",
              "      <td>No</td>\n",
              "      <td>Sun</td>\n",
              "      <td>Dinner</td>\n",
              "      <td>4</td>\n",
              "    </tr>\n",
              "    <tr>\n",
              "      <th>3</th>\n",
              "      <td>7</td>\n",
              "      <td>26.88</td>\n",
              "      <td>3.12</td>\n",
              "      <td>Male</td>\n",
              "      <td>No</td>\n",
              "      <td>Sun</td>\n",
              "      <td>Dinner</td>\n",
              "      <td>4</td>\n",
              "    </tr>\n",
              "    <tr>\n",
              "      <th>4</th>\n",
              "      <td>9</td>\n",
              "      <td>14.78</td>\n",
              "      <td>3.23</td>\n",
              "      <td>Male</td>\n",
              "      <td>No</td>\n",
              "      <td>Sun</td>\n",
              "      <td>Dinner</td>\n",
              "      <td>2</td>\n",
              "    </tr>\n",
              "  </tbody>\n",
              "</table>\n",
              "</div>"
            ],
            "text/plain": [
              "   index  total_bill   tip     sex smoker  day    time  size\n",
              "0      2       21.01  3.50    Male     No  Sun  Dinner     3\n",
              "1      3       23.68  3.31    Male     No  Sun  Dinner     2\n",
              "2      4       24.59  3.61  Female     No  Sun  Dinner     4\n",
              "3      7       26.88  3.12    Male     No  Sun  Dinner     4\n",
              "4      9       14.78  3.23    Male     No  Sun  Dinner     2"
            ]
          },
          "execution_count": 94,
          "metadata": {},
          "output_type": "execute_result"
        }
      ],
      "source": [
        "### save sql result into dataframe using pandas ####\n",
        "\n",
        "db_df = pd.read_sql_query('SELECT * FROM tipsDBSQL WHERE time=\"Dinner\" AND tip > 3.00 AND tip < 4.00\\\n",
        "             AND(day=\"Sat\" OR day=\"Sun\") LIMIT 5', engine)\n",
        "db_df.to_csv('database.csv', index=False)\n",
        "db_df"
      ]
    },
    {
      "cell_type": "code",
      "execution_count": 95,
      "metadata": {
        "id": "8pz1RsALbQ4X"
      },
      "outputs": [],
      "source": [
        "sql_update='UPDATE tipsDBSQL set tip=NULL where tip < 3.0'\n",
        "cursor.execute(sql_update)\n",
        "engine.commit()"
      ]
    },
    {
      "cell_type": "code",
      "execution_count": 96,
      "metadata": {
        "colab": {
          "base_uri": "https://localhost:8080/"
        },
        "id": "m0w6B13Ibetg",
        "outputId": "3447bc80-43c3-4441-b22f-a7550b42238c"
      },
      "outputs": [
        {
          "data": {
            "text/plain": [
              "[(0, 16.99, None, 'Female', 'No', 'Sun', 'Dinner', 2),\n",
              " (1, 10.34, None, 'Male', 'No', 'Sun', 'Dinner', 3),\n",
              " (6, 8.77, None, 'Male', 'No', 'Sun', 'Dinner', 2),\n",
              " (8, 15.04, None, 'Male', 'No', 'Sun', 'Dinner', 2),\n",
              " (10, 10.27, None, 'Male', 'No', 'Sun', 'Dinner', 2)]"
            ]
          },
          "execution_count": 96,
          "metadata": {},
          "output_type": "execute_result"
        }
      ],
      "source": [
        "sql_select = 'SELECT * FROM tipsDBSQL where tip IS NULL LIMIT 5'\n",
        "cursor.execute(sql_select).fetchall()"
      ]
    },
    {
      "cell_type": "code",
      "execution_count": 97,
      "metadata": {
        "id": "tWJ2wRVmbqCb"
      },
      "outputs": [],
      "source": [
        "##  loc[row_index,name_column]\n",
        "tips.loc[tips['tip'] < 3.0,'tip'] = None"
      ]
    },
    {
      "cell_type": "code",
      "execution_count": 98,
      "metadata": {
        "colab": {
          "base_uri": "https://localhost:8080/",
          "height": 424
        },
        "id": "QFIGhcI_43m9",
        "outputId": "200bdc3e-3bbb-435a-f8e9-8455c6c14868"
      },
      "outputs": [],
      "source": [
        "#tips[tips['tip'] >  3.0]  = None\n",
        "#tips"
      ]
    },
    {
      "cell_type": "code",
      "execution_count": 99,
      "metadata": {
        "colab": {
          "base_uri": "https://localhost:8080/",
          "height": 206
        },
        "id": "eZf6-LwPb9lD",
        "outputId": "5b20a484-e6fd-4c3d-f489-34bfa1d8de12"
      },
      "outputs": [
        {
          "data": {
            "text/html": [
              "<div>\n",
              "<style scoped>\n",
              "    .dataframe tbody tr th:only-of-type {\n",
              "        vertical-align: middle;\n",
              "    }\n",
              "\n",
              "    .dataframe tbody tr th {\n",
              "        vertical-align: top;\n",
              "    }\n",
              "\n",
              "    .dataframe thead th {\n",
              "        text-align: right;\n",
              "    }\n",
              "</style>\n",
              "<table border=\"1\" class=\"dataframe\">\n",
              "  <thead>\n",
              "    <tr style=\"text-align: right;\">\n",
              "      <th></th>\n",
              "      <th>total_bill</th>\n",
              "      <th>tip</th>\n",
              "      <th>sex</th>\n",
              "      <th>smoker</th>\n",
              "      <th>day</th>\n",
              "      <th>time</th>\n",
              "      <th>size</th>\n",
              "    </tr>\n",
              "  </thead>\n",
              "  <tbody>\n",
              "    <tr>\n",
              "      <th>0</th>\n",
              "      <td>16.99</td>\n",
              "      <td>NaN</td>\n",
              "      <td>Female</td>\n",
              "      <td>No</td>\n",
              "      <td>Sun</td>\n",
              "      <td>Dinner</td>\n",
              "      <td>2</td>\n",
              "    </tr>\n",
              "    <tr>\n",
              "      <th>1</th>\n",
              "      <td>10.34</td>\n",
              "      <td>NaN</td>\n",
              "      <td>Male</td>\n",
              "      <td>No</td>\n",
              "      <td>Sun</td>\n",
              "      <td>Dinner</td>\n",
              "      <td>3</td>\n",
              "    </tr>\n",
              "    <tr>\n",
              "      <th>6</th>\n",
              "      <td>8.77</td>\n",
              "      <td>NaN</td>\n",
              "      <td>Male</td>\n",
              "      <td>No</td>\n",
              "      <td>Sun</td>\n",
              "      <td>Dinner</td>\n",
              "      <td>2</td>\n",
              "    </tr>\n",
              "    <tr>\n",
              "      <th>8</th>\n",
              "      <td>15.04</td>\n",
              "      <td>NaN</td>\n",
              "      <td>Male</td>\n",
              "      <td>No</td>\n",
              "      <td>Sun</td>\n",
              "      <td>Dinner</td>\n",
              "      <td>2</td>\n",
              "    </tr>\n",
              "    <tr>\n",
              "      <th>10</th>\n",
              "      <td>10.27</td>\n",
              "      <td>NaN</td>\n",
              "      <td>Male</td>\n",
              "      <td>No</td>\n",
              "      <td>Sun</td>\n",
              "      <td>Dinner</td>\n",
              "      <td>2</td>\n",
              "    </tr>\n",
              "  </tbody>\n",
              "</table>\n",
              "</div>"
            ],
            "text/plain": [
              "    total_bill  tip     sex smoker  day    time  size\n",
              "0        16.99  NaN  Female     No  Sun  Dinner     2\n",
              "1        10.34  NaN    Male     No  Sun  Dinner     3\n",
              "6         8.77  NaN    Male     No  Sun  Dinner     2\n",
              "8        15.04  NaN    Male     No  Sun  Dinner     2\n",
              "10       10.27  NaN    Male     No  Sun  Dinner     2"
            ]
          },
          "execution_count": 99,
          "metadata": {},
          "output_type": "execute_result"
        }
      ],
      "source": [
        "tips[tips['tip'].isna()].head()"
      ]
    },
    {
      "cell_type": "code",
      "execution_count": 100,
      "metadata": {
        "colab": {
          "base_uri": "https://localhost:8080/"
        },
        "id": "UrUKAJVdcDsl",
        "outputId": "91ea08de-a433-45dc-ee16-7b82fd348c60"
      },
      "outputs": [
        {
          "data": {
            "text/plain": [
              "[('Female', 87), ('Male', 157)]"
            ]
          },
          "execution_count": 100,
          "metadata": {},
          "output_type": "execute_result"
        }
      ],
      "source": [
        "sql_groupBy ='SELECT sex,count(*) FROM tipsDBSQL GROUP BY sex'\n",
        "cursor.execute(sql_groupBy).fetchall()"
      ]
    },
    {
      "cell_type": "code",
      "execution_count": 101,
      "metadata": {
        "colab": {
          "base_uri": "https://localhost:8080/"
        },
        "id": "cZY3GBZ8cNVW",
        "outputId": "4daea739-2668-4a3f-92f4-054868a68968"
      },
      "outputs": [
        {
          "data": {
            "text/plain": [
              "sex\n",
              "Female     87\n",
              "Male      157\n",
              "dtype: int64"
            ]
          },
          "execution_count": 101,
          "metadata": {},
          "output_type": "execute_result"
        }
      ],
      "source": [
        "## Pandas\n",
        "tips.groupby('sex').size()\n"
      ]
    },
    {
      "cell_type": "code",
      "execution_count": 102,
      "metadata": {
        "colab": {
          "base_uri": "https://localhost:8080/"
        },
        "id": "Bf65Pntp6V-z",
        "outputId": "bcba6731-7625-4220-f275-05038f2dcd03"
      },
      "outputs": [
        {
          "data": {
            "text/plain": [
              "sex\n",
              "Male      157\n",
              "Female     87\n",
              "Name: count, dtype: int64"
            ]
          },
          "execution_count": 102,
          "metadata": {},
          "output_type": "execute_result"
        }
      ],
      "source": [
        "tips['sex'].value_counts()"
      ]
    },
    {
      "cell_type": "code",
      "execution_count": 103,
      "metadata": {
        "colab": {
          "base_uri": "https://localhost:8080/"
        },
        "id": "JAbZ2h58cfEd",
        "outputId": "a00b0716-eb58-4cdf-e053-1f0b62ba90c2"
      },
      "outputs": [
        {
          "data": {
            "text/plain": [
              "[('Fri', 'No', 4, 3.25),\n",
              " ('Fri', 'Yes', 15, 3.6442857142857146),\n",
              " ('Sat', 'No', 45, 4.233181818181818),\n",
              " ('Sat', 'Yes', 42, 4.0169999999999995),\n",
              " ('Sun', 'No', 57, 4.040000000000001),\n",
              " ('Sun', 'Yes', 19, 3.9546666666666668),\n",
              " ('Thur', 'No', 45, 4.219285714285715),\n",
              " ('Thur', 'Yes', 17, 4.0525)]"
            ]
          },
          "execution_count": 103,
          "metadata": {},
          "output_type": "execute_result"
        }
      ],
      "source": [
        "sql_groupBy2 = 'SELECT day,smoker,count(*), avg(tip) from tipsDBSQL\\\n",
        "                GROUP BY day, smoker'\n",
        "\n",
        "cursor.execute(sql_groupBy2).fetchall()"
      ]
    },
    {
      "cell_type": "code",
      "execution_count": 104,
      "metadata": {
        "colab": {
          "base_uri": "https://localhost:8080/",
          "height": 363
        },
        "id": "2tmYZoricnK2",
        "outputId": "68c02b6b-f117-4dd6-bd07-24d4275a5484"
      },
      "outputs": [
        {
          "data": {
            "text/html": [
              "<div>\n",
              "<style scoped>\n",
              "    .dataframe tbody tr th:only-of-type {\n",
              "        vertical-align: middle;\n",
              "    }\n",
              "\n",
              "    .dataframe tbody tr th {\n",
              "        vertical-align: top;\n",
              "    }\n",
              "\n",
              "    .dataframe thead tr th {\n",
              "        text-align: left;\n",
              "    }\n",
              "\n",
              "    .dataframe thead tr:last-of-type th {\n",
              "        text-align: right;\n",
              "    }\n",
              "</style>\n",
              "<table border=\"1\" class=\"dataframe\">\n",
              "  <thead>\n",
              "    <tr>\n",
              "      <th></th>\n",
              "      <th></th>\n",
              "      <th colspan=\"3\" halign=\"left\">tip</th>\n",
              "    </tr>\n",
              "    <tr>\n",
              "      <th></th>\n",
              "      <th></th>\n",
              "      <th>size</th>\n",
              "      <th>mean</th>\n",
              "      <th>max</th>\n",
              "    </tr>\n",
              "    <tr>\n",
              "      <th>day</th>\n",
              "      <th>smoker</th>\n",
              "      <th></th>\n",
              "      <th></th>\n",
              "      <th></th>\n",
              "    </tr>\n",
              "  </thead>\n",
              "  <tbody>\n",
              "    <tr>\n",
              "      <th rowspan=\"2\" valign=\"top\">Fri</th>\n",
              "      <th>No</th>\n",
              "      <td>4</td>\n",
              "      <td>3.250000</td>\n",
              "      <td>3.50</td>\n",
              "    </tr>\n",
              "    <tr>\n",
              "      <th>Yes</th>\n",
              "      <td>15</td>\n",
              "      <td>3.644286</td>\n",
              "      <td>4.73</td>\n",
              "    </tr>\n",
              "    <tr>\n",
              "      <th rowspan=\"2\" valign=\"top\">Sat</th>\n",
              "      <th>No</th>\n",
              "      <td>45</td>\n",
              "      <td>4.233182</td>\n",
              "      <td>9.00</td>\n",
              "    </tr>\n",
              "    <tr>\n",
              "      <th>Yes</th>\n",
              "      <td>42</td>\n",
              "      <td>4.017000</td>\n",
              "      <td>10.00</td>\n",
              "    </tr>\n",
              "    <tr>\n",
              "      <th rowspan=\"2\" valign=\"top\">Sun</th>\n",
              "      <th>No</th>\n",
              "      <td>57</td>\n",
              "      <td>4.040000</td>\n",
              "      <td>6.00</td>\n",
              "    </tr>\n",
              "    <tr>\n",
              "      <th>Yes</th>\n",
              "      <td>19</td>\n",
              "      <td>3.954667</td>\n",
              "      <td>6.50</td>\n",
              "    </tr>\n",
              "    <tr>\n",
              "      <th rowspan=\"2\" valign=\"top\">Thur</th>\n",
              "      <th>No</th>\n",
              "      <td>45</td>\n",
              "      <td>4.219286</td>\n",
              "      <td>6.70</td>\n",
              "    </tr>\n",
              "    <tr>\n",
              "      <th>Yes</th>\n",
              "      <td>17</td>\n",
              "      <td>4.052500</td>\n",
              "      <td>5.00</td>\n",
              "    </tr>\n",
              "  </tbody>\n",
              "</table>\n",
              "</div>"
            ],
            "text/plain": [
              "             tip                 \n",
              "            size      mean    max\n",
              "day  smoker                      \n",
              "Fri  No        4  3.250000   3.50\n",
              "     Yes      15  3.644286   4.73\n",
              "Sat  No       45  4.233182   9.00\n",
              "     Yes      42  4.017000  10.00\n",
              "Sun  No       57  4.040000   6.00\n",
              "     Yes      19  3.954667   6.50\n",
              "Thur No       45  4.219286   6.70\n",
              "     Yes      17  4.052500   5.00"
            ]
          },
          "execution_count": 104,
          "metadata": {},
          "output_type": "execute_result"
        }
      ],
      "source": [
        "### Pandas ###\n",
        "tips.groupby(['day','smoker']).agg({\"tip\":['size','mean','max']})"
      ]
    },
    {
      "cell_type": "code",
      "execution_count": 105,
      "metadata": {
        "id": "KLF1C12Pc1fn"
      },
      "outputs": [
        {
          "data": {
            "text/plain": [
              "4"
            ]
          },
          "execution_count": 105,
          "metadata": {},
          "output_type": "execute_result"
        }
      ],
      "source": [
        "import numpy as np\n",
        "values = np.random.randn(4)\n",
        "values = np.append(values,np.nan)\n",
        "\n",
        "df1 = pd.DataFrame({\"key\": [\"A\", \"B\", \"C\", \"D\",\"E\"], \"value\": values})\n",
        "df2 = pd.DataFrame({\"key\": [\"B\", \"D\", \"D\", \"E\"], \"value\": np.random.randn(4)})\n",
        "\n",
        "\n",
        "df1.to_sql('df1DB', con=engine)\n",
        "df2.to_sql('df2DB', con=engine)"
      ]
    },
    {
      "cell_type": "code",
      "execution_count": 106,
      "metadata": {
        "id": "5X5OrOO2dNdt"
      },
      "outputs": [
        {
          "data": {
            "text/plain": [
              "[(1, 'B', -1.0651175561495843, 0, 'B', 0.6353281470439328),\n",
              " (3, 'D', -0.7172172558489679, 1, 'D', -0.28903635130604866),\n",
              " (3, 'D', -0.7172172558489679, 2, 'D', 0.18019413046140323),\n",
              " (4, 'E', None, 3, 'E', -0.967282193158867)]"
            ]
          },
          "execution_count": 106,
          "metadata": {},
          "output_type": "execute_result"
        }
      ],
      "source": [
        "sql_join = 'SELECT * FROM df1DB INNER JOIN df2DB ON df1DB.key = df2DB.key'\n",
        "cursor.execute(sql_join).fetchall()"
      ]
    },
    {
      "cell_type": "code",
      "execution_count": 107,
      "metadata": {
        "id": "FNVVo9LddUEK"
      },
      "outputs": [],
      "source": [
        "### Pandas ####\n",
        "\n"
      ]
    },
    {
      "cell_type": "code",
      "execution_count": 108,
      "metadata": {
        "id": "VcW8iY62dfC5"
      },
      "outputs": [
        {
          "data": {
            "text/plain": [
              "[(0, 'A', -0.6392186890640574, None, None, None),\n",
              " (1, 'B', -1.0651175561495843, 0, 'B', 0.6353281470439328),\n",
              " (2, 'C', 1.9635888391452974, None, None, None),\n",
              " (3, 'D', -0.7172172558489679, 1, 'D', -0.28903635130604866),\n",
              " (3, 'D', -0.7172172558489679, 2, 'D', 0.18019413046140323),\n",
              " (4, 'E', None, 3, 'E', -0.967282193158867)]"
            ]
          },
          "execution_count": 108,
          "metadata": {},
          "output_type": "execute_result"
        }
      ],
      "source": [
        "sql_leftjoin = 'SELECT * FROM df1DB LEFT OUTER JOIN df2DB ON df1DB.key = df2DB.key'\n",
        "cursor.execute(sql_leftjoin).fetchall()"
      ]
    },
    {
      "cell_type": "code",
      "execution_count": 109,
      "metadata": {
        "id": "s8Ttlq0udhaa"
      },
      "outputs": [],
      "source": [
        "### Pandas ###"
      ]
    },
    {
      "cell_type": "code",
      "execution_count": 110,
      "metadata": {
        "id": "SHHilBSbdzzc"
      },
      "outputs": [],
      "source": [
        "left = pd.DataFrame(\n",
        "    {\n",
        "        \"key1\": [\"K0\", \"K0\", \"K1\", \"K2\"],\n",
        "        \"key2\": [\"K0\", \"K1\", \"K0\", \"K1\"],\n",
        "        \"A\": [\"A0\", \"A1\", \"A2\", \"A3\"],\n",
        "        \"B\": [\"B0\", \"B1\", \"B2\", \"B3\"],\n",
        "    }\n",
        ")\n",
        "right = pd.DataFrame(\n",
        "    {\n",
        "        \"key1\": [\"K0\", \"K1\", \"K1\", \"K2\"],\n",
        "        \"key2\": [\"K0\", \"K0\", \"K0\", \"K0\"],\n",
        "        \"C\": [\"C0\", \"C1\", \"C2\", \"C3\"],\n",
        "        \"D\": [\"D0\", \"D1\", \"D2\", \"D3\"],\n",
        "    }\n",
        ")"
      ]
    },
    {
      "cell_type": "code",
      "execution_count": 111,
      "metadata": {
        "colab": {
          "base_uri": "https://localhost:8080/",
          "height": 206
        },
        "id": "Wr3_RKLofr9N",
        "outputId": "4d944953-681b-4c68-87d0-96969a533e9c"
      },
      "outputs": [
        {
          "data": {
            "text/html": [
              "<div>\n",
              "<style scoped>\n",
              "    .dataframe tbody tr th:only-of-type {\n",
              "        vertical-align: middle;\n",
              "    }\n",
              "\n",
              "    .dataframe tbody tr th {\n",
              "        vertical-align: top;\n",
              "    }\n",
              "\n",
              "    .dataframe thead th {\n",
              "        text-align: right;\n",
              "    }\n",
              "</style>\n",
              "<table border=\"1\" class=\"dataframe\">\n",
              "  <thead>\n",
              "    <tr style=\"text-align: right;\">\n",
              "      <th></th>\n",
              "      <th>key1</th>\n",
              "      <th>key2_x</th>\n",
              "      <th>A</th>\n",
              "      <th>B</th>\n",
              "      <th>key2_y</th>\n",
              "      <th>C</th>\n",
              "      <th>D</th>\n",
              "    </tr>\n",
              "  </thead>\n",
              "  <tbody>\n",
              "    <tr>\n",
              "      <th>0</th>\n",
              "      <td>K0</td>\n",
              "      <td>K0</td>\n",
              "      <td>A0</td>\n",
              "      <td>B0</td>\n",
              "      <td>K0</td>\n",
              "      <td>C0</td>\n",
              "      <td>D0</td>\n",
              "    </tr>\n",
              "    <tr>\n",
              "      <th>1</th>\n",
              "      <td>K0</td>\n",
              "      <td>K1</td>\n",
              "      <td>A1</td>\n",
              "      <td>B1</td>\n",
              "      <td>K0</td>\n",
              "      <td>C0</td>\n",
              "      <td>D0</td>\n",
              "    </tr>\n",
              "    <tr>\n",
              "      <th>2</th>\n",
              "      <td>K1</td>\n",
              "      <td>K0</td>\n",
              "      <td>A2</td>\n",
              "      <td>B2</td>\n",
              "      <td>K0</td>\n",
              "      <td>C1</td>\n",
              "      <td>D1</td>\n",
              "    </tr>\n",
              "    <tr>\n",
              "      <th>3</th>\n",
              "      <td>K1</td>\n",
              "      <td>K0</td>\n",
              "      <td>A2</td>\n",
              "      <td>B2</td>\n",
              "      <td>K0</td>\n",
              "      <td>C2</td>\n",
              "      <td>D2</td>\n",
              "    </tr>\n",
              "    <tr>\n",
              "      <th>4</th>\n",
              "      <td>K2</td>\n",
              "      <td>K1</td>\n",
              "      <td>A3</td>\n",
              "      <td>B3</td>\n",
              "      <td>K0</td>\n",
              "      <td>C3</td>\n",
              "      <td>D3</td>\n",
              "    </tr>\n",
              "  </tbody>\n",
              "</table>\n",
              "</div>"
            ],
            "text/plain": [
              "  key1 key2_x   A   B key2_y   C   D\n",
              "0   K0     K0  A0  B0     K0  C0  D0\n",
              "1   K0     K1  A1  B1     K0  C0  D0\n",
              "2   K1     K0  A2  B2     K0  C1  D1\n",
              "3   K1     K0  A2  B2     K0  C2  D2\n",
              "4   K2     K1  A3  B3     K0  C3  D3"
            ]
          },
          "execution_count": 111,
          "metadata": {},
          "output_type": "execute_result"
        }
      ],
      "source": [
        "result = pd.merge(left, right, on=\"key1\")\n",
        "result"
      ]
    },
    {
      "cell_type": "code",
      "execution_count": 112,
      "metadata": {
        "colab": {
          "base_uri": "https://localhost:8080/",
          "height": 143
        },
        "id": "mIXmHb0-fsjb",
        "outputId": "b80708ed-a263-4f61-ce20-a185d23820f4"
      },
      "outputs": [
        {
          "data": {
            "text/html": [
              "<div>\n",
              "<style scoped>\n",
              "    .dataframe tbody tr th:only-of-type {\n",
              "        vertical-align: middle;\n",
              "    }\n",
              "\n",
              "    .dataframe tbody tr th {\n",
              "        vertical-align: top;\n",
              "    }\n",
              "\n",
              "    .dataframe thead th {\n",
              "        text-align: right;\n",
              "    }\n",
              "</style>\n",
              "<table border=\"1\" class=\"dataframe\">\n",
              "  <thead>\n",
              "    <tr style=\"text-align: right;\">\n",
              "      <th></th>\n",
              "      <th>key1</th>\n",
              "      <th>key2</th>\n",
              "      <th>A</th>\n",
              "      <th>B</th>\n",
              "      <th>C</th>\n",
              "      <th>D</th>\n",
              "    </tr>\n",
              "  </thead>\n",
              "  <tbody>\n",
              "    <tr>\n",
              "      <th>0</th>\n",
              "      <td>K0</td>\n",
              "      <td>K0</td>\n",
              "      <td>A0</td>\n",
              "      <td>B0</td>\n",
              "      <td>C0</td>\n",
              "      <td>D0</td>\n",
              "    </tr>\n",
              "    <tr>\n",
              "      <th>1</th>\n",
              "      <td>K1</td>\n",
              "      <td>K0</td>\n",
              "      <td>A2</td>\n",
              "      <td>B2</td>\n",
              "      <td>C1</td>\n",
              "      <td>D1</td>\n",
              "    </tr>\n",
              "    <tr>\n",
              "      <th>2</th>\n",
              "      <td>K1</td>\n",
              "      <td>K0</td>\n",
              "      <td>A2</td>\n",
              "      <td>B2</td>\n",
              "      <td>C2</td>\n",
              "      <td>D2</td>\n",
              "    </tr>\n",
              "  </tbody>\n",
              "</table>\n",
              "</div>"
            ],
            "text/plain": [
              "  key1 key2   A   B   C   D\n",
              "0   K0   K0  A0  B0  C0  D0\n",
              "1   K1   K0  A2  B2  C1  D1\n",
              "2   K1   K0  A2  B2  C2  D2"
            ]
          },
          "execution_count": 112,
          "metadata": {},
          "output_type": "execute_result"
        }
      ],
      "source": [
        "result = pd.merge(left, right, on=[\"key1\", \"key2\"])\n",
        "result"
      ]
    },
    {
      "cell_type": "code",
      "execution_count": 113,
      "metadata": {
        "colab": {
          "base_uri": "https://localhost:8080/",
          "height": 238
        },
        "id": "nEcShz39gDHM",
        "outputId": "07af79cf-1712-4f62-d40e-f4a2deda164f"
      },
      "outputs": [
        {
          "data": {
            "text/html": [
              "<div>\n",
              "<style scoped>\n",
              "    .dataframe tbody tr th:only-of-type {\n",
              "        vertical-align: middle;\n",
              "    }\n",
              "\n",
              "    .dataframe tbody tr th {\n",
              "        vertical-align: top;\n",
              "    }\n",
              "\n",
              "    .dataframe thead th {\n",
              "        text-align: right;\n",
              "    }\n",
              "</style>\n",
              "<table border=\"1\" class=\"dataframe\">\n",
              "  <thead>\n",
              "    <tr style=\"text-align: right;\">\n",
              "      <th></th>\n",
              "      <th>key1</th>\n",
              "      <th>key2</th>\n",
              "      <th>A</th>\n",
              "      <th>B</th>\n",
              "      <th>C</th>\n",
              "      <th>D</th>\n",
              "    </tr>\n",
              "  </thead>\n",
              "  <tbody>\n",
              "    <tr>\n",
              "      <th>0</th>\n",
              "      <td>K0</td>\n",
              "      <td>K0</td>\n",
              "      <td>A0</td>\n",
              "      <td>B0</td>\n",
              "      <td>C0</td>\n",
              "      <td>D0</td>\n",
              "    </tr>\n",
              "    <tr>\n",
              "      <th>1</th>\n",
              "      <td>K0</td>\n",
              "      <td>K1</td>\n",
              "      <td>A1</td>\n",
              "      <td>B1</td>\n",
              "      <td>NaN</td>\n",
              "      <td>NaN</td>\n",
              "    </tr>\n",
              "    <tr>\n",
              "      <th>2</th>\n",
              "      <td>K1</td>\n",
              "      <td>K0</td>\n",
              "      <td>A2</td>\n",
              "      <td>B2</td>\n",
              "      <td>C1</td>\n",
              "      <td>D1</td>\n",
              "    </tr>\n",
              "    <tr>\n",
              "      <th>3</th>\n",
              "      <td>K1</td>\n",
              "      <td>K0</td>\n",
              "      <td>A2</td>\n",
              "      <td>B2</td>\n",
              "      <td>C2</td>\n",
              "      <td>D2</td>\n",
              "    </tr>\n",
              "    <tr>\n",
              "      <th>4</th>\n",
              "      <td>K2</td>\n",
              "      <td>K1</td>\n",
              "      <td>A3</td>\n",
              "      <td>B3</td>\n",
              "      <td>NaN</td>\n",
              "      <td>NaN</td>\n",
              "    </tr>\n",
              "    <tr>\n",
              "      <th>5</th>\n",
              "      <td>K2</td>\n",
              "      <td>K0</td>\n",
              "      <td>NaN</td>\n",
              "      <td>NaN</td>\n",
              "      <td>C3</td>\n",
              "      <td>D3</td>\n",
              "    </tr>\n",
              "  </tbody>\n",
              "</table>\n",
              "</div>"
            ],
            "text/plain": [
              "  key1 key2    A    B    C    D\n",
              "0   K0   K0   A0   B0   C0   D0\n",
              "1   K0   K1   A1   B1  NaN  NaN\n",
              "2   K1   K0   A2   B2   C1   D1\n",
              "3   K1   K0   A2   B2   C2   D2\n",
              "4   K2   K1   A3   B3  NaN  NaN\n",
              "5   K2   K0  NaN  NaN   C3   D3"
            ]
          },
          "execution_count": 113,
          "metadata": {},
          "output_type": "execute_result"
        }
      ],
      "source": [
        "result = pd.merge(left, right, how=\"outer\", on=[\"key1\", \"key2\"])\n",
        "result"
      ]
    },
    {
      "cell_type": "code",
      "execution_count": 114,
      "metadata": {
        "id": "Tus6JyOIgHJL"
      },
      "outputs": [
        {
          "data": {
            "text/html": [
              "<div>\n",
              "<style scoped>\n",
              "    .dataframe tbody tr th:only-of-type {\n",
              "        vertical-align: middle;\n",
              "    }\n",
              "\n",
              "    .dataframe tbody tr th {\n",
              "        vertical-align: top;\n",
              "    }\n",
              "\n",
              "    .dataframe thead th {\n",
              "        text-align: right;\n",
              "    }\n",
              "</style>\n",
              "<table border=\"1\" class=\"dataframe\">\n",
              "  <thead>\n",
              "    <tr style=\"text-align: right;\">\n",
              "      <th></th>\n",
              "      <th>key1_x</th>\n",
              "      <th>key2_x</th>\n",
              "      <th>A</th>\n",
              "      <th>B</th>\n",
              "      <th>key1_y</th>\n",
              "      <th>key2_y</th>\n",
              "      <th>C</th>\n",
              "      <th>D</th>\n",
              "    </tr>\n",
              "  </thead>\n",
              "  <tbody>\n",
              "    <tr>\n",
              "      <th>0</th>\n",
              "      <td>K0</td>\n",
              "      <td>K0</td>\n",
              "      <td>A0</td>\n",
              "      <td>B0</td>\n",
              "      <td>K0</td>\n",
              "      <td>K0</td>\n",
              "      <td>C0</td>\n",
              "      <td>D0</td>\n",
              "    </tr>\n",
              "    <tr>\n",
              "      <th>1</th>\n",
              "      <td>K0</td>\n",
              "      <td>K0</td>\n",
              "      <td>A0</td>\n",
              "      <td>B0</td>\n",
              "      <td>K1</td>\n",
              "      <td>K0</td>\n",
              "      <td>C1</td>\n",
              "      <td>D1</td>\n",
              "    </tr>\n",
              "    <tr>\n",
              "      <th>2</th>\n",
              "      <td>K0</td>\n",
              "      <td>K0</td>\n",
              "      <td>A0</td>\n",
              "      <td>B0</td>\n",
              "      <td>K1</td>\n",
              "      <td>K0</td>\n",
              "      <td>C2</td>\n",
              "      <td>D2</td>\n",
              "    </tr>\n",
              "    <tr>\n",
              "      <th>3</th>\n",
              "      <td>K0</td>\n",
              "      <td>K0</td>\n",
              "      <td>A0</td>\n",
              "      <td>B0</td>\n",
              "      <td>K2</td>\n",
              "      <td>K0</td>\n",
              "      <td>C3</td>\n",
              "      <td>D3</td>\n",
              "    </tr>\n",
              "    <tr>\n",
              "      <th>4</th>\n",
              "      <td>K0</td>\n",
              "      <td>K1</td>\n",
              "      <td>A1</td>\n",
              "      <td>B1</td>\n",
              "      <td>K0</td>\n",
              "      <td>K0</td>\n",
              "      <td>C0</td>\n",
              "      <td>D0</td>\n",
              "    </tr>\n",
              "    <tr>\n",
              "      <th>5</th>\n",
              "      <td>K0</td>\n",
              "      <td>K1</td>\n",
              "      <td>A1</td>\n",
              "      <td>B1</td>\n",
              "      <td>K1</td>\n",
              "      <td>K0</td>\n",
              "      <td>C1</td>\n",
              "      <td>D1</td>\n",
              "    </tr>\n",
              "    <tr>\n",
              "      <th>6</th>\n",
              "      <td>K0</td>\n",
              "      <td>K1</td>\n",
              "      <td>A1</td>\n",
              "      <td>B1</td>\n",
              "      <td>K1</td>\n",
              "      <td>K0</td>\n",
              "      <td>C2</td>\n",
              "      <td>D2</td>\n",
              "    </tr>\n",
              "    <tr>\n",
              "      <th>7</th>\n",
              "      <td>K0</td>\n",
              "      <td>K1</td>\n",
              "      <td>A1</td>\n",
              "      <td>B1</td>\n",
              "      <td>K2</td>\n",
              "      <td>K0</td>\n",
              "      <td>C3</td>\n",
              "      <td>D3</td>\n",
              "    </tr>\n",
              "    <tr>\n",
              "      <th>8</th>\n",
              "      <td>K1</td>\n",
              "      <td>K0</td>\n",
              "      <td>A2</td>\n",
              "      <td>B2</td>\n",
              "      <td>K0</td>\n",
              "      <td>K0</td>\n",
              "      <td>C0</td>\n",
              "      <td>D0</td>\n",
              "    </tr>\n",
              "    <tr>\n",
              "      <th>9</th>\n",
              "      <td>K1</td>\n",
              "      <td>K0</td>\n",
              "      <td>A2</td>\n",
              "      <td>B2</td>\n",
              "      <td>K1</td>\n",
              "      <td>K0</td>\n",
              "      <td>C1</td>\n",
              "      <td>D1</td>\n",
              "    </tr>\n",
              "    <tr>\n",
              "      <th>10</th>\n",
              "      <td>K1</td>\n",
              "      <td>K0</td>\n",
              "      <td>A2</td>\n",
              "      <td>B2</td>\n",
              "      <td>K1</td>\n",
              "      <td>K0</td>\n",
              "      <td>C2</td>\n",
              "      <td>D2</td>\n",
              "    </tr>\n",
              "    <tr>\n",
              "      <th>11</th>\n",
              "      <td>K1</td>\n",
              "      <td>K0</td>\n",
              "      <td>A2</td>\n",
              "      <td>B2</td>\n",
              "      <td>K2</td>\n",
              "      <td>K0</td>\n",
              "      <td>C3</td>\n",
              "      <td>D3</td>\n",
              "    </tr>\n",
              "    <tr>\n",
              "      <th>12</th>\n",
              "      <td>K2</td>\n",
              "      <td>K1</td>\n",
              "      <td>A3</td>\n",
              "      <td>B3</td>\n",
              "      <td>K0</td>\n",
              "      <td>K0</td>\n",
              "      <td>C0</td>\n",
              "      <td>D0</td>\n",
              "    </tr>\n",
              "    <tr>\n",
              "      <th>13</th>\n",
              "      <td>K2</td>\n",
              "      <td>K1</td>\n",
              "      <td>A3</td>\n",
              "      <td>B3</td>\n",
              "      <td>K1</td>\n",
              "      <td>K0</td>\n",
              "      <td>C1</td>\n",
              "      <td>D1</td>\n",
              "    </tr>\n",
              "    <tr>\n",
              "      <th>14</th>\n",
              "      <td>K2</td>\n",
              "      <td>K1</td>\n",
              "      <td>A3</td>\n",
              "      <td>B3</td>\n",
              "      <td>K1</td>\n",
              "      <td>K0</td>\n",
              "      <td>C2</td>\n",
              "      <td>D2</td>\n",
              "    </tr>\n",
              "    <tr>\n",
              "      <th>15</th>\n",
              "      <td>K2</td>\n",
              "      <td>K1</td>\n",
              "      <td>A3</td>\n",
              "      <td>B3</td>\n",
              "      <td>K2</td>\n",
              "      <td>K0</td>\n",
              "      <td>C3</td>\n",
              "      <td>D3</td>\n",
              "    </tr>\n",
              "  </tbody>\n",
              "</table>\n",
              "</div>"
            ],
            "text/plain": [
              "   key1_x key2_x   A   B key1_y key2_y   C   D\n",
              "0      K0     K0  A0  B0     K0     K0  C0  D0\n",
              "1      K0     K0  A0  B0     K1     K0  C1  D1\n",
              "2      K0     K0  A0  B0     K1     K0  C2  D2\n",
              "3      K0     K0  A0  B0     K2     K0  C3  D3\n",
              "4      K0     K1  A1  B1     K0     K0  C0  D0\n",
              "5      K0     K1  A1  B1     K1     K0  C1  D1\n",
              "6      K0     K1  A1  B1     K1     K0  C2  D2\n",
              "7      K0     K1  A1  B1     K2     K0  C3  D3\n",
              "8      K1     K0  A2  B2     K0     K0  C0  D0\n",
              "9      K1     K0  A2  B2     K1     K0  C1  D1\n",
              "10     K1     K0  A2  B2     K1     K0  C2  D2\n",
              "11     K1     K0  A2  B2     K2     K0  C3  D3\n",
              "12     K2     K1  A3  B3     K0     K0  C0  D0\n",
              "13     K2     K1  A3  B3     K1     K0  C1  D1\n",
              "14     K2     K1  A3  B3     K1     K0  C2  D2\n",
              "15     K2     K1  A3  B3     K2     K0  C3  D3"
            ]
          },
          "execution_count": 114,
          "metadata": {},
          "output_type": "execute_result"
        }
      ],
      "source": [
        "result = pd.merge(left, right, how=\"cross\")\n",
        "result"
      ]
    }
  ],
  "metadata": {
    "colab": {
      "provenance": []
    },
    "kernelspec": {
      "display_name": "Python 3",
      "language": "python",
      "name": "python3"
    },
    "language_info": {
      "codemirror_mode": {
        "name": "ipython",
        "version": 3
      },
      "file_extension": ".py",
      "mimetype": "text/x-python",
      "name": "python",
      "nbconvert_exporter": "python",
      "pygments_lexer": "ipython3",
      "version": "3.11.5"
    }
  },
  "nbformat": 4,
  "nbformat_minor": 0
}
