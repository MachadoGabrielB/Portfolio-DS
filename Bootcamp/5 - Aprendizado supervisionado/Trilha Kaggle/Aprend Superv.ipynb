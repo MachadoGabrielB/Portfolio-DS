{
 "cells": [
  {
   "cell_type": "markdown",
   "metadata": {},
   "source": [
    "## Kaggle - intro-to-machine-learning\n",
    "\n",
    "https://www.kaggle.com/learn/intro-to-machine-learning"
   ]
  },
  {
   "cell_type": "markdown",
   "metadata": {},
   "source": [
    "Parte 4"
   ]
  },
  {
   "cell_type": "code",
   "execution_count": null,
   "metadata": {},
   "outputs": [],
   "source": [
    "# # Data Loading Code Hidden Here\n",
    "# import pandas as pd\n",
    "\n",
    "# # Load data\n",
    "# melbourne_file_path = '../input/melbourne-housing-snapshot/melb_data.csv'\n",
    "# melbourne_data = pd.read_csv(melbourne_file_path) \n",
    "# # Filter rows with missing price values\n",
    "# filtered_melbourne_data = melbourne_data.dropna(axis=0)\n",
    "# # Choose target and features\n",
    "# y = filtered_melbourne_data.Price\n",
    "# melbourne_features = ['Rooms', 'Bathroom', 'Landsize', 'BuildingArea', \n",
    "#                         'YearBuilt', 'Lattitude', 'Longtitude']\n",
    "# X = filtered_melbourne_data[melbourne_features]\n",
    "\n",
    "# from sklearn.tree import DecisionTreeRegressor\n",
    "# # Define model\n",
    "# melbourne_model = DecisionTreeRegressor()\n",
    "# # Fit model\n",
    "# melbourne_model.fit(X, y)"
   ]
  },
  {
   "cell_type": "code",
   "execution_count": null,
   "metadata": {},
   "outputs": [],
   "source": [
    "# from sklearn.metrics import mean_absolute_error\n",
    "\n",
    "# predicted_home_prices = melbourne_model.predict(X)\n",
    "# mean_absolute_error(y, predicted_home_prices)"
   ]
  },
  {
   "cell_type": "code",
   "execution_count": null,
   "metadata": {},
   "outputs": [],
   "source": [
    "# from sklearn.model_selection import train_test_split\n",
    "\n",
    "# # split data into training and validation data, for both features and target\n",
    "# # The split is based on a random number generator. Supplying a numeric value to\n",
    "# # the random_state argument guarantees we get the same split every time we\n",
    "# # run this script.\n",
    "# train_X, val_X, train_y, val_y = train_test_split(X, y, random_state = 0)\n",
    "# # Define model\n",
    "# melbourne_model = DecisionTreeRegressor()\n",
    "# # Fit model\n",
    "# melbourne_model.fit(train_X, train_y)\n",
    "\n",
    "# # get predicted prices on validation data\n",
    "# val_predictions = melbourne_model.predict(val_X)\n",
    "# print(mean_absolute_error(val_y, val_predictions))"
   ]
  },
  {
   "cell_type": "markdown",
   "metadata": {},
   "source": [
    "Parte 5"
   ]
  },
  {
   "cell_type": "code",
   "execution_count": null,
   "metadata": {},
   "outputs": [],
   "source": [
    "# from sklearn.metrics import mean_absolute_error\n",
    "# from sklearn.tree import DecisionTreeRegressor\n",
    "\n",
    "# def get_mae(max_leaf_nodes, train_X, val_X, train_y, val_y):\n",
    "#     model = DecisionTreeRegressor(max_leaf_nodes=max_leaf_nodes, random_state=0)\n",
    "#     model.fit(train_X, train_y)\n",
    "#     preds_val = model.predict(val_X)\n",
    "#     mae = mean_absolute_error(val_y, preds_val)\n",
    "#     return(mae)"
   ]
  },
  {
   "cell_type": "code",
   "execution_count": null,
   "metadata": {},
   "outputs": [],
   "source": [
    "# # Data Loading Code Runs At This Point\n",
    "# import pandas as pd\n",
    "    \n",
    "# # Load data\n",
    "# melbourne_file_path = '../input/melbourne-housing-snapshot/melb_data.csv'\n",
    "# melbourne_data = pd.read_csv(melbourne_file_path) \n",
    "# # Filter rows with missing values\n",
    "# filtered_melbourne_data = melbourne_data.dropna(axis=0)\n",
    "# # Choose target and features\n",
    "# y = filtered_melbourne_data.Price\n",
    "# melbourne_features = ['Rooms', 'Bathroom', 'Landsize', 'BuildingArea', \n",
    "#                         'YearBuilt', 'Lattitude', 'Longtitude']\n",
    "# X = filtered_melbourne_data[melbourne_features]\n",
    "\n",
    "# from sklearn.model_selection import train_test_split\n",
    "\n",
    "# # split data into training and validation data, for both features and target\n",
    "# train_X, val_X, train_y, val_y = train_test_split(X, y,random_state = 0)"
   ]
  },
  {
   "cell_type": "code",
   "execution_count": null,
   "metadata": {},
   "outputs": [],
   "source": [
    "# # compare MAE with differing values of max_leaf_nodes\n",
    "# for max_leaf_nodes in [5, 50, 500, 5000]:\n",
    "#     my_mae = get_mae(max_leaf_nodes, train_X, val_X, train_y, val_y)\n",
    "#     print(\"Max leaf nodes: %d  \\t\\t Mean Absolute Error:  %d\" %(max_leaf_nodes, my_mae))"
   ]
  },
  {
   "cell_type": "markdown",
   "metadata": {},
   "source": [
    "Parte 6"
   ]
  },
  {
   "cell_type": "code",
   "execution_count": null,
   "metadata": {},
   "outputs": [],
   "source": [
    "# from sklearn.ensemble import RandomForestRegressor\n",
    "# from sklearn.metrics import mean_absolute_error\n",
    "\n",
    "# forest_model = RandomForestRegressor(random_state=1)\n",
    "# forest_model.fit(train_X, train_y)\n",
    "# melb_preds = forest_model.predict(val_X)\n",
    "# print(mean_absolute_error(val_y, melb_preds))"
   ]
  }
 ],
 "metadata": {
  "language_info": {
   "name": "python"
  }
 },
 "nbformat": 4,
 "nbformat_minor": 2
}
