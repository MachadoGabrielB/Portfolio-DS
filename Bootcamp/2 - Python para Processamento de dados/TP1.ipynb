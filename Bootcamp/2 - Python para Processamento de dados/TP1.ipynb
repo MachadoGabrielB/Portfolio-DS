{
 "cells": [
  {
   "attachments": {},
   "cell_type": "markdown",
   "metadata": {},
   "source": [
    "#### TP 1.1 - Mensagem\n",
    "\n",
    "Exercício 1\n",
    "Escreva uma função chamada apresenta_mensagem que imprima uma frase dizendo o que você está achando de programar em Python.\n",
    "\n",
    "Chame a função e certifique-se de que a mensagem seja exibida corretamente."
   ]
  },
  {
   "cell_type": "code",
   "execution_count": null,
   "metadata": {},
   "outputs": [],
   "source": [
    "def apresenta_mensagem() :\n",
    " print('O que você está achando de programar em Python?') \n",
    "\n",
    "apresenta_mensagem()"
   ]
  },
  {
   "attachments": {},
   "cell_type": "markdown",
   "metadata": {},
   "source": [
    "### TP 1.2 - Livro Favorito\n",
    "\n",
    " Escreva uma função chamada livro_favorito que aceite um parâmetro, o título de um livro. A função deve imprimir uma mensagem como \"Um dos meus livros favoritos é <título>\".\n",
    "\n",
    "Chame a função pelo menos 2 vezes, certificando-se de incluir um título de livro diferente como argumento em cada chamada da função."
   ]
  },
  {
   "cell_type": "code",
   "execution_count": 4,
   "metadata": {},
   "outputs": [
    {
     "name": "stdout",
     "output_type": "stream",
     "text": [
      "\n",
      "Um dos meu livros favoritos é teste1.\n",
      "\n",
      "Um dos meu livros favoritos é teste2.\n"
     ]
    }
   ],
   "source": [
    "def livro_favorito(titulo) :\n",
    "    print(f'\\nUm dos meus livros favoritos é {titulo}.')\n",
    "\n",
    "livro_favorito('teste1')\n",
    "livro_favorito('teste2')\n"
   ]
  },
  {
   "attachments": {},
   "cell_type": "markdown",
   "metadata": {},
   "source": [
    "### TP 1.3 - Camiseta\n",
    "\n",
    "Escreva uma função chamada faz_camiseta que aceite um tamanho e o texto de uma mensagem que deve ser impressa na camiseta. A função deve imprimir uma frase descrevendo o tamanho da camiseta e a mensagem impressa nela.\n",
    "\n",
    "Chame a função uma vez usando argumentos posicionais para fazer uma camiseta.\n",
    "\n",
    "Chame a função uma 2ª vez usando argumentos keyword."
   ]
  },
  {
   "cell_type": "code",
   "execution_count": 5,
   "metadata": {},
   "outputs": [],
   "source": [
    "def faz_camiseta(tamanho,texto) :\n",
    "    print(f'\\nTamanho da camisa: {tamanho}. \\nMensagem a ser impressa: {texto}')"
   ]
  },
  {
   "cell_type": "code",
   "execution_count": 6,
   "metadata": {},
   "outputs": [
    {
     "name": "stdout",
     "output_type": "stream",
     "text": [
      "\n",
      "Tamanho da camisa: M. \n",
      "Mensagem a ser impressa: Seja feliz!\n"
     ]
    }
   ],
   "source": [
    "faz_camiseta('M','Seja feliz!')\n"
   ]
  },
  {
   "cell_type": "code",
   "execution_count": 8,
   "metadata": {},
   "outputs": [
    {
     "name": "stdout",
     "output_type": "stream",
     "text": [
      "\n",
      "Tamanho da camisa: M. \n",
      "Mensagem a ser impressa: Seja feliz!\n"
     ]
    }
   ],
   "source": [
    "tamanho = 'M'\n",
    "mensagem = 'Seja feliz!'\n",
    "\n",
    "faz_camiseta(texto = mensagem, tamanho = tamanho)"
   ]
  },
  {
   "cell_type": "markdown",
   "metadata": {},
   "source": [
    "## TP 1.4 - Camisetas Grandes\n",
    "\n",
    "Reescreva a função faz_camiseta (do Exercício 3) para que, por padrão, as camisetas sejam grandes e tenham a mensagem \"I ♡ Python\".\n",
    "\n",
    "Faça uma camiseta grande e uma camiseta média com a mensagem padrão, e uma camiseta de qualquer tamanho com uma mensagem diferente."
   ]
  },
  {
   "cell_type": "code",
   "execution_count": 17,
   "metadata": {},
   "outputs": [],
   "source": [
    "def faz_camiseta1(tamanho = 'G',texto = 'I ♡ Python') :\n",
    "        print(f'\\nTamanho da camisa: {tamanho}. \\nMensagem a ser impressa: {texto}')"
   ]
  },
  {
   "cell_type": "code",
   "execution_count": 18,
   "metadata": {},
   "outputs": [
    {
     "name": "stdout",
     "output_type": "stream",
     "text": [
      "\n",
      "Tamanho da camisa: G. \n",
      "Mensagem a ser impressa: I ♡ Python\n"
     ]
    }
   ],
   "source": [
    "faz_camiseta1()"
   ]
  },
  {
   "cell_type": "code",
   "execution_count": 19,
   "metadata": {},
   "outputs": [
    {
     "name": "stdout",
     "output_type": "stream",
     "text": [
      "\n",
      "Tamanho da camisa: M. \n",
      "Mensagem a ser impressa: I ♡ Python\n"
     ]
    }
   ],
   "source": [
    "faz_camiseta1(tamanho = 'M')"
   ]
  },
  {
   "cell_type": "code",
   "execution_count": 20,
   "metadata": {},
   "outputs": [
    {
     "name": "stdout",
     "output_type": "stream",
     "text": [
      "\n",
      "Tamanho da camisa: p. \n",
      "Mensagem a ser impressa: Qualquer mensagem.\n"
     ]
    }
   ],
   "source": [
    "faz_camiseta1(tamanho = 'P', texto= 'Qualquer mensagem.')"
   ]
  },
  {
   "cell_type": "markdown",
   "metadata": {},
   "source": [
    "## TP 1.5 - Nomes de cidades\n",
    "\n",
    "Escreva uma função chamada cidade_pais que receba os nomes de uma cidade e seu país separadamente. A função deve retornar uma string formatada como no exemplo abaixo:\n",
    "\n",
    "\"Santiago, Chile\"\n",
    "\n",
    "Chame sua função com pelo menos três pares cidade-país e imprima os valores retornados."
   ]
  },
  {
   "cell_type": "code",
   "execution_count": 22,
   "metadata": {},
   "outputs": [],
   "source": [
    "def cidade_pais(cidade,pais):\n",
    "    print(f'\\n{cidade}, {pais}')"
   ]
  },
  {
   "cell_type": "code",
   "execution_count": 24,
   "metadata": {},
   "outputs": [
    {
     "name": "stdout",
     "output_type": "stream",
     "text": [
      "\n",
      "Vitória, Brasil\n"
     ]
    }
   ],
   "source": [
    "cidade_pais('Vitória','Brasil')"
   ]
  },
  {
   "cell_type": "code",
   "execution_count": 25,
   "metadata": {},
   "outputs": [
    {
     "name": "stdout",
     "output_type": "stream",
     "text": [
      "\n",
      "Vancouver, Canadá\n"
     ]
    }
   ],
   "source": [
    "cidade_pais('Vancouver','Canadá')"
   ]
  },
  {
   "cell_type": "code",
   "execution_count": 26,
   "metadata": {},
   "outputs": [
    {
     "name": "stdout",
     "output_type": "stream",
     "text": [
      "\n",
      "Dublin, Irlanda\n"
     ]
    }
   ],
   "source": [
    "cidade_pais('Dublin','Irlanda')"
   ]
  },
  {
   "cell_type": "markdown",
   "metadata": {},
   "source": [
    "## TP 1.6 - Documentação\n",
    "\n",
    "Analise o código no arquivo main.py para entender o funcionamento da função f.\n",
    "\n",
    "Documente a função f usando uma \"string de documentação\" (docstring). Sua documentação deve especificar:\n",
    "\n",
    "O significado de cada parâmetro e o tipo esperado do argumento correspondente.\n",
    "O que a função faz.\n",
    "O que a função retorna e o tipo do valor retornado.\n",
    "Inclua no programa uma chamada à função help para apresentar a documentação da função f."
   ]
  },
  {
   "cell_type": "code",
   "execution_count": 37,
   "metadata": {},
   "outputs": [
    {
     "data": {
      "text/plain": [
       "3"
      ]
     },
     "execution_count": 37,
     "metadata": {},
     "output_type": "execute_result"
    }
   ],
   "source": [
    "def f(a, b):\n",
    "    '''\n",
    "    Retorna a quantidade de vezes que o valor apareceu em uma lista.\n",
    "\n",
    "    inputs:\n",
    "\n",
    "    a: Lista a ser verificada pela função.\n",
    "    b: Valor a ser verificado e quantificado as aparições na lista.\n",
    "\n",
    "    outputs:\n",
    "\n",
    "    r: Valor resultante de aparições.\n",
    "    '''\n",
    "\n",
    "    r = 0\n",
    "    while b in a:\n",
    "        a.remove(b)\n",
    "        r += 1\n",
    "    return r\n",
    "\n",
    "v = [1]*5 + [2]*3 + [3]*4\n",
    "f(v, 2)"
   ]
  },
  {
   "cell_type": "code",
   "execution_count": 39,
   "metadata": {},
   "outputs": [
    {
     "name": "stdout",
     "output_type": "stream",
     "text": [
      "Help on function f in module __main__:\n",
      "\n",
      "f(a, b)\n",
      "    Retorna a quantidade de vezes que o valor apareceu em uma lista.\n",
      "    \n",
      "    inputs:\n",
      "    \n",
      "    a: Lista a ser verificada pela função.\n",
      "    b: Valor a ser verificado e quantificado as aparições na lista.\n",
      "    \n",
      "    outputs:\n",
      "    \n",
      "    r: Valor resultante de aparições.\n",
      "\n"
     ]
    }
   ],
   "source": [
    "help(f)"
   ]
  },
  {
   "cell_type": "markdown",
   "metadata": {},
   "source": [
    "## TP 1.7 - Nomes\n",
    "\n",
    "O pequeno Mirko gosta de digitar e muitas vezes fica entediado durante as aulas, e é por isso que seu professor lhe deu uma tarefa.\n",
    "\n",
    "Mirko deve redigitar um livro que contém N frases separadas por espaços. Neste livro, uma frase é uma sequência de uma ou mais palavras separadas por espaços, onde apenas o último caractere da última palavra é um sinal de pontuação (\".\", \"?\" ou \"!\"). O restante das palavras não contém sinais de pontuação.\n",
    "\n",
    "Palavras são sequências de caracteres, letras minúsculas ou maiúsculas do alfabeto (sem acentos), ou dígitos ou, excepcionalmente, um sinal de pontuação no final da última palavra da frase.\n",
    "\n",
    "Embora goste de digitar frases, Mirko não gosta de digitar nomes. Um nome é uma palavra que começa com uma letra maiúscula do alfabeto, enquanto o restante dos caracteres são letras minúsculas do alfabeto, exceto o último caractere, que pode ser um sinal de pontuação. Antes de decidir redigitar tudo, Mirko quer saber quantos nomes há em cada frase do livro. Escreva um programa para ajudá-lo!\n",
    "\n",
    "⚠️Observação: seu programa deve definir e usar funções apropriadas para a resolução do problema."
   ]
  }
 ],
 "metadata": {
  "kernelspec": {
   "display_name": "Python 3",
   "language": "python",
   "name": "python3"
  },
  "language_info": {
   "codemirror_mode": {
    "name": "ipython",
    "version": 3
   },
   "file_extension": ".py",
   "mimetype": "text/x-python",
   "name": "python",
   "nbconvert_exporter": "python",
   "pygments_lexer": "ipython3",
   "version": "3.11.4"
  },
  "orig_nbformat": 4
 },
 "nbformat": 4,
 "nbformat_minor": 2
}
