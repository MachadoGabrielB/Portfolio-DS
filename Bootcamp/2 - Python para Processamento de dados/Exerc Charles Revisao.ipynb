{
 "cells": [
  {
   "cell_type": "markdown",
   "metadata": {},
   "source": [
    "# Exercícios Revisão\n",
    "\n",
    "## https://wiki.python.org.br/ListaDeExercicios\n",
    "\n",
    "### Estrutura Sequencial - 13\n"
   ]
  },
  {
   "cell_type": "markdown",
   "metadata": {},
   "source": [
    "### # Tendo como dado de entrada a altura (h) de uma pessoa, construa um algoritmo que calcule seu peso ideal, utilizando as seguintes fórmulas:\n",
    "### Para homens: (72.7*h) - 58\n",
    "### Para mulheres: (62.1*h) - 44.7"
   ]
  },
  {
   "cell_type": "code",
   "execution_count": null,
   "metadata": {},
   "outputs": [],
   "source": [
    "def calc_alt(alt,sex):\n",
    "    if sex == 'M':\n",
    "        pi = (72.7 * alt) - 58\n",
    "        return pi\n",
    "    elif sex == 'F':\n",
    "        pi = (62.1 * alt) - 44.7\n",
    "        return pi\n",
    "    else:\n",
    "        print('Valor inválido.')\n",
    "        \n"
   ]
  },
  {
   "cell_type": "code",
   "execution_count": null,
   "metadata": {},
   "outputs": [],
   "source": [
    "print(calc_alt(1.70,'1'))"
   ]
  },
  {
   "cell_type": "code",
   "execution_count": null,
   "metadata": {},
   "outputs": [],
   "source": [
    "alt = float(input('Qual sua altura?'))\n",
    "sex = input('Digite \"F\" para sexo feminino e \"M\" para sexo masculino.')\n",
    "\n",
    "calc_alt(alt,sex)\n"
   ]
  },
  {
   "cell_type": "markdown",
   "metadata": {},
   "source": [
    "### Estrutura de decisão, exerc. 18\n",
    "\n",
    "### Faça um Programa que peça uma data no formato dd/mm/aaaa e determine se a mesma é uma data válida."
   ]
  },
  {
   "cell_type": "code",
   "execution_count": 47,
   "metadata": {},
   "outputs": [],
   "source": [
    "def check_format_date(date):\n",
    "    \n",
    "    date1 = date.split('/')\n",
    "    \n",
    "    # counter = 0\n",
    "    # for i in date1:\n",
    "    #     i = int(i)\n",
    "    #     date1[counter] = i\n",
    "    #     counter += 1\n",
    "\n",
    "    # verificando se o formato do ano está correto\n",
    "    if len(date1[2]) != 4:\n",
    "        return False\n",
    "    \n",
    "    # transformando data string para inteiro\n",
    "    for i in range(len(date1)): \n",
    "        date1[i] = int(date1[i])\n",
    "    \n",
    "    #verificando se o ano é bissexto\n",
    "    b_ano = False\n",
    "\n",
    "    if (date1[2] % 4 == 0) and (date1[2] % 100 != 0 ):\n",
    "        b_ano = True\n",
    "    elif (date1[2] % 400 == 0 ):\n",
    "        b_ano = True\n",
    "    \n",
    "    # verificando se o valor do mês é válido\n",
    "    if date1[1] not in range(0,13): \n",
    "        return False\n",
    "    \n",
    "    list_month1 = [1,3,5,7,8,10,12] # dias 1 - 31\n",
    "    list_month2 = [4,6,9,11] # dias 1 - 30\n",
    "    list_month3 = [2] # dias 1 - 29\n",
    "    \n",
    "    # verificando se o dia está correto em função do mês\n",
    "    if date1[1] in list_month1: \n",
    "        if date1[0] not in range(1,32):\n",
    "            return False\n",
    "    if date1[1] in list_month2:\n",
    "        if date1[0] not in range(1,31):\n",
    "            return False\n",
    "    if date1[1] in list_month3:\n",
    "        if b_ano:\n",
    "            if date1[0] not in range(1,30):\n",
    "                return False\n",
    "        else:\n",
    "            if date1[0] not in range(1,29):\n",
    "                return False\n",
    "    \n",
    "\n",
    "    return True\n"
   ]
  },
  {
   "cell_type": "code",
   "execution_count": 55,
   "metadata": {},
   "outputs": [
    {
     "data": {
      "text/plain": [
       "False"
      ]
     },
     "execution_count": 55,
     "metadata": {},
     "output_type": "execute_result"
    }
   ],
   "source": [
    "check_format_date('29/02/00504')"
   ]
  },
  {
   "cell_type": "code",
   "execution_count": 1,
   "metadata": {},
   "outputs": [
    {
     "name": "stdout",
     "output_type": "stream",
     "text": [
      "['12', '10', '2020']\n"
     ]
    }
   ],
   "source": [
    "test1 = '12/10/2020'\n",
    "test2 = test1.split('/')\n",
    "print(test2)"
   ]
  },
  {
   "cell_type": "markdown",
   "metadata": {},
   "source": [
    "### Como saber se o ano é Bixesto ou não?\n",
    "Para saber se um ano é bissexto existe uma regra básica: os anos bissextos são aqueles múltiplos de 4, ou seja, a cada quatro anos temos um ano bissexto. Por outro lado, esses anos não são múltiplos de 100 (por exemplo,1800, 1900, 2100), exceto os múltiplos de 400 (por exemplo, 1600, 2000, 2400)."
   ]
  },
  {
   "cell_type": "code",
   "execution_count": 37,
   "metadata": {},
   "outputs": [
    {
     "name": "stdout",
     "output_type": "stream",
     "text": [
      "False\n"
     ]
    }
   ],
   "source": [
    "date1 = [12,10,2023]\n",
    "#verificando se o ano é bissexto\n",
    "b_ano = False\n",
    "\n",
    "if (date1[2] % 4 == 0) and (date1[2] % 100 != 0 ):\n",
    "    b_ano = True\n",
    "elif (date1[2] % 400 == 0 ):\n",
    "    b_ano = True\n",
    "    \n",
    "print(b_ano)"
   ]
  },
  {
   "cell_type": "code",
   "execution_count": 58,
   "metadata": {},
   "outputs": [],
   "source": [
    "class bola:\n",
    "\n",
    "    # cor , circunferência, material\n",
    "\n",
    "    def __init__(self, cor, circ, mat) :\n",
    "        self.cor = cor\n",
    "        self.circ = circ\n",
    "        self.mat = mat\n",
    "\n",
    "    # trocar cor \n",
    "\n",
    "    def troca_cor(self,nova_cor) :\n",
    "        self.cor = nova_cor\n",
    "\n",
    "    # mostra cor\n",
    "\n",
    "    def mostra_cor(self) :\n",
    "        print(f'A cor é {self.cor}!')"
   ]
  },
  {
   "cell_type": "code",
   "execution_count": 59,
   "metadata": {},
   "outputs": [],
   "source": [
    "minha_bola = bola('verde',1.10,'plástico')"
   ]
  },
  {
   "cell_type": "code",
   "execution_count": 60,
   "metadata": {},
   "outputs": [
    {
     "name": "stdout",
     "output_type": "stream",
     "text": [
      "A cor é verde!\n"
     ]
    }
   ],
   "source": [
    "minha_bola.mostra_cor()"
   ]
  },
  {
   "cell_type": "code",
   "execution_count": 61,
   "metadata": {},
   "outputs": [],
   "source": [
    "minha_bola.troca_cor('amarelo')"
   ]
  },
  {
   "cell_type": "code",
   "execution_count": 62,
   "metadata": {},
   "outputs": [
    {
     "name": "stdout",
     "output_type": "stream",
     "text": [
      "A cor é amarelo!\n"
     ]
    }
   ],
   "source": [
    "minha_bola.mostra_cor()"
   ]
  }
 ],
 "metadata": {
  "kernelspec": {
   "display_name": "Python 3",
   "language": "python",
   "name": "python3"
  },
  "language_info": {
   "codemirror_mode": {
    "name": "ipython",
    "version": 3
   },
   "file_extension": ".py",
   "mimetype": "text/x-python",
   "name": "python",
   "nbconvert_exporter": "python",
   "pygments_lexer": "ipython3",
   "version": "3.11.4"
  },
  "orig_nbformat": 4
 },
 "nbformat": 4,
 "nbformat_minor": 2
}
