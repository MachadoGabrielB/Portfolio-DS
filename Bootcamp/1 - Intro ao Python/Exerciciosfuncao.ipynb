{
 "cells": [
  {
   "cell_type": "code",
   "execution_count": null,
   "metadata": {},
   "outputs": [],
   "source": [
    "# Faça um programa, com uma função que necessite de três argumentos, e que forneça a soma desses três argumentos."
   ]
  },
  {
   "cell_type": "code",
   "execution_count": null,
   "metadata": {},
   "outputs": [],
   "source": [
    "def pg1 () :\n",
    "    listArg = []\n",
    "    \n",
    "    a = 0\n",
    "    while a <= 2 :\n",
    "        a += 1\n",
    "        arg = input('Insira o número: ')\n",
    "        listArg.append(arg)\n",
    "    \n",
    "    sumArg = 0\n",
    "    for b in range(len(listArg)) :\n",
    "        sumArg = sumArg + float(listArg[b])\n",
    "\n",
    "    print(listArg)\n",
    "    print(f'A soma dos números é {sumArg}')\n",
    "    \n",
    "pg1()\n"
   ]
  },
  {
   "cell_type": "code",
   "execution_count": null,
   "metadata": {},
   "outputs": [],
   "source": [
    "# Faça um programa, com uma função que necessite de um argumento. A função retorna o valor de caractere ‘P’, se seu argumento for positivo, e ‘N’, se seu argumento for zero ou negativo."
   ]
  },
  {
   "cell_type": "code",
   "execution_count": null,
   "metadata": {},
   "outputs": [],
   "source": [
    "def pg2() :\n",
    "    arg1 = float(input('Insira um valor: '))\n",
    "    if arg1 > 0 :\n",
    "        print('P')\n",
    "    else:\n",
    "        print('N')\n",
    "\n",
    "pg2()"
   ]
  },
  {
   "cell_type": "code",
   "execution_count": null,
   "metadata": {},
   "outputs": [],
   "source": [
    "# Faça um programa que use a função valorPagamento para determinar o valor a ser pago por uma prestação de uma conta. \n",
    "# O programa deverá solicitar ao usuário o valor da prestação e o número de dias em atraso e passar estes valores para a função valorPagamento, \n",
    "# que calculará o valor a ser pago e devolverá este valor ao programa que a chamou. O programa deverá então exibir o valor a ser pago na tela. \n",
    "# Após a execução o programa deverá voltar a pedir outro valor de prestação e assim continuar até que seja informado um valor igual a zero para a prestação. \n",
    "# Neste momento o programa deverá ser encerrado, exibindo o relatório do dia, que conterá a quantidade e o valor total de prestações pagas no dia. \n",
    "#O cálculo do valor a ser pago é feito da seguinte forma. Para pagamentos sem atraso, cobrar o valor da prestação. \n",
    "#Quando houver atraso, cobrar 3% de multa, mais 0,1% de juros por dia de atraso."
   ]
  },
  {
   "cell_type": "code",
   "execution_count": null,
   "metadata": {},
   "outputs": [],
   "source": [
    "def valorPagamento(a,b) :\n",
    "    a = a + a * ( 0.03 + b * 0.001)\n",
    "    return a\n",
    "    \n",
    "# valorPrestacao = float(input('Qual o valor da prestação? '))\n",
    "# diasAtraso = int(input('Qual a quantida de dias em atraso? '))\n",
    "\n",
    "# valorPagamento(valorPrestacao,diasAtraso)\n",
    "\n",
    "# Não dá para finalizar o exercício pois o enunciado está confuso e falta informação.\n",
    "\n",
    "saldoPagamento = float(input('Inserir o valor total do saldo a pagar: '))\n",
    "\n"
   ]
  }
 ],
 "metadata": {
  "kernelspec": {
   "display_name": "Python 3",
   "language": "python",
   "name": "python3"
  },
  "language_info": {
   "codemirror_mode": {
    "name": "ipython",
    "version": 3
   },
   "file_extension": ".py",
   "mimetype": "text/x-python",
   "name": "python",
   "nbconvert_exporter": "python",
   "pygments_lexer": "ipython3",
   "version": "3.11.3"
  },
  "orig_nbformat": 4
 },
 "nbformat": 4,
 "nbformat_minor": 2
}
