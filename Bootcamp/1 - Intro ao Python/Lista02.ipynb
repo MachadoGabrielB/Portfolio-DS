{
  "cells": [
    {
      "attachments": {},
      "cell_type": "markdown",
      "metadata": {
        "colab_type": "text",
        "id": "view-in-github"
      },
      "source": [
        "<a href=\"https://colab.research.google.com/github/CharlesPrado23/Bootcamp_TurmaNoite/blob/main/Conteudo_02/Lista_2.ipynb\" target=\"_parent\"><img src=\"https://colab.research.google.com/assets/colab-badge.svg\" alt=\"Open In Colab\"/></a>"
      ]
    },
    {
      "attachments": {},
      "cell_type": "markdown",
      "metadata": {
        "id": "wqFIo-c2mOYV"
      },
      "source": [
        "1) Dado a lista, abaixo, de temperaturas da cidade de Boulder em Fahrenheit (F):\n",
        "\n",
        " 1.1) Crie uma lista convertendo para Celsius (C). Para converter use a fórmula C = (F-32)*(5/9); Print os valores na tela. \n",
        " \n",
        " 1.2) Crie uma função que receba a lista de temperaturas em Fahrenheit e retorna uma lista em graus Celsius. Print a lista na tela. \n",
        "\n",
        " 1.3) **(Desafio)** Generalize a função criada em 1.2 usando *args para que a função receba  uma quantidade variável de argumentos.\n",
        " \n",
        "\n",
        " F = [47,49,57,64,72,83,89,87,79,67,55,47]; (Temperaturas em F da cidade de Boulder)"
      ]
    },
    {
      "cell_type": "code",
      "execution_count": null,
      "metadata": {},
      "outputs": [],
      "source": [
        "# GRUPO DO TRABALHO\n",
        "\n",
        "# Gabriel Angelo Bassetti Machado \n",
        "\n",
        "# Daniel José Barcelos de Rhamnusia\n",
        "\n",
        "# Maria Eduarda Gomes Ferreira"
      ]
    },
    {
      "cell_type": "code",
      "execution_count": null,
      "metadata": {},
      "outputs": [],
      "source": [
        "# 1.1\n",
        "\n",
        "F = [47,49,57,64,72,83,89,87,79,67,55,47]; # (Temperaturas em F da cidade de Boulder)\n",
        "C = []\n",
        "\n",
        "for x in F :\n",
        "    y = round((x-32)*(5/9), 2)\n",
        "    C.append(y)\n"
      ]
    },
    {
      "cell_type": "code",
      "execution_count": null,
      "metadata": {},
      "outputs": [],
      "source": [
        "print(F)"
      ]
    },
    {
      "cell_type": "code",
      "execution_count": null,
      "metadata": {},
      "outputs": [],
      "source": [
        "C"
      ]
    },
    {
      "cell_type": "code",
      "execution_count": null,
      "metadata": {},
      "outputs": [],
      "source": [
        "#1.2\n",
        "\n",
        "def celToFir(t) :\n",
        "    C = []\n",
        "\n",
        "    for x in t :\n",
        "        y = (x-32)*(5/9)\n",
        "        C.append(y)\n",
        "    return C"
      ]
    },
    {
      "cell_type": "code",
      "execution_count": null,
      "metadata": {},
      "outputs": [],
      "source": [
        "A = celToFir(F)\n",
        "A"
      ]
    },
    {
      "cell_type": "code",
      "execution_count": null,
      "metadata": {},
      "outputs": [],
      "source": [
        "# 1.3\n",
        "\n",
        "def celToFir1(*t) : # tipo de função normalmente utilizada quando se cria para uso geral da comunidade\n",
        "    C = []\n",
        "\n",
        "    for x in t :\n",
        "        y = (x-32)*(5/9)\n",
        "        C.append(y)\n",
        "    return C"
      ]
    },
    {
      "cell_type": "code",
      "execution_count": null,
      "metadata": {},
      "outputs": [],
      "source": [
        "# from datetime import date , biblioteca usada no python para datas  \n",
        "\n",
        "B = celToFir1(F[0],F[1],30,50,60) # você adiciona os argumentos dentro do () , valores da lista F e valores inseridos manualmente\n",
        "B"
      ]
    },
    {
      "attachments": {},
      "cell_type": "markdown",
      "metadata": {
        "id": "G7x5Wph8xXrU"
      },
      "source": [
        "2) Retirado do Livro Python Crash Course\n",
        " \n",
        "(a) Make a class called User. \n",
        "\n",
        "(b) Create two attributes called first_name and last_name, and then create several other attributes that are typically stored in a user profile. \n",
        "\n",
        "(c) Make a method called describe_user() that prints a summary of the user’s information. \n",
        "\n",
        "(d) Make another method called greet_user() that prints a personalized greeting to the user."
      ]
    },
    {
      "attachments": {},
      "cell_type": "markdown",
      "metadata": {
        "id": "mWlXunh5G32H"
      },
      "source": [
        "(e) Add an attribute called login_attempts to your User class from Exercise. \n",
        "\n",
        "(f) Write a method called increment_login_attempts() that increments the value of login_attempts by 1. \n",
        "\n",
        "(g) Write another method called reset_login_attempts() that resets the value of login_attempts to 0.\n",
        "\n",
        "(h) Make an instance of the User class and call increment_login_attempts() several times. \n",
        "\n",
        "(i) Print the value of login_attempts to make sure it was incremented properly, and then call reset_login_attempts(). \n",
        "\n",
        "(j) Print login_attempts again to make sure it was reset to 0."
      ]
    },
    {
      "cell_type": "code",
      "execution_count": null,
      "metadata": {},
      "outputs": [],
      "source": [
        "def CPF1(teste) :\n",
        "    if len(teste) < 11:\n",
        "        teste = teste.zfill(11)\n",
        "    cpf = '{}.{}.{}-{}'.format(teste[:3], teste[3:6], teste[6:9], teste[9:])\n",
        "    print(cpf) # 123.456.789-00"
      ]
    },
    {
      "cell_type": "code",
      "execution_count": null,
      "metadata": {},
      "outputs": [],
      "source": [
        "CPF1(str(12312312312))"
      ]
    },
    {
      "cell_type": "code",
      "execution_count": null,
      "metadata": {
        "id": "AruFBhDGisIm"
      },
      "outputs": [],
      "source": [
        "class user :\n",
        "        \n",
        "    def __init__(self, fName, lName, CPF) :\n",
        "        self.fName = fName\n",
        "        self.lName = lName\n",
        "        self.CPF = str(CPF)\n",
        "    \n",
        "    def others_atrib(self, email, age, phone, adr) :\n",
        "        self.email = email\n",
        "        self.age = age\n",
        "        self.phone = phone\n",
        "        self.adr = adr\n",
        "\n",
        "    def CPF1(self) :\n",
        "        if len(self.CPF) < 11:\n",
        "            self.CPF =(self.CPF).zfill(11)\n",
        "        self.CPF = '{}.{}.{}-{}'.format(self.CPF[:3],self.CPF[3:6],self.CPF[6:9],self.CPF[9:])\n",
        "    \n",
        "    def describe_user(self) :\n",
        "        self.CPF1()\n",
        "        print(f'\\nFirst name : {self.fName}\\nLast name: {self.lName}\\nCPF: {self.CPF}')\n",
        "\n",
        "    def greet_user(self) :\n",
        "        print(f'Welcome {self.lName}!')\n",
        "\n",
        "    \n"
      ]
    },
    {
      "cell_type": "code",
      "execution_count": null,
      "metadata": {},
      "outputs": [],
      "source": [
        "A = user('Gabriel','Machado',12312312300)"
      ]
    },
    {
      "cell_type": "code",
      "execution_count": null,
      "metadata": {},
      "outputs": [],
      "source": [
        "user.describe_user(A)"
      ]
    },
    {
      "cell_type": "code",
      "execution_count": null,
      "metadata": {},
      "outputs": [],
      "source": [
        "user.greet_user(A)"
      ]
    },
    {
      "cell_type": "code",
      "execution_count": null,
      "metadata": {},
      "outputs": [],
      "source": [
        "# 2 (e) , (f), (g)\n",
        "\n",
        "class login_attempts(user):\n",
        "\n",
        "    def __init__(self, fName, lName, CPF):\n",
        "      ##\"\"\"Initialize attributes of the parent class.\"\"\"\n",
        "      super().__init__(fName, lName, CPF)\n",
        "      self.log_reading = 0\n",
        "\n",
        "    def login_attempts(self) :\n",
        "       self.log_reading += 1\n",
        "    \n",
        "    def reset_login_attempts(self) :\n",
        "       self.log_reading = 0\n",
        "\n",
        "   "
      ]
    },
    {
      "cell_type": "code",
      "execution_count": null,
      "metadata": {},
      "outputs": [],
      "source": [
        "B = login_attempts('Tomas', \"Aquino\", 12312312312)\n"
      ]
    },
    {
      "cell_type": "code",
      "execution_count": null,
      "metadata": {},
      "outputs": [],
      "source": [
        "#2 (h) , (i)\n",
        "\n",
        "login_attempts.login_attempts(B)\n",
        "B.log_reading"
      ]
    },
    {
      "cell_type": "code",
      "execution_count": null,
      "metadata": {},
      "outputs": [],
      "source": [
        "# 2 (i) , (j)\n",
        "\n",
        "login_attempts.reset_login_attempts(B)\n",
        "B.log_reading"
      ]
    },
    {
      "attachments": {},
      "cell_type": "markdown",
      "metadata": {},
      "source": [
        "3) Usando o e-book 'Alice’s Adventures in Wonderland' contido em Alice.txt: \n",
        "\n",
        "(a) Faça um programa que retorne o número total de palavras contidas no e-book; \n",
        "\n",
        "(b) Um programa que retorne um dicionário contendo a frequência de cada palavra. Por exemplo: se a palavra 'guerra' aparece 10 vezes em um texto que contém 50 palavras, então a frequência da palavra 'guerra' é de 20%. \n",
        "\n",
        "(c) Retorne as 20 palavras mais frequentes do e-book; \n"
      ]
    },
    {
      "cell_type": "code",
      "execution_count": null,
      "metadata": {},
      "outputs": [],
      "source": [
        "preposo = ['aboard','about','above','across','after','against','along','amid','among','anti','around','as','at','before','behind','below','beneath','beside','besides','between','beyond','but','by','concerning','considering','despite','down','during','except','excepting','excluding','following','for','from','in','inside','into','like','minus', 'near', 'of', 'off', 'on', 'onto', 'opposite', 'outside', 'over', 'past', 'per', 'plus', 'regarding', 'round', 'save', 'since', 'than', 'through', 'to', 'toward', 'towards', 'under', 'underneath', 'unlike', 'until', 'up', 'upon', 'versus', 'via', 'with', 'within', 'without']\n",
        "artic = ['the', 'a', 'an', 'some', 'any', 'this', 'that', 'these', 'those']"
      ]
    },
    {
      "cell_type": "code",
      "execution_count": null,
      "metadata": {},
      "outputs": [],
      "source": [
        "# 3 (a) contar as palavras com o split"
      ]
    },
    {
      "cell_type": "code",
      "execution_count": null,
      "metadata": {},
      "outputs": [],
      "source": [
        "fileName = 'C:/Users/Gabriel-PC/Bootcamp-Data-science/teste/teste.txt'\n",
        "\n",
        "# C:/Users/Gabriel-PC/Bootcamp-Data-science/teste/teste.txt\n",
        "\n",
        "# 'C:/Users/Gabriel-PC/Bootcamp-Data-science/Bootcamp_TurmaNoite/Conteudo_02/Alice.txt'\n"
      ]
    },
    {
      "cell_type": "code",
      "execution_count": null,
      "metadata": {},
      "outputs": [],
      "source": []
    },
    {
      "cell_type": "code",
      "execution_count": null,
      "metadata": {},
      "outputs": [],
      "source": [
        "with open(fileName, 'r') as reader:\n",
        "\n",
        "  listlivro =[]\n",
        "  line = reader.readline()\n",
        "  line2 = line.split()\n",
        "  for a in line2 :\n",
        "    listlivro.append(a)\n",
        "  while line != '':  # The EOF char is an empty string\n",
        "    line = reader.readline()\n",
        "    line2 = line.split()\n",
        "    for a in line2 :\n",
        "      listlivro.append(a)\n",
        "  # print(line)\n",
        "  print(len(listlivro))\n"
      ]
    },
    {
      "cell_type": "code",
      "execution_count": null,
      "metadata": {},
      "outputs": [],
      "source": [
        "with open(fileName, 'r') as reader:\n",
        "  # Read and print the entire file line by line\n",
        "  listlivro1 =[]\n",
        "  line = reader.readlines()\n",
        "  for x in line :\n",
        "    line3 = x.lower()\n",
        "    line4 = line3.split()\n",
        "    for palavra in line4 :\n",
        "        listlivro1.append(palavra)\n",
        "  print(len(listlivro1))\n",
        "  print(listlivro1)"
      ]
    },
    {
      "cell_type": "code",
      "execution_count": null,
      "metadata": {},
      "outputs": [],
      "source": [
        "# 3 (b) , usar o .get do dict"
      ]
    },
    {
      "cell_type": "code",
      "execution_count": null,
      "metadata": {},
      "outputs": [],
      "source": [
        "dict_palavra = {}\n",
        "totalPalavra = len(listlivro1)\n",
        "\n",
        "for y in listlivro1 :\n",
        "    if y not in dict_palavra :\n",
        "        dict_palavra[y] = ( 1 / totalPalavra) * 100\n",
        "    else :\n",
        "        dict_palavra[y] += (1 / totalPalavra) * 100\n",
        "\n",
        "print(dict_palavra)\n",
        "print(len(dict_palavra))"
      ]
    },
    {
      "cell_type": "code",
      "execution_count": null,
      "metadata": {},
      "outputs": [],
      "source": [
        "# 3 (c) orientação/ordem do dicionário através de valor/recorrência.\n",
        "\n",
        "# a função lambda está falando que a orientação do sorted não será a chave, isso o valor que é a posição 1.\n",
        "\n",
        "ranking_p = sorted(dict_palavra.items(), key = lambda x: x[1], reverse=True)\n",
        "ranking_p\n"
      ]
    },
    {
      "cell_type": "code",
      "execution_count": null,
      "metadata": {},
      "outputs": [],
      "source": [
        "print(ranking_p[:20])"
      ]
    },
    {
      "attachments": {},
      "cell_type": "markdown",
      "metadata": {
        "id": "xos0ytAnitKk"
      },
      "source": [
        "4) Refaça o exercício usando o conceito de Classe e Objeto. A sua Classe deve ser aplicada a qualquer contexto, não somente ao problema acima. De forma que ela seja genérica. Cada método deve representar uma única ação do Objeto e não, especificamente, uma função que executa diversas ações. Pensem em ações atômicas. Boa sorte !"
      ]
    },
    {
      "cell_type": "code",
      "execution_count": null,
      "metadata": {},
      "outputs": [],
      "source": []
    },
    {
      "cell_type": "code",
      "execution_count": null,
      "metadata": {},
      "outputs": [],
      "source": [
        "class leitor_livros :\n",
        "\n",
        "    def __init__(self, localFile) :\n",
        "        self.localFile = localFile\n",
        "\n",
        "    \n",
        "    def openFile(self) :\n",
        "        with open(self.localFile, 'r') as reader :\n",
        "            self.lines = reader.readlines()\n",
        "            \n",
        "\n",
        "    def words(self) :\n",
        "        self.wordss = []\n",
        "        for x in self.lines :\n",
        "            line3 = x.lower()\n",
        "            line4 = line3.split()\n",
        "            for palavra in line4 :\n",
        "                self.wordss.append(palavra)\n",
        "        # return self.wordss\n",
        "        \n",
        "    def count_words(self) :\n",
        "        return f'The document has {len(self.wordss)} words.'\n",
        "    \n",
        "    def count_repeat_words(self) :\n",
        "        self.dict_words = {}\n",
        "        totalWords = len(self.wordss)\n",
        "        for y in self.wordss :\n",
        "            if y not in self.dict_words :\n",
        "                self.dict_words[y] = ( 1 / totalWords) * 100\n",
        "            else :\n",
        "                self.dict_words[y] += (1 / totalWords) * 100\n",
        "        return self.dict_words\n",
        "    \n",
        "    def ranking_words(self) :\n",
        "        self.rankingw = sorted(self.dict_words.items(), key = lambda x: x[1], reverse=True)\n",
        "        return self.rankingw\n"
      ]
    },
    {
      "cell_type": "code",
      "execution_count": null,
      "metadata": {},
      "outputs": [],
      "source": [
        "XY = leitor_livros('C:/Users/Gabriel-PC/Bootcamp-Data-science/Bootcamp_TurmaNoite/Conteudo_02/Text.txt')\n"
      ]
    },
    {
      "cell_type": "code",
      "execution_count": null,
      "metadata": {},
      "outputs": [],
      "source": [
        "XY.openFile()"
      ]
    },
    {
      "cell_type": "code",
      "execution_count": null,
      "metadata": {},
      "outputs": [],
      "source": [
        "XY.words()"
      ]
    },
    {
      "cell_type": "code",
      "execution_count": null,
      "metadata": {},
      "outputs": [],
      "source": [
        "XY.count_words()"
      ]
    },
    {
      "cell_type": "code",
      "execution_count": null,
      "metadata": {},
      "outputs": [],
      "source": [
        "XY.count_repeat_words()"
      ]
    },
    {
      "cell_type": "code",
      "execution_count": null,
      "metadata": {},
      "outputs": [],
      "source": [
        "XY.ranking_words()"
      ]
    },
    {
      "attachments": {},
      "cell_type": "markdown",
      "metadata": {
        "id": "h5BWhASylUhr"
      },
      "source": [
        "5) Repare que palavras como 'it' e 'it,' serão contabilizados como palavras diferentes por causa da pontuação. Pense em uma forma de se remover possíveis pontuações. Outro caso é 'The' e 'the', que também será processado como palavras diferentes, como resolver isso ? Observe outras situações similares que precisariam de algum pré-processamento.\n",
        "\n",
        " Outro ponto a se observar é que a quantidade de palavras que são artigos, preposições, por exemplos, são muito comuns em textos. Se queremos fazer um análise de relevância de palavras presentes em textos,devemos ou não considerar estes tipos de palavras ?  "
      ]
    },
    {
      "cell_type": "code",
      "execution_count": null,
      "metadata": {},
      "outputs": [],
      "source": [
        "# ORIGINAL - NÃO MEXER\n",
        "\n",
        "from string import punctuation\n",
        "\n",
        "class leitor_livros :\n",
        "\n",
        "    def __init__(self, localFile) :\n",
        "        self.localFile = localFile\n",
        "\n",
        "    \n",
        "    def openFile(self) :\n",
        "        with open(self.localFile, 'r') as reader :\n",
        "            self.lines = reader.readlines()\n",
        "            \n",
        "\n",
        "    def words(self) :\n",
        "        self.wordss = []\n",
        "        for x in self.lines :\n",
        "            line3 = x.lower()\n",
        "            line4 = line3.split()  \n",
        "            line5 = [palavra for palavra in line4 if palavra[-1] not in punctuation]        \n",
        "            for palavra in line4 :\n",
        "                if palavra[-1] in punctuation :\n",
        "                    palavra = palavra[:-1]\n",
        "            self.wordss.append(palavra)\n",
        "        return self.wordss, line5\n",
        "        \n",
        "    def count_words(self) :\n",
        "        return f'The document has {len(self.wordss)} words.'\n",
        "    \n",
        "    def count_repeat_words(self) :\n",
        "        self.dict_words = {}\n",
        "        totalWords = len(self.wordss)\n",
        "        for y in self.wordss :\n",
        "            if y not in self.dict_words :\n",
        "                self.dict_words[y] = ( 1 / totalWords) * 100\n",
        "            else :\n",
        "                self.dict_words[y] += (1 / totalWords) * 100\n",
        "        return self.dict_words\n",
        "    \n",
        "    def ranking_words(self) :\n",
        "        self.rankingw = sorted(self.dict_words.items(), key = lambda x: x[1], reverse=True)\n",
        "        return self.rankingw\n"
      ]
    },
    {
      "cell_type": "code",
      "execution_count": null,
      "metadata": {},
      "outputs": [],
      "source": [
        "# CAMPO DE TESTE\n",
        "\n",
        "from string import punctuation\n",
        "\n",
        "class leitor_livros :\n",
        "\n",
        "    def __init__(self, localFile:str) :\n",
        "        self.localFile = localFile\n",
        "\n",
        "    \n",
        "    def openFile(self) :\n",
        "        with open(self.localFile, 'r') as reader :\n",
        "            self.lines = reader.readlines()\n",
        "        return self.lines\n",
        "            \n",
        "\n",
        "    def words(self) :\n",
        "        self.wordss = []\n",
        "        for x in self.lines :\n",
        "            line3 = x.lower()\n",
        "            line4 = line3.split()\n",
        "            line5 = [palavra for palavra in line4 if palavra[-1] not in punctuation]        \n",
        "            for palavra in line4 :\n",
        "                if palavra[-1] in punctuation :\n",
        "                    palavra = palavra[:-1]\n",
        "            self.wordss.append(palavra)\n",
        "        return self.wordss,line5\n",
        "        \n",
        "    def count_words(self) :\n",
        "        return f'The document has {len(self.wordss)} words.'\n",
        "    \n",
        "    def count_repeat_words(self) :\n",
        "        self.dict_words = {}\n",
        "        totalWords = len(self.wordss)\n",
        "        for y in self.wordss :\n",
        "            if y not in self.dict_words :\n",
        "                self.dict_words[y] = ( 1 / totalWords) * 100\n",
        "            else :\n",
        "                self.dict_words[y] += (1 / totalWords) * 100\n",
        "        return self.dict_words\n",
        "    \n",
        "    def ranking_words(self) :\n",
        "        #tirando preposições e artigos\n",
        "        list_remov = []\n",
        "        for w in preposo :\n",
        "            if w in self.dict_words :\n",
        "                list_remov.append(w)\n",
        "                self.dict_words.pop(w)\n",
        "        for z in artic :\n",
        "            if z in self.dict_words :\n",
        "                list_remov.append(z)\n",
        "                self.dict_words.pop(z)\n",
        "\n",
        "        #\n",
        "        self.rankingw = sorted(self.dict_words.items(), key = lambda x: x[1], reverse=True)\n",
        "        return self.rankingw"
      ]
    },
    {
      "cell_type": "code",
      "execution_count": null,
      "metadata": {},
      "outputs": [],
      "source": [
        "BOMBA = leitor_livros('C:/Users/Gabriel-PC/Bootcamp-Data-science/Bootcamp_TurmaNoite/Conteudo_02/Alice.txt')\n"
      ]
    },
    {
      "cell_type": "code",
      "execution_count": null,
      "metadata": {},
      "outputs": [],
      "source": [
        "testenopha = BOMBA.openFile()"
      ]
    },
    {
      "cell_type": "code",
      "execution_count": null,
      "metadata": {},
      "outputs": [],
      "source": [
        "a,b = BOMBA.words()\n",
        "len(a),len(b)"
      ]
    },
    {
      "cell_type": "code",
      "execution_count": null,
      "metadata": {},
      "outputs": [],
      "source": [
        "BOMBA.words()"
      ]
    },
    {
      "cell_type": "code",
      "execution_count": null,
      "metadata": {},
      "outputs": [],
      "source": [
        "BOMBA.count_words()"
      ]
    },
    {
      "cell_type": "code",
      "execution_count": null,
      "metadata": {},
      "outputs": [],
      "source": [
        "BOMBA.count_repeat_words()"
      ]
    },
    {
      "cell_type": "code",
      "execution_count": null,
      "metadata": {},
      "outputs": [],
      "source": [
        "BOMBA.ranking_words()"
      ]
    },
    {
      "cell_type": "code",
      "execution_count": null,
      "metadata": {},
      "outputs": [],
      "source": [
        "# import re"
      ]
    },
    {
      "cell_type": "code",
      "execution_count": null,
      "metadata": {},
      "outputs": [],
      "source": [
        "# testee = []\n",
        "# teste = \"\"\n",
        "\n",
        "# for j in testenopha :\n",
        "#     j = re.sub(r\"[^\\w]\",\"\",j)\n",
        "#     teste += j\n",
        "#     testee.append(teste)\n"
      ]
    },
    {
      "cell_type": "code",
      "execution_count": null,
      "metadata": {},
      "outputs": [],
      "source": [
        "# print(testee)"
      ]
    }
  ],
  "metadata": {
    "colab": {
      "authorship_tag": "ABX9TyPm5FEjF6NI024DGWEjxcWz",
      "include_colab_link": true,
      "provenance": []
    },
    "kernelspec": {
      "display_name": "Python 3",
      "name": "python3"
    },
    "language_info": {
      "codemirror_mode": {
        "name": "ipython",
        "version": 3
      },
      "file_extension": ".py",
      "mimetype": "text/x-python",
      "name": "python",
      "nbconvert_exporter": "python",
      "pygments_lexer": "ipython3",
      "version": "3.11.3"
    }
  },
  "nbformat": 4,
  "nbformat_minor": 0
}
