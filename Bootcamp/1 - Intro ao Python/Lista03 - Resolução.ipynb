{
 "cells": [
  {
   "cell_type": "code",
   "execution_count": null,
   "metadata": {},
   "outputs": [],
   "source": [
    "# Ler o arquivo 'starbucks.csv' de forma a ser contruir um dicionário, considerando: \n",
    "#   - Cada atributo (definido na 1a linha do arquivo) seja uma das chaves do dicionário\n",
    "#   - Armazenar os valores associados a cada chave e tratar o seu tipo\n",
    "#   - Realizar algumas verificações e 'visualizações': \n",
    "#     - Mostrar as 5 primeiras linhas do arquivo a partir do dicionário\n",
    "#     - Mostrar o tipo de dados associado a cada coluna\n",
    "#   - Crie uma função que retorne o valor máximo dos valores de um chave e teste para as colunas numéricas do dicionário \n",
    "#   (valor máximo da coluna)"
   ]
  },
  {
   "cell_type": "code",
   "execution_count": null,
   "metadata": {},
   "outputs": [],
   "source": [
    "localfile = 'C:/Users/Gabriel-PC/Bootcamp-Data-science/teste/starbucks.csv'"
   ]
  },
  {
   "cell_type": "code",
   "execution_count": null,
   "metadata": {},
   "outputs": [],
   "source": [
    "with open (localfile, 'r') as reader :\n",
    "\n",
    "    dict_file = {}\n",
    "    # lines = 1\n",
    "  \n",
    "    \n",
    "    atrib = reader.readline().split('\",\"')\n",
    "    # print(atrib)\n",
    "    atrib[7] = atrib[7].removesuffix('\"\\n')\n",
    "    atrib[0] = 'ID'\n",
    "    print(atrib)\n",
    "    for a in atrib :\n",
    "        dict_file.setdefault(a,[])\n",
    "    # print(dict_file)\n",
    "    # print(reader.readlines())\n",
    "    for line in reader.readlines() :\n",
    "        # print(line)\n",
    "        # print(line.replace('\"','').replace('\\n','').split(','))\n",
    "        line = line.replace('\"','').replace('\\n','').split(',')\n",
    "        for i in range(len(line)) :\n",
    "            \n",
    "            if i == 0 :\n",
    "                dict_file[atrib[i]].append(int(line[i]))\n",
    "            if i == 1 :\n",
    "                dict_file[atrib[i]].append(str(line[i]))\n",
    "            if i == 2 :\n",
    "                dict_file[atrib[i]].append(int(line[i]))\n",
    "            if i == 3 :\n",
    "                dict_file[atrib[i]].append(float(line[i]))\n",
    "            if i == 4 :\n",
    "                dict_file[atrib[i]].append(float(line[i]))\n",
    "            if i == 5 :\n",
    "                dict_file[atrib[i]].append(float(line[i]))\n",
    "            if i == 6 :\n",
    "                dict_file[atrib[i]].append(float(line[i]))\n",
    "            if i == 7 :\n",
    "                dict_file[atrib[i]].append(str(line[i]))\n",
    "\n",
    "    \n",
    "    print(dict_file)"
   ]
  },
  {
   "cell_type": "code",
   "execution_count": null,
   "metadata": {},
   "outputs": [],
   "source": [
    "for k,v in dict_file.items() :\n",
    "    print(f'{k} = {v[:5]}')\n",
    "    "
   ]
  },
  {
   "cell_type": "code",
   "execution_count": null,
   "metadata": {},
   "outputs": [],
   "source": [
    "listy = list(dict_file.items())\n",
    "\n",
    "print(atrib)\n",
    "listatribtype =[]\n",
    "for t in range(len(atrib)) :\n",
    "    listatribtype.append(type(listy[t][1][0]))\n",
    "print(listatribtype)\n",
    "for y in range(0,5) :\n",
    "    listytemp = []\n",
    "    for w in range(len(atrib)) :\n",
    "        listytemp.append(listy[w][1][y])\n",
    "    print(listytemp)\n"
   ]
  },
  {
   "cell_type": "code",
   "execution_count": null,
   "metadata": {},
   "outputs": [],
   "source": [
    "def max_dict() :\n",
    "    print(atrib)\n",
    "    valid = True\n",
    "    while valid == True :\n",
    "        resp1 = input('Qual dos atributos listados você deseja analisar qual o valor máximo?')\n",
    "        if resp1 in atrib :\n",
    "            valid = False\n",
    "        else :\n",
    "            valid = True\n",
    "            print('Valor inválido.')\n",
    "    maxtest = max(list(dict_file.get(resp1)))\n",
    "    print(maxtest)\n",
    "    "
   ]
  },
  {
   "cell_type": "code",
   "execution_count": null,
   "metadata": {},
   "outputs": [],
   "source": [
    "max_dict()"
   ]
  }
 ],
 "metadata": {
  "kernelspec": {
   "display_name": "Python 3",
   "language": "python",
   "name": "python3"
  },
  "language_info": {
   "codemirror_mode": {
    "name": "ipython",
    "version": 3
   },
   "file_extension": ".py",
   "mimetype": "text/x-python",
   "name": "python",
   "nbconvert_exporter": "python",
   "pygments_lexer": "ipython3",
   "version": "3.11.3"
  },
  "orig_nbformat": 4
 },
 "nbformat": 4,
 "nbformat_minor": 2
}
