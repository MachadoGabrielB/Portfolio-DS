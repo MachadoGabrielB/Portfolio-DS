{
 "cells": [
  {
   "cell_type": "code",
   "execution_count": null,
   "metadata": {},
   "outputs": [],
   "source": [
    "#7:\n",
    "# Faça um Programa que peça os 3 lados de um triângulo. O programa deverá informar se os valores podem ser um triângulo. Indique, caso os lados formem um triângulo, se o mesmo é: equilátero, isósceles ou escaleno.\n",
    "# Dicas:\n",
    "# Três lados formam um triângulo quando a soma de quaisquer dois lados for maior que o terceiro;\n",
    "# Triângulo Equilátero: três lados iguais;\n",
    "# Triângulo Isósceles: quaisquer dois lados iguais;\n",
    "# Triângulo Escaleno: três lados diferentes;"
   ]
  },
  {
   "cell_type": "code",
   "execution_count": null,
   "metadata": {},
   "outputs": [],
   "source": [
    "list_1 =[]\n",
    "\n",
    "valid = True\n",
    "while valid == True :\n",
    "  for i in range(3):\n",
    "\n",
    "    valid2 = True\n",
    "    while valid2 == True:\n",
    "      lado = (input(f'Adicione o valor do lado {i+1} : '))\n",
    "      if lado.isnumeric() == False :\n",
    "        print('Valor inserido inválido, favor inserir novamente.')\n",
    "      elif float(lado) <= 0 :\n",
    "        print('Valor inválido, favor inserir novamente.')\n",
    "      else:\n",
    "        list_1.append(float(lado))\n",
    "        valid2 = False\n",
    "\n",
    "  list_1 = sorted(list_1, reverse= True)\n",
    "\n",
    "  if list_1[0] < list_1[1] + list_1[2] :\n",
    "    valid = False\n",
    "  else :\n",
    "    list_1 = []\n",
    "    print('Lados não atendem a proporcionalidade necessária para fazer um triângulo.')\n",
    "\n",
    "\n",
    "if list_1[0] == list_1[1] and list_1[0] == list_1[2] :\n",
    "  print('O triângulo é equilátero.')\n",
    "elif list_1[0] == list_1[1] or list_1[0] == list_1[2] or list_1[1] == list_1[2] :\n",
    "  print('O triângulo é isósceles.')\n",
    "else :\n",
    "  print('O triângulo é escaleno')\n",
    "    \n",
    "\n",
    "\n"
   ]
  },
  {
   "cell_type": "code",
   "execution_count": null,
   "metadata": {},
   "outputs": [],
   "source": [
    "#1 Desenvolva o gerador de tabuada, sem olhar o realizado em aula."
   ]
  },
  {
   "cell_type": "code",
   "execution_count": null,
   "metadata": {},
   "outputs": [],
   "source": [
    "\n",
    "for i in range(1,10) :\n",
    "    for x in range(1,10) :\n",
    "        print(f' {i} * {x} = {i * x}')"
   ]
  },
  {
   "cell_type": "code",
   "execution_count": null,
   "metadata": {},
   "outputs": [],
   "source": [
    "#2 Faça um programa que, dado um conjunto de N números, determine o menor valor, o maior valor e a soma dos valores."
   ]
  },
  {
   "cell_type": "code",
   "execution_count": null,
   "metadata": {},
   "outputs": [],
   "source": [
    "def prog1 () :\n",
    "    conj = []\n",
    "    var = float(input('Adicione um valor: '))\n",
    "    conj.append(var)\n",
    "    x = True\n",
    "    while x:\n",
    "        resp = str(input('Deseja adicionar novo valor? \"S\" para sim e \"N\" para não.')).lower()\n",
    "        if resp == 's':\n",
    "            var = float(input('Adicione um valor: '))\n",
    "            conj.append(var)\n",
    "            x = True\n",
    "        elif resp == 'n' :\n",
    "            x = False\n",
    "        else :\n",
    "            x = True\n",
    "            print('Valor inválido.')\n",
    "    cmax = sorted(conj, reverse= True)\n",
    "    max = cmax[0]\n",
    "    cmin = sorted(conj)\n",
    "    min = cmin[0]\n",
    "    soma = sum(conj)\n",
    "    print(f'\\nO conjunto é {conj}.\\nO menor valor no conjunto é {min}.\\nO maior valor no conjunto é {max}.\\nA soma dos valores é do conjunto é {soma}')\n",
    "\n",
    "prog1()"
   ]
  },
  {
   "cell_type": "code",
   "execution_count": null,
   "metadata": {},
   "outputs": [],
   "source": [
    "#3 Faça um programa que peça para n pessoas a sua idade, ao final o programa devera verificar se a média de idade da turma varia entre 0 e 25,26 e 60 e maior que 60; \n",
    "# e então, dizer se a turma é jovem, adulta ou idosa, conforme a média calculada."
   ]
  },
  {
   "cell_type": "code",
   "execution_count": null,
   "metadata": {},
   "outputs": [],
   "source": [
    "def prog2() :\n",
    "    qp = input('Quantas pessoas tem na turma? ')\n",
    "    while qp.isnumeric() == False :\n",
    "        qp = input('Isso não é um número inteiro positivo. Por favor, digite um número inteiro e positivo:')\n",
    "    idades = []\n",
    "    count = float(0)\n",
    "    while count != float(qp) :\n",
    "        count += 1\n",
    "        idpes = input(f'Qual a idade da pessoa {round(count,0)} ')\n",
    "        while idpes.isnumeric() == False :\n",
    "            idpes = input('Isso não é um número inteiro positivo. Por favor, digite um número inteiro e positivo:')\n",
    "        idades.append((float(idpes)))\n",
    "    print(f'\\nAs idades adicionadas foram {idades}.')\n",
    "    avg = sum(idades) / float(qp)\n",
    "    print(f'\\nA média de idade do conjunto de pessoas é {round(avg,2)}.')\n",
    "    if avg >= 60 :\n",
    "        print('\\nA turma é considerada uma turma idosa.')\n",
    "    elif avg >= 25 and avg < 60 :\n",
    "        print('\\nA turma é considerada uma turma adulta.')\n",
    "    else :\n",
    "        print('\\nA turma é considerada uma turma jovem.')\n",
    "\n",
    "prog2()"
   ]
  },
  {
   "cell_type": "code",
   "execution_count": null,
   "metadata": {},
   "outputs": [],
   "source": [
    "#4 O Departamento Estadual de Meteorologia lhe contratou para desenvolver um programa que leia  um conjunto x de temperaturas, \n",
    "# e informe ao final a menor e a maior temperaturas informadas, bem como a média das temperaturas.\n"
   ]
  },
  {
   "cell_type": "code",
   "execution_count": null,
   "metadata": {},
   "outputs": [],
   "source": [
    "def prog3 () :\n",
    "    lTemp = []\n",
    "    temp = float(input('Adicione o valor da temperatura: '))\n",
    "    lTemp.append(temp)\n",
    "    x = True\n",
    "    while x:\n",
    "        resp = str(input('Deseja adicionar uma nova temperatura? \"S\" para sim e \"N\" para não.')).lower()\n",
    "        if resp == 's':\n",
    "            temp = float(input('Adicione o valor da temperatura: '))\n",
    "            lTemp.append(temp)\n",
    "            x = True\n",
    "        elif resp == 'n' :\n",
    "            x = False\n",
    "        else :\n",
    "            x = True\n",
    "            print('Valor inválido.')\n",
    "    \n",
    "    print(f'\\nO conjunto de temperatura é {lTemp}')\n",
    "    tmax = sorted(lTemp, reverse= True)\n",
    "    max = tmax[0]\n",
    "    tmin = sorted(lTemp)\n",
    "    min = tmin[0]\n",
    "    avgtemp = sum(lTemp) / len(lTemp)\n",
    "    print(f'\\nO menor valor no conjunto é {min}.\\nO maior valor no conjunto é {max}.\\nA soma dos valores é do conjunto é {avgtemp}')\n",
    "\n",
    "prog3()"
   ]
  },
  {
   "cell_type": "code",
   "execution_count": null,
   "metadata": {},
   "outputs": [],
   "source": [
    "#5 Faça um programa que leia uma quantidade indeterminada de números positivos e conte quantos deles estão nos seguintes intervalos: [0-25], [26-50], [51-75] e [76-100]. \n",
    "# A entrada de dados deverá terminar quando for lido um número negativo."
   ]
  },
  {
   "cell_type": "code",
   "execution_count": null,
   "metadata": {},
   "outputs": [],
   "source": [
    "def prog4 () :\n",
    "    listN = []\n",
    "    x = True\n",
    "    while x == True :\n",
    "        N = input('Adicione um valor: ')\n",
    "        if N.isnumeric() == True :\n",
    "            listN.append(int(N))\n",
    "            x = True\n",
    "        else :\n",
    "            x = False\n",
    "    print(listN)\n",
    "    listN1 = 0  #[0,25]\n",
    "    listN2 = 0  #[26,50]\n",
    "    listN3 = 0  #[51,75]\n",
    "    listN4 = 0  #[76,100]\n",
    "    for i in range(len(listN)) :\n",
    "        if listN[i] >=0 and listN[i] <= 25 :\n",
    "            listN1 += 1\n",
    "        elif listN[i] >25 and listN[i] <= 50 :\n",
    "            listN2 += 1\n",
    "        elif listN[i] >50 and listN[i] <= 75 :\n",
    "            listN3 += 1\n",
    "        elif listN[i] >75 and listN[i] <= 100 :\n",
    "            listN4 += 1\n",
    "    print(f' \\nNúmeros entre 0 e 25: {listN1}.\\nNúmeros entre 26 e 50: {listN2}.\\nNúmeros entre 51 e 75: {listN3}.\\nNúmeros entre 76 e 100: {listN4}')\n",
    "      \n",
    "       \n",
    "\n",
    "prog4()"
   ]
  }
 ],
 "metadata": {
  "kernelspec": {
   "display_name": "Python 3",
   "language": "python",
   "name": "python3"
  },
  "language_info": {
   "codemirror_mode": {
    "name": "ipython",
    "version": 3
   },
   "file_extension": ".py",
   "mimetype": "text/x-python",
   "name": "python",
   "nbconvert_exporter": "python",
   "pygments_lexer": "ipython3",
   "version": "3.11.3"
  },
  "orig_nbformat": 4
 },
 "nbformat": 4,
 "nbformat_minor": 2
}
