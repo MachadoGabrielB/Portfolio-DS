{
 "cells": [
  {
   "attachments": {},
   "cell_type": "markdown",
   "metadata": {},
   "source": [
    "A Calabouço Discos é uma loja de vinis que resiste ao digital com álbuns clássicos de lendas do rock. Os álbuns são catalogados por: id, ano, artista, gênero, título, preço. Os clientes são armazenados com id, nome e idade. E as vendas da loja são armazenadas da seguinte maneira: id, id_cliente, ids_albuns (que é uma lista de IDs com os albuns que a pessoa comprou), total_da_venda. Utilizando dicionários, crie um código para registrar as vendas e ao final apresentar o fechamento do dia, apresentando as vendas uma a uma. \n",
    "\n",
    "Quantas vendas foram realizadas?\n",
    "Qual foi o faturamento total da loja? \n",
    "Qual cliente mais gastou? \n",
    "Qual foi a maior compra?\n",
    "Qual é o álbum mais vendido?\n",
    "Quais são os gêneros mais comprados pelas faixas de idade abaixo: \n",
    "18 a 25 anos\n",
    "25 a 35 anos \n",
    "35 a 55 anos \n",
    "acima de 55 anos"
   ]
  },
  {
   "cell_type": "code",
   "execution_count": 1,
   "metadata": {},
   "outputs": [],
   "source": [
    "# Criação dos dados iniciais para trabalho\n",
    "albuns = { '1' : {\"ano\": 1990, \"artista\": \"artista a\", \"gênero\": \"rock\", \"título\": \"rock bamba\", \"preço\": 40.00},\n",
    "    '2' : { \"ano\": 2001, \"artista\": \"artista b\", \"gênero\": \"samba\", \"título\": \"roda de samba\", \"preço\": 39.80},\n",
    "    '3' : { \"ano\": 2012, \"artista\": \"artista c\", \"gênero\": \"pagode\", \"título\": \"tardezinha\", \"preço\": 41.20}}\n",
    "\n",
    "clientes = { '1' : {\"nome\": \"João\", \"idade\": 22},\n",
    "    '2' : {\"nome\": \"Maria\", \"idade\": 35},\n",
    "    '3' : {\"nome\": \"Pedro\", \"idade\": 60},}\n"
   ]
  },
  {
   "cell_type": "code",
   "execution_count": 2,
   "metadata": {},
   "outputs": [],
   "source": [
    "# Criação do registro das vendas\n",
    "\n",
    "vendas = []\n",
    "# vendas = [ 'id' : [] , 'id_cliente' : [], 'id_album' : [] , 'valor_venda' : [] ]\n",
    "\n",
    "id = 0\n",
    "id_album = ''\n",
    "\n",
    "class Contador () :\n",
    "    \n",
    "    counter = 0\n",
    "\n",
    "    @classmethod\n",
    "    def contador (cls) :\n",
    "        cls.counter += 1\n",
    "        return cls.counter\n",
    "\n",
    "\n",
    "#Declarando a função venda\n",
    "def registro_vendas () :\n",
    "\n",
    "    # Gerando o ID da venda\n",
    "    id = Contador.contador()\n",
    "    print(f'O ID da venda é {id}.')\n",
    "\n",
    "\n",
    "    # Declarando variáveis\n",
    "    albuns_vendidos = []\n",
    "    valor_venda = 0\n",
    "    id_album = ''\n",
    "\n",
    "    # Declarando o ID do cliente da venda\n",
    "    while True :\n",
    "        id_cliente = str(input('Qual o ID do cliente que está comprando?'))\n",
    "        if id_cliente in clientes:\n",
    "            break\n",
    "        else:\n",
    "            print('Valor inválido. Insira novamente.')\n",
    "            continue\n",
    "    \n",
    "    # Declarando os albuns vendidos\n",
    "    while True :\n",
    "        id_album = str(input('Qual o ID do album vendido?'))\n",
    "        if id_album in albuns :\n",
    "            albuns_vendidos.append(id_album)\n",
    "            print(albuns_vendidos)\n",
    "            resp1 = str(input('Deseja adicionar mais ul album a venda?\\n\"1\" - SIM\\n\"2\" - NÃO'))\n",
    "            if resp1 == '1' :\n",
    "                continue\n",
    "            else:\n",
    "                break\n",
    "        else:\n",
    "            print('Valor inválido. Insira novamente.')\n",
    "            continue\n",
    "\n",
    "    # Declarando valor total da venda\n",
    "    for elem in albuns_vendidos :\n",
    "        valor = albuns[elem].get('preço')\n",
    "        valor_venda += valor\n",
    "\n",
    "    # Guardando os valores dentro do dicionário de vendas\n",
    "    # vendas = [ ['id'] , ['id_cliente'], ['albuns_venvidos'] , ['valor_venda'] ]\n",
    "    \n",
    "    return vendas.append([id, id_cliente, albuns_vendidos, valor_venda])\n",
    "\n",
    "        "
   ]
  },
  {
   "cell_type": "code",
   "execution_count": 3,
   "metadata": {},
   "outputs": [
    {
     "name": "stdout",
     "output_type": "stream",
     "text": [
      "O ID da venda é 1.\n",
      "['3']\n"
     ]
    }
   ],
   "source": [
    "# Testando a função de registro de vendas\n",
    "registro_vendas()"
   ]
  },
  {
   "cell_type": "code",
   "execution_count": 4,
   "metadata": {},
   "outputs": [
    {
     "data": {
      "text/plain": [
       "[[1, '3', ['3'], 41.2]]"
      ]
     },
     "execution_count": 4,
     "metadata": {},
     "output_type": "execute_result"
    }
   ],
   "source": [
    "# Conferindo se guardou os dados\n",
    "vendas"
   ]
  },
  {
   "cell_type": "code",
   "execution_count": 5,
   "metadata": {},
   "outputs": [
    {
     "name": "stdout",
     "output_type": "stream",
     "text": [
      "\n",
      "    ID vendas: 1\n",
      "    Dados cliente: {'nome': 'Pedro', 'idade': 60}\n",
      "    Valor total da venda: R$ 41.2\n",
      "    \n",
      "{'ano': 2012, 'artista': 'artista c', 'gênero': 'pagode', 'título': 'tardezinha', 'preço': 41.2}\n"
     ]
    }
   ],
   "source": [
    "# Mostrando o registro de todas as vendas\n",
    "\n",
    "for a in vendas :\n",
    "    a1 = clientes.get(a[1])\n",
    "    print(\n",
    "        f'''\n",
    "    ID vendas: {a[0]}\n",
    "    Dados cliente: {a1}\n",
    "    Valor total da venda: R$ {a[3]}\n",
    "    '''\n",
    "    )\n",
    "    for b in a[2] :\n",
    "         # \"ano\": 1990, \"artista\": \"artista a\", \"gênero\": \"rock\", \"título\": \"rock bamba\", \"preço\": 40.00\n",
    "        b1 = albuns.get(b)\n",
    "        print(b1)\n",
    "        f'''\n",
    "        Albuns da venda:\n",
    "        ID album: {b1}\n",
    "        '''\n",
    "    "
   ]
  },
  {
   "cell_type": "code",
   "execution_count": 6,
   "metadata": {},
   "outputs": [
    {
     "data": {
      "text/plain": [
       "'A loja apresentou o total de 1 vendas.'"
      ]
     },
     "execution_count": 6,
     "metadata": {},
     "output_type": "execute_result"
    }
   ],
   "source": [
    "# Quantas vendas foram realizadas ?\n",
    "\n",
    "quantidade_vendas = 0\n",
    "\n",
    "for a in vendas :\n",
    "    w = a[0]\n",
    "    if w > quantidade_vendas :\n",
    "        quantidade_vendas = w\n",
    "\n",
    "f'A loja apresentou o total de {quantidade_vendas} vendas.'"
   ]
  },
  {
   "cell_type": "code",
   "execution_count": 7,
   "metadata": {},
   "outputs": [
    {
     "data": {
      "text/plain": [
       "'A loja apresentou o total de R$ 41.2 em vendas.'"
      ]
     },
     "execution_count": 7,
     "metadata": {},
     "output_type": "execute_result"
    }
   ],
   "source": [
    "# valor total de venda na loja\n",
    "\n",
    "loja_valorvenda = 0\n",
    "\n",
    "for a in vendas :\n",
    "    z = a[3]\n",
    "    loja_valorvenda += z\n",
    "\n",
    "\n",
    "f'A loja apresentou o total de R$ {loja_valorvenda} em vendas.'"
   ]
  },
  {
   "cell_type": "code",
   "execution_count": 8,
   "metadata": {},
   "outputs": [
    {
     "data": {
      "text/plain": [
       "'O cliente que mais comprou na loja foi Pedro, sendo um valor total de compra de R$ 41.2.'"
      ]
     },
     "execution_count": 8,
     "metadata": {},
     "output_type": "execute_result"
    }
   ],
   "source": [
    "# Qual cliente gastou mais?\n",
    "\n",
    "# Criando dicionário com o cliente e valor agregado de compra\n",
    "cliente_venda_acum = dict()\n",
    "\n",
    "for a in vendas :\n",
    "    ncliente = a[1]\n",
    "    v_venda = a[3]\n",
    "    if ncliente not in cliente_venda_acum :\n",
    "        cliente_venda_acum[ncliente] = v_venda\n",
    "    else:\n",
    "        v1_venda = (cliente_venda_acum.get(ncliente))\n",
    "        cliente_venda_acum[ncliente] = (float(v1_venda) + float(v_venda))\n",
    "\n",
    "\n",
    "# imprimindo dicionário resultante\n",
    "# print(cliente_venda_acum)\n",
    "\n",
    "\n",
    "# buscando pelo cliente com maior volume de compra acumulado\n",
    "\n",
    "max_cliente_vt = 0\n",
    "id_max_cliente_vt = ''\n",
    "\n",
    "for a in cliente_venda_acum :\n",
    "    \n",
    "    w = cliente_venda_acum[a]\n",
    "    if w > max_cliente_vt :\n",
    "        max_cliente_vt = w\n",
    "        id_max_cliente_vt = a\n",
    "\n",
    "nome_max_cliente_vt = clientes.get(id_max_cliente_vt)['nome']\n",
    "\n",
    "    \n",
    "f'O cliente que mais comprou na loja foi {nome_max_cliente_vt}, sendo um valor total de compra de R$ {max_cliente_vt}.'\n"
   ]
  },
  {
   "cell_type": "code",
   "execution_count": 9,
   "metadata": {},
   "outputs": [
    {
     "data": {
      "text/plain": [
       "'O valor da maior compra foi R$ 41.2.'"
      ]
     },
     "execution_count": 9,
     "metadata": {},
     "output_type": "execute_result"
    }
   ],
   "source": [
    "# Qual foi a maior compra ?\n",
    "\n",
    "maior_compra = 0\n",
    "\n",
    "for a in vendas :\n",
    "    w = a[3]\n",
    "    if w > maior_compra :\n",
    "        maior_compra = w\n",
    "\n",
    "f'O valor da maior compra foi R$ {maior_compra}.'\n"
   ]
  },
  {
   "cell_type": "code",
   "execution_count": 10,
   "metadata": {},
   "outputs": [
    {
     "data": {
      "text/plain": [
       "'O album mais vendido na loja foi tardezinha, sendo a quantidade total de 1.'"
      ]
     },
     "execution_count": 10,
     "metadata": {},
     "output_type": "execute_result"
    }
   ],
   "source": [
    "# Qual é o album mais vendido?\n",
    "\n",
    "# Criando dicionário com album e quantidade vendida\n",
    "\n",
    "album_quant_acum = dict()\n",
    "\n",
    "for a in vendas :\n",
    "    b = a[2]\n",
    "    for c in b :\n",
    "        if c not in album_quant_acum :\n",
    "            album_quant_acum[c] = 1\n",
    "        else :\n",
    "            album_quant_acum[c] += 1\n",
    "\n",
    "# Conferindo dicionário resultante\n",
    "# print(album_quant_acum)\n",
    "\n",
    "#Buscando pelo album mais vendido\n",
    "\n",
    "max_album_quant = 0\n",
    "id_max_album_quant = ''\n",
    "\n",
    "for a in album_quant_acum :\n",
    "    w = album_quant_acum[a]\n",
    "    if w > max_album_quant :\n",
    "        max_album_quant = w\n",
    "        id_max_album_quant = a\n",
    "\n",
    "nome_max_album_quant = albuns.get(id_max_album_quant)['título']\n",
    "\n",
    "    \n",
    "f'O album mais vendido na loja foi {nome_max_album_quant}, sendo a quantidade total de {max_album_quant}.'\n",
    "\n"
   ]
  },
  {
   "cell_type": "code",
   "execution_count": 11,
   "metadata": {},
   "outputs": [
    {
     "name": "stdout",
     "output_type": "stream",
     "text": [
      "{'18-25': {'rock': 0, 'samba': 0, 'pagode': 0}, '25-35': {'rock': 0, 'samba': 0, 'pagode': 0}, '35-55': {'rock': 0, 'samba': 0, 'pagode': 0}, '55+': {'rock': 0, 'samba': 0, 'pagode': 0}}\n",
      "{'18-25': {'rock': 0, 'samba': 0, 'pagode': 1}, '25-35': {'rock': 0, 'samba': 0, 'pagode': 1}, '35-55': {'rock': 0, 'samba': 0, 'pagode': 1}, '55+': {'rock': 0, 'samba': 0, 'pagode': 1}}\n"
     ]
    }
   ],
   "source": [
    "# Quais são os gêneros mais comprados pelas faixas de idade abaixo: \n",
    "# 18 a 25 anos\n",
    "# 25 a 35 anos \n",
    "# 35 a 55 anos \n",
    "# acima de 55 anos\n",
    "\n",
    "# criando dicionário das  faixas estárias, que armazena genero e quantidade por genero.\n",
    "\n",
    "dict_gen_faixa = dict()\n",
    "dict_gen_faixa1 = dict()\n",
    "genero = []\n",
    "genero1 = []\n",
    "faixas = ['18-25','25-35','35-55','55+']\n",
    "\n",
    "\n",
    "for a in albuns :\n",
    "    b = albuns.get(a)['gênero']\n",
    "    if b not in genero :\n",
    "        genero.append([a,b])\n",
    "        genero1.append(b)\n",
    "\n",
    "# verificando lista de gênero\n",
    "# print(genero)\n",
    "# print(genero1)\n",
    "\n",
    "for a in genero1 :\n",
    "    dict_gen_faixa1.setdefault(a,0)\n",
    "for a in faixas :\n",
    "    dict_gen_faixa.setdefault(a,dict_gen_faixa1)\n",
    "\n",
    "#verificando dicionário vazio\n",
    "# print(dict_gen_faixa1)\n",
    "print(dict_gen_faixa)\n",
    "\n",
    "# Adicionando valores no dicionário conforme lista de venda\n",
    "\n",
    "for a in vendas :\n",
    "    # descobrindo a faixa etária da venda\n",
    "    b = a[1]\n",
    "    c = clientes[b]['idade']\n",
    "    # print(type(c))\n",
    "    # print(c)\n",
    "    if c > 0 and c < 25 :\n",
    "        faixaet = '18-25'\n",
    "    elif c >= 25 and c < 35 :\n",
    "        faixaet = '25-35'\n",
    "    elif c>= 35 and c < 55 :\n",
    "        faixaet = '35-55'\n",
    "    else :\n",
    "        faixaet = '55+'\n",
    "    # print(faixaet)\n",
    "\n",
    "    # adicionado valores ao dicionário conforme faixa etária e gênero\n",
    "    teste = a[2]\n",
    "    # print(teste)\n",
    "    for e in teste :\n",
    "        # print(e)\n",
    "        # print(faixaet)\n",
    "        gen = albuns.get(e)['gênero']  \n",
    "        # dict_gen_faixa[faixaet][gen] = dict_gen_faixa.get(faixaet).get(gen,0) +1\n",
    "        dict_gen_faixa[faixaet][gen] += 1\n",
    "    \n",
    "    \n",
    "print(dict_gen_faixa)\n",
    "\n"
   ]
  }
 ],
 "metadata": {
  "kernelspec": {
   "display_name": "Python 3",
   "language": "python",
   "name": "python3"
  },
  "language_info": {
   "codemirror_mode": {
    "name": "ipython",
    "version": 3
   },
   "file_extension": ".py",
   "mimetype": "text/x-python",
   "name": "python",
   "nbconvert_exporter": "python",
   "pygments_lexer": "ipython3",
   "version": "3.11.3"
  },
  "orig_nbformat": 4
 },
 "nbformat": 4,
 "nbformat_minor": 2
}
